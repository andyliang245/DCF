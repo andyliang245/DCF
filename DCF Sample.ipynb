{
 "cells": [
  {
   "cell_type": "code",
   "execution_count": 1,
   "metadata": {},
   "outputs": [],
   "source": [
    "import requests\n",
    "import numpy as np\n",
    "import pandas as pd\n",
    "import datetime\n",
    "from dotenv import load_dotenv\n",
    "import os\n",
    "import matplotlib.pyplot as plt\n",
    "import alpaca_trade_api as tradeapi\n",
    "from MCForecastTools import MCSimulation\n",
    "import pandas_datareader.data as web\n",
    "%matplotlib inline"
   ]
  },
  {
   "cell_type": "code",
   "execution_count": 2,
   "metadata": {},
   "outputs": [],
   "source": [
    "load_dotenv('.env') \r\n",
    "\r\n",
    "fmp_key = os.getenv('FMP_API')\r\n",
    "\r\n",
    "alpaca_api_key = os.getenv(\"ALPACA_API_KEY\")\r\n",
    "alpaca_secret_key = os.getenv(\"ALPACA_SECRET_KEY\")\r\n",
    "\r\n",
    "api = tradeapi.REST(\r\n",
    "    alpaca_api_key,\r\n",
    "    alpaca_secret_key,\r\n",
    "    api_version = \"v2\"\r\n",
    ")\r\n",
    "\r\n",
    "timeframe = \"1D\"\r\n",
    "\r\n",
    "start_date = pd.Timestamp(\"2020-03-31\", tz=\"America/New_York\").isoformat()\r\n",
    "end_date = pd.Timestamp(\"2021-03-31\", tz=\"America/New_York\").isoformat()\r\n",
    "\r\n",
    "type(fmp_key)\r\n",
    "\r\n",
    "company = 'PFE'"
   ]
  },
  {
   "cell_type": "code",
   "execution_count": 3,
   "metadata": {},
   "outputs": [],
   "source": [
    "inc_stmt = requests.get(f'https://financialmodelingprep.com/api/v3/income-statement/{company}?apikey={fmp_key}').json()\r\n",
    "bal_sht = requests.get(f'https://financialmodelingprep.com/api/v3/balance-sheet-statement/{company}?apikey={fmp_key}').json()\r\n",
    "shares_outstanding = requests.get(f'https://financialmodelingprep.com/api/v3/enterprise-values/{company}?apikey={fmp_key}').json()"
   ]
  },
  {
   "cell_type": "code",
   "execution_count": 4,
   "metadata": {},
   "outputs": [
    {
     "name": "stderr",
     "output_type": "stream",
     "text": [
      "C:\\Users\\andyl\\anaconda3\\envs\\alpacaenv\\lib\\site-packages\\ipykernel_launcher.py:17: SettingWithCopyWarning: \n",
      "A value is trying to be set on a copy of a slice from a DataFrame.\n",
      "Try using .loc[row_indexer,col_indexer] = value instead\n",
      "\n",
      "See the caveats in the documentation: https://pandas.pydata.org/pandas-docs/stable/user_guide/indexing.html#returning-a-view-versus-a-copy\n",
      "C:\\Users\\andyl\\anaconda3\\envs\\alpacaenv\\lib\\site-packages\\ipykernel_launcher.py:18: SettingWithCopyWarning: \n",
      "A value is trying to be set on a copy of a slice from a DataFrame.\n",
      "Try using .loc[row_indexer,col_indexer] = value instead\n",
      "\n",
      "See the caveats in the documentation: https://pandas.pydata.org/pandas-docs/stable/user_guide/indexing.html#returning-a-view-versus-a-copy\n",
      "C:\\Users\\andyl\\anaconda3\\envs\\alpacaenv\\lib\\site-packages\\ipykernel_launcher.py:19: SettingWithCopyWarning: \n",
      "A value is trying to be set on a copy of a slice from a DataFrame.\n",
      "Try using .loc[row_indexer,col_indexer] = value instead\n",
      "\n",
      "See the caveats in the documentation: https://pandas.pydata.org/pandas-docs/stable/user_guide/indexing.html#returning-a-view-versus-a-copy\n",
      "C:\\Users\\andyl\\anaconda3\\envs\\alpacaenv\\lib\\site-packages\\ipykernel_launcher.py:20: SettingWithCopyWarning: \n",
      "A value is trying to be set on a copy of a slice from a DataFrame.\n",
      "Try using .loc[row_indexer,col_indexer] = value instead\n",
      "\n",
      "See the caveats in the documentation: https://pandas.pydata.org/pandas-docs/stable/user_guide/indexing.html#returning-a-view-versus-a-copy\n",
      "C:\\Users\\andyl\\anaconda3\\envs\\alpacaenv\\lib\\site-packages\\ipykernel_launcher.py:21: SettingWithCopyWarning: \n",
      "A value is trying to be set on a copy of a slice from a DataFrame.\n",
      "Try using .loc[row_indexer,col_indexer] = value instead\n",
      "\n",
      "See the caveats in the documentation: https://pandas.pydata.org/pandas-docs/stable/user_guide/indexing.html#returning-a-view-versus-a-copy\n"
     ]
    },
    {
     "data": {
      "text/html": "<div>\n<style scoped>\n    .dataframe tbody tr th:only-of-type {\n        vertical-align: middle;\n    }\n\n    .dataframe tbody tr th {\n        vertical-align: top;\n    }\n\n    .dataframe thead th {\n        text-align: right;\n    }\n</style>\n<table border=\"1\" class=\"dataframe\">\n  <thead>\n    <tr style=\"text-align: right;\">\n      <th></th>\n      <th>PY-4</th>\n      <th>PY-3</th>\n      <th>PY-2</th>\n      <th>PY-1</th>\n      <th>CY</th>\n      <th>Pct of Revenue</th>\n      <th>FY+1 est</th>\n      <th>FY+2 est</th>\n      <th>FY+3 est</th>\n      <th>FY+4 est</th>\n      <th>FY+5 est</th>\n    </tr>\n  </thead>\n  <tbody>\n    <tr>\n      <th>revenue</th>\n      <td>52824000000</td>\n      <td>52546000000</td>\n      <td>53647000000</td>\n      <td>51750000000</td>\n      <td>41908000000</td>\n      <td>1</td>\n      <td>3.95515e+10</td>\n      <td>3.73276e+10</td>\n      <td>3.52287e+10</td>\n      <td>3.32478e+10</td>\n      <td>3.13783e+10</td>\n    </tr>\n    <tr>\n      <th>costOfRevenue</th>\n      <td>12329000000</td>\n      <td>11240000000</td>\n      <td>11248000000</td>\n      <td>10219000000</td>\n      <td>8692000000</td>\n      <td>0.207407</td>\n      <td>8.20325e+09</td>\n      <td>7.74199e+09</td>\n      <td>7.30666e+09</td>\n      <td>6.89581e+09</td>\n      <td>6.50806e+09</td>\n    </tr>\n    <tr>\n      <th>grossProfit</th>\n      <td>40495000000</td>\n      <td>41306000000</td>\n      <td>42399000000</td>\n      <td>41531000000</td>\n      <td>33216000000</td>\n      <td>0.792593</td>\n      <td>3.13483e+10</td>\n      <td>2.95856e+10</td>\n      <td>2.7922e+10</td>\n      <td>2.6352e+10</td>\n      <td>2.48702e+10</td>\n    </tr>\n    <tr>\n      <th>grossProfitRatio</th>\n      <td>0.766602</td>\n      <td>0.786092</td>\n      <td>0.790333</td>\n      <td>0.802531</td>\n      <td>0.792593</td>\n      <td>1.89127e-11</td>\n      <td>0.748026</td>\n      <td>0.705965</td>\n      <td>0.666269</td>\n      <td>0.628805</td>\n      <td>0.593448</td>\n    </tr>\n    <tr>\n      <th>researchAndDevelopmentExpenses</th>\n      <td>7872000000</td>\n      <td>7657000000</td>\n      <td>8006000000</td>\n      <td>8650000000</td>\n      <td>9405000000</td>\n      <td>0.22442</td>\n      <td>8.87616e+09</td>\n      <td>8.37706e+09</td>\n      <td>7.90602e+09</td>\n      <td>7.46147e+09</td>\n      <td>7.04192e+09</td>\n    </tr>\n    <tr>\n      <th>generalAndAdministrativeExpenses</th>\n      <td>14837000000</td>\n      <td>14784000000</td>\n      <td>14455000000</td>\n      <td>14350000000</td>\n      <td>11615000000</td>\n      <td>0.277155</td>\n      <td>1.09619e+10</td>\n      <td>1.03455e+10</td>\n      <td>9.76379e+09</td>\n      <td>9.21478e+09</td>\n      <td>8.69664e+09</td>\n    </tr>\n    <tr>\n      <th>sellingAndMarketingExpenses</th>\n      <td>0</td>\n      <td>0</td>\n      <td>0</td>\n      <td>0</td>\n      <td>0</td>\n      <td>0</td>\n      <td>0</td>\n      <td>0</td>\n      <td>0</td>\n      <td>0</td>\n      <td>0</td>\n    </tr>\n    <tr>\n      <th>otherExpenses</th>\n      <td>820000000</td>\n      <td>981000000</td>\n      <td>1628000000</td>\n      <td>1140000000</td>\n      <td>1825000000</td>\n      <td>0.0435478</td>\n      <td>1.72238e+09</td>\n      <td>1.62553e+09</td>\n      <td>1.53413e+09</td>\n      <td>1.44787e+09</td>\n      <td>1.36645e+09</td>\n    </tr>\n    <tr>\n      <th>operatingExpenses</th>\n      <td>26765000000</td>\n      <td>27199000000</td>\n      <td>27354000000</td>\n      <td>27610000000</td>\n      <td>24456000000</td>\n      <td>0.583564</td>\n      <td>2.30809e+10</td>\n      <td>2.1783e+10</td>\n      <td>2.05582e+10</td>\n      <td>1.94022e+10</td>\n      <td>1.83112e+10</td>\n    </tr>\n    <tr>\n      <th>costAndExpenses</th>\n      <td>39094000000</td>\n      <td>38439000000</td>\n      <td>38602000000</td>\n      <td>37829000000</td>\n      <td>33148000000</td>\n      <td>0.790971</td>\n      <td>3.12841e+10</td>\n      <td>2.9525e+10</td>\n      <td>2.78648e+10</td>\n      <td>2.6298e+10</td>\n      <td>2.48193e+10</td>\n    </tr>\n    <tr>\n      <th>interestExpense</th>\n      <td>1186000000</td>\n      <td>1270000000</td>\n      <td>1316000000</td>\n      <td>1574000000</td>\n      <td>1449000000</td>\n      <td>0.0345757</td>\n      <td>1.36752e+09</td>\n      <td>1.29063e+09</td>\n      <td>1.21806e+09</td>\n      <td>1.14957e+09</td>\n      <td>1.08493e+09</td>\n    </tr>\n    <tr>\n      <th>depreciationAndAmortization</th>\n      <td>4056000000</td>\n      <td>4758000000</td>\n      <td>4893000000</td>\n      <td>4610000000</td>\n      <td>3436000000</td>\n      <td>0.0819891</td>\n      <td>3.2428e+09</td>\n      <td>3.06045e+09</td>\n      <td>2.88837e+09</td>\n      <td>2.72596e+09</td>\n      <td>2.57268e+09</td>\n    </tr>\n    <tr>\n      <th>ebitda</th>\n      <td>17786000000</td>\n      <td>18865000000</td>\n      <td>19938000000</td>\n      <td>18531000000</td>\n      <td>12196000000</td>\n      <td>0.291018</td>\n      <td>1.15102e+10</td>\n      <td>1.0863e+10</td>\n      <td>1.02522e+10</td>\n      <td>9.67571e+09</td>\n      <td>9.13165e+09</td>\n    </tr>\n    <tr>\n      <th>ebitdaratio</th>\n      <td>0.336703</td>\n      <td>0.359019</td>\n      <td>0.371652</td>\n      <td>0.358087</td>\n      <td>0.291018</td>\n      <td>6.94422e-12</td>\n      <td>0.274655</td>\n      <td>0.259211</td>\n      <td>0.244636</td>\n      <td>0.23088</td>\n      <td>0.217898</td>\n    </tr>\n    <tr>\n      <th>operatingIncome</th>\n      <td>13730000000</td>\n      <td>14107000000</td>\n      <td>15045000000</td>\n      <td>13921000000</td>\n      <td>8760000000</td>\n      <td>0.209029</td>\n      <td>8.26743e+09</td>\n      <td>7.80256e+09</td>\n      <td>7.36382e+09</td>\n      <td>6.94976e+09</td>\n      <td>6.55898e+09</td>\n    </tr>\n    <tr>\n      <th>operatingIncomeRatio</th>\n      <td>0.25992</td>\n      <td>0.26847</td>\n      <td>0.280444</td>\n      <td>0.269005</td>\n      <td>0.209029</td>\n      <td>4.98781e-12</td>\n      <td>0.197276</td>\n      <td>0.186183</td>\n      <td>0.175714</td>\n      <td>0.165834</td>\n      <td>0.156509</td>\n    </tr>\n    <tr>\n      <th>totalOtherIncomeExpensesNet</th>\n      <td>-4663000000</td>\n      <td>-923000000</td>\n      <td>-2178000000</td>\n      <td>5108000000</td>\n      <td>113000000</td>\n      <td>0.00269638</td>\n      <td>1.06646e+08</td>\n      <td>1.00649e+08</td>\n      <td>9.499e+07</td>\n      <td>8.96487e+07</td>\n      <td>8.46078e+07</td>\n    </tr>\n    <tr>\n      <th>incomeBeforeTax</th>\n      <td>8351000000</td>\n      <td>12305000000</td>\n      <td>11885000000</td>\n      <td>17682000000</td>\n      <td>7497000000</td>\n      <td>0.178892</td>\n      <td>7.07545e+09</td>\n      <td>6.6776e+09</td>\n      <td>6.30212e+09</td>\n      <td>5.94776e+09</td>\n      <td>5.61332e+09</td>\n    </tr>\n    <tr>\n      <th>incomeBeforeTaxRatio</th>\n      <td>0.158091</td>\n      <td>0.234176</td>\n      <td>0.221541</td>\n      <td>0.341681</td>\n      <td>0.178892</td>\n      <td>4.26868e-12</td>\n      <td>0.168833</td>\n      <td>0.159339</td>\n      <td>0.15038</td>\n      <td>0.141924</td>\n      <td>0.133944</td>\n    </tr>\n    <tr>\n      <th>incomeTaxExpense</th>\n      <td>1123000000</td>\n      <td>-9049000000</td>\n      <td>706000000</td>\n      <td>1384000000</td>\n      <td>477000000</td>\n      <td>0.0113821</td>\n      <td>4.50179e+08</td>\n      <td>4.24865e+08</td>\n      <td>4.00975e+08</td>\n      <td>3.78429e+08</td>\n      <td>3.5715e+08</td>\n    </tr>\n    <tr>\n      <th>netIncome</th>\n      <td>7215000000</td>\n      <td>21308000000</td>\n      <td>11153000000</td>\n      <td>16273000000</td>\n      <td>9616000000</td>\n      <td>0.229455</td>\n      <td>9.0753e+09</td>\n      <td>8.565e+09</td>\n      <td>8.08339e+09</td>\n      <td>7.62887e+09</td>\n      <td>7.1999e+09</td>\n    </tr>\n  </tbody>\n</table>\n</div>",
      "text/plain": "                                         PY-4         PY-3         PY-2  \\\nrevenue                           52824000000  52546000000  53647000000   \ncostOfRevenue                     12329000000  11240000000  11248000000   \ngrossProfit                       40495000000  41306000000  42399000000   \ngrossProfitRatio                     0.766602     0.786092     0.790333   \nresearchAndDevelopmentExpenses     7872000000   7657000000   8006000000   \ngeneralAndAdministrativeExpenses  14837000000  14784000000  14455000000   \nsellingAndMarketingExpenses                 0            0            0   \notherExpenses                       820000000    981000000   1628000000   \noperatingExpenses                 26765000000  27199000000  27354000000   \ncostAndExpenses                   39094000000  38439000000  38602000000   \ninterestExpense                    1186000000   1270000000   1316000000   \ndepreciationAndAmortization        4056000000   4758000000   4893000000   \nebitda                            17786000000  18865000000  19938000000   \nebitdaratio                          0.336703     0.359019     0.371652   \noperatingIncome                   13730000000  14107000000  15045000000   \noperatingIncomeRatio                  0.25992      0.26847     0.280444   \ntotalOtherIncomeExpensesNet       -4663000000   -923000000  -2178000000   \nincomeBeforeTax                    8351000000  12305000000  11885000000   \nincomeBeforeTaxRatio                 0.158091     0.234176     0.221541   \nincomeTaxExpense                   1123000000  -9049000000    706000000   \nnetIncome                          7215000000  21308000000  11153000000   \n\n                                         PY-1           CY Pct of Revenue  \\\nrevenue                           51750000000  41908000000              1   \ncostOfRevenue                     10219000000   8692000000       0.207407   \ngrossProfit                       41531000000  33216000000       0.792593   \ngrossProfitRatio                     0.802531     0.792593    1.89127e-11   \nresearchAndDevelopmentExpenses     8650000000   9405000000        0.22442   \ngeneralAndAdministrativeExpenses  14350000000  11615000000       0.277155   \nsellingAndMarketingExpenses                 0            0              0   \notherExpenses                      1140000000   1825000000      0.0435478   \noperatingExpenses                 27610000000  24456000000       0.583564   \ncostAndExpenses                   37829000000  33148000000       0.790971   \ninterestExpense                    1574000000   1449000000      0.0345757   \ndepreciationAndAmortization        4610000000   3436000000      0.0819891   \nebitda                            18531000000  12196000000       0.291018   \nebitdaratio                          0.358087     0.291018    6.94422e-12   \noperatingIncome                   13921000000   8760000000       0.209029   \noperatingIncomeRatio                 0.269005     0.209029    4.98781e-12   \ntotalOtherIncomeExpensesNet        5108000000    113000000     0.00269638   \nincomeBeforeTax                   17682000000   7497000000       0.178892   \nincomeBeforeTaxRatio                 0.341681     0.178892    4.26868e-12   \nincomeTaxExpense                   1384000000    477000000      0.0113821   \nnetIncome                         16273000000   9616000000       0.229455   \n\n                                     FY+1 est     FY+2 est     FY+3 est  \\\nrevenue                           3.95515e+10  3.73276e+10  3.52287e+10   \ncostOfRevenue                     8.20325e+09  7.74199e+09  7.30666e+09   \ngrossProfit                       3.13483e+10  2.95856e+10   2.7922e+10   \ngrossProfitRatio                     0.748026     0.705965     0.666269   \nresearchAndDevelopmentExpenses    8.87616e+09  8.37706e+09  7.90602e+09   \ngeneralAndAdministrativeExpenses  1.09619e+10  1.03455e+10  9.76379e+09   \nsellingAndMarketingExpenses                 0            0            0   \notherExpenses                     1.72238e+09  1.62553e+09  1.53413e+09   \noperatingExpenses                 2.30809e+10   2.1783e+10  2.05582e+10   \ncostAndExpenses                   3.12841e+10   2.9525e+10  2.78648e+10   \ninterestExpense                   1.36752e+09  1.29063e+09  1.21806e+09   \ndepreciationAndAmortization        3.2428e+09  3.06045e+09  2.88837e+09   \nebitda                            1.15102e+10   1.0863e+10  1.02522e+10   \nebitdaratio                          0.274655     0.259211     0.244636   \noperatingIncome                   8.26743e+09  7.80256e+09  7.36382e+09   \noperatingIncomeRatio                 0.197276     0.186183     0.175714   \ntotalOtherIncomeExpensesNet       1.06646e+08  1.00649e+08    9.499e+07   \nincomeBeforeTax                   7.07545e+09   6.6776e+09  6.30212e+09   \nincomeBeforeTaxRatio                 0.168833     0.159339      0.15038   \nincomeTaxExpense                  4.50179e+08  4.24865e+08  4.00975e+08   \nnetIncome                          9.0753e+09    8.565e+09  8.08339e+09   \n\n                                     FY+4 est     FY+5 est  \nrevenue                           3.32478e+10  3.13783e+10  \ncostOfRevenue                     6.89581e+09  6.50806e+09  \ngrossProfit                        2.6352e+10  2.48702e+10  \ngrossProfitRatio                     0.628805     0.593448  \nresearchAndDevelopmentExpenses    7.46147e+09  7.04192e+09  \ngeneralAndAdministrativeExpenses  9.21478e+09  8.69664e+09  \nsellingAndMarketingExpenses                 0            0  \notherExpenses                     1.44787e+09  1.36645e+09  \noperatingExpenses                 1.94022e+10  1.83112e+10  \ncostAndExpenses                    2.6298e+10  2.48193e+10  \ninterestExpense                   1.14957e+09  1.08493e+09  \ndepreciationAndAmortization       2.72596e+09  2.57268e+09  \nebitda                            9.67571e+09  9.13165e+09  \nebitdaratio                           0.23088     0.217898  \noperatingIncome                   6.94976e+09  6.55898e+09  \noperatingIncomeRatio                 0.165834     0.156509  \ntotalOtherIncomeExpensesNet       8.96487e+07  8.46078e+07  \nincomeBeforeTax                   5.94776e+09  5.61332e+09  \nincomeBeforeTaxRatio                 0.141924     0.133944  \nincomeTaxExpense                  3.78429e+08   3.5715e+08  \nnetIncome                         7.62887e+09   7.1999e+09  "
     },
     "execution_count": 4,
     "metadata": {},
     "output_type": "execute_result"
    }
   ],
   "source": [
    "def inc_stmt_function():\r\n",
    "    \r\n",
    "    current_inc_stmt_df = pd.DataFrame.from_dict(inc_stmt[0], orient='index')\r\n",
    "    current_inc_stmt_df = current_inc_stmt_df[6:27]\r\n",
    "    current_inc_stmt_df.columns = ['CY']\r\n",
    "    current_inc_stmt_df_rev = current_inc_stmt_df.loc['revenue']\r\n",
    "    current_inc_stmt_df['Pct of Revenue'] = current_inc_stmt_df / current_inc_stmt_df_rev\r\n",
    "    current_inc_stmt_df['PY-1'] = pd.DataFrame.from_dict(inc_stmt[1], orient='index')\r\n",
    "    current_inc_stmt_df['PY-2'] = pd.DataFrame.from_dict(inc_stmt[2], orient='index')\r\n",
    "    current_inc_stmt_df['PY-3'] = pd.DataFrame.from_dict(inc_stmt[3], orient='index')\r\n",
    "    current_inc_stmt_df['PY-4'] = pd.DataFrame.from_dict(inc_stmt[4], orient='index')\r\n",
    "   \r\n",
    "    complete_inc_stmt_df = current_inc_stmt_df[['PY-4', 'PY-3', 'PY-2', 'PY-1', 'CY', 'Pct of Revenue']]\r\n",
    "    \r\n",
    "    avg_rev_growth = ((1+(inc_stmt[0]['revenue'] - inc_stmt[1]['revenue']) / inc_stmt[1]['revenue']) * (1+(inc_stmt[1]['revenue'] - inc_stmt[2]['revenue']) / inc_stmt[2]['revenue']) * (1+(inc_stmt[2]['revenue'] - inc_stmt[3]['revenue']) / inc_stmt[3]['revenue']) * (1+(inc_stmt[3]['revenue'] - inc_stmt[4]['revenue']) / inc_stmt[4]['revenue']))**(1/4) -1\r\n",
    "\r\n",
    "    complete_inc_stmt_df['FY+1 est'] = (complete_inc_stmt_df['CY']['revenue'] * (1+avg_rev_growth)) * complete_inc_stmt_df['Pct of Revenue']\r\n",
    "    complete_inc_stmt_df['FY+2 est'] = (complete_inc_stmt_df['FY+1 est']['revenue'] * (1+avg_rev_growth)) * complete_inc_stmt_df['Pct of Revenue']\r\n",
    "    complete_inc_stmt_df['FY+3 est'] = (complete_inc_stmt_df['FY+2 est']['revenue'] * (1+avg_rev_growth)) * complete_inc_stmt_df['Pct of Revenue']\r\n",
    "    complete_inc_stmt_df['FY+4 est'] = (complete_inc_stmt_df['FY+3 est']['revenue'] * (1+avg_rev_growth)) * complete_inc_stmt_df['Pct of Revenue']\r\n",
    "    complete_inc_stmt_df['FY+5 est'] = (complete_inc_stmt_df['FY+4 est']['revenue'] * (1+avg_rev_growth)) * complete_inc_stmt_df['Pct of Revenue']\r\n",
    "\r\n",
    "    return complete_inc_stmt_df\r\n",
    "\r\n",
    "inc_stmt_function()"
   ]
  },
  {
   "cell_type": "code",
   "execution_count": 5,
   "metadata": {},
   "outputs": [
    {
     "name": "stderr",
     "output_type": "stream",
     "text": [
      "C:\\Users\\andyl\\anaconda3\\envs\\alpacaenv\\lib\\site-packages\\ipykernel_launcher.py:17: SettingWithCopyWarning: \n",
      "A value is trying to be set on a copy of a slice from a DataFrame.\n",
      "Try using .loc[row_indexer,col_indexer] = value instead\n",
      "\n",
      "See the caveats in the documentation: https://pandas.pydata.org/pandas-docs/stable/user_guide/indexing.html#returning-a-view-versus-a-copy\n",
      "C:\\Users\\andyl\\anaconda3\\envs\\alpacaenv\\lib\\site-packages\\ipykernel_launcher.py:18: SettingWithCopyWarning: \n",
      "A value is trying to be set on a copy of a slice from a DataFrame.\n",
      "Try using .loc[row_indexer,col_indexer] = value instead\n",
      "\n",
      "See the caveats in the documentation: https://pandas.pydata.org/pandas-docs/stable/user_guide/indexing.html#returning-a-view-versus-a-copy\n",
      "C:\\Users\\andyl\\anaconda3\\envs\\alpacaenv\\lib\\site-packages\\ipykernel_launcher.py:19: SettingWithCopyWarning: \n",
      "A value is trying to be set on a copy of a slice from a DataFrame.\n",
      "Try using .loc[row_indexer,col_indexer] = value instead\n",
      "\n",
      "See the caveats in the documentation: https://pandas.pydata.org/pandas-docs/stable/user_guide/indexing.html#returning-a-view-versus-a-copy\n",
      "C:\\Users\\andyl\\anaconda3\\envs\\alpacaenv\\lib\\site-packages\\ipykernel_launcher.py:20: SettingWithCopyWarning: \n",
      "A value is trying to be set on a copy of a slice from a DataFrame.\n",
      "Try using .loc[row_indexer,col_indexer] = value instead\n",
      "\n",
      "See the caveats in the documentation: https://pandas.pydata.org/pandas-docs/stable/user_guide/indexing.html#returning-a-view-versus-a-copy\n",
      "C:\\Users\\andyl\\anaconda3\\envs\\alpacaenv\\lib\\site-packages\\ipykernel_launcher.py:21: SettingWithCopyWarning: \n",
      "A value is trying to be set on a copy of a slice from a DataFrame.\n",
      "Try using .loc[row_indexer,col_indexer] = value instead\n",
      "\n",
      "See the caveats in the documentation: https://pandas.pydata.org/pandas-docs/stable/user_guide/indexing.html#returning-a-view-versus-a-copy\n",
      "C:\\Users\\andyl\\anaconda3\\envs\\alpacaenv\\lib\\site-packages\\ipykernel_launcher.py:14: SettingWithCopyWarning: \n",
      "A value is trying to be set on a copy of a slice from a DataFrame.\n",
      "Try using .loc[row_indexer,col_indexer] = value instead\n",
      "\n",
      "See the caveats in the documentation: https://pandas.pydata.org/pandas-docs/stable/user_guide/indexing.html#returning-a-view-versus-a-copy\n",
      "  \n",
      "C:\\Users\\andyl\\anaconda3\\envs\\alpacaenv\\lib\\site-packages\\ipykernel_launcher.py:15: SettingWithCopyWarning: \n",
      "A value is trying to be set on a copy of a slice from a DataFrame.\n",
      "Try using .loc[row_indexer,col_indexer] = value instead\n",
      "\n",
      "See the caveats in the documentation: https://pandas.pydata.org/pandas-docs/stable/user_guide/indexing.html#returning-a-view-versus-a-copy\n",
      "  from ipykernel import kernelapp as app\n",
      "C:\\Users\\andyl\\anaconda3\\envs\\alpacaenv\\lib\\site-packages\\ipykernel_launcher.py:16: SettingWithCopyWarning: \n",
      "A value is trying to be set on a copy of a slice from a DataFrame.\n",
      "Try using .loc[row_indexer,col_indexer] = value instead\n",
      "\n",
      "See the caveats in the documentation: https://pandas.pydata.org/pandas-docs/stable/user_guide/indexing.html#returning-a-view-versus-a-copy\n",
      "  app.launch_new_instance()\n"
     ]
    },
    {
     "data": {
      "text/html": "<div>\n<style scoped>\n    .dataframe tbody tr th:only-of-type {\n        vertical-align: middle;\n    }\n\n    .dataframe tbody tr th {\n        vertical-align: top;\n    }\n\n    .dataframe thead th {\n        text-align: right;\n    }\n</style>\n<table border=\"1\" class=\"dataframe\">\n  <thead>\n    <tr style=\"text-align: right;\">\n      <th></th>\n      <th>PY-4</th>\n      <th>PY-3</th>\n      <th>PY-2</th>\n      <th>PY-1</th>\n      <th>CY</th>\n      <th>Pct of Revenue</th>\n      <th>FY+1 est</th>\n      <th>FY+2 est</th>\n      <th>FY+3 est</th>\n      <th>FY+4 est</th>\n      <th>FY+5 est</th>\n    </tr>\n  </thead>\n  <tbody>\n    <tr>\n      <th>cashAndCashEquivalents</th>\n      <td>2595000000</td>\n      <td>1342000000</td>\n      <td>1139000000</td>\n      <td>1305000000</td>\n      <td>1784000000</td>\n      <td>0.0425694</td>\n      <td>1.68369e+09</td>\n      <td>1.58901e+09</td>\n      <td>1.49966e+09</td>\n      <td>1.41534e+09</td>\n      <td>1.33576e+09</td>\n    </tr>\n    <tr>\n      <th>shortTermInvestments</th>\n      <td>15255000000</td>\n      <td>18650000000</td>\n      <td>17694000000</td>\n      <td>8525000000</td>\n      <td>10437000000</td>\n      <td>0.249046</td>\n      <td>9.85013e+09</td>\n      <td>9.29627e+09</td>\n      <td>8.77354e+09</td>\n      <td>8.28021e+09</td>\n      <td>7.81462e+09</td>\n    </tr>\n    <tr>\n      <th>cashAndShortTermInvestments</th>\n      <td>17850000000</td>\n      <td>19992000000</td>\n      <td>18833000000</td>\n      <td>9830000000</td>\n      <td>12221000000</td>\n      <td>0.291615</td>\n      <td>1.15338e+10</td>\n      <td>1.08853e+10</td>\n      <td>1.02732e+10</td>\n      <td>9.69555e+09</td>\n      <td>9.15037e+09</td>\n    </tr>\n    <tr>\n      <th>netReceivables</th>\n      <td>11266000000</td>\n      <td>11271000000</td>\n      <td>11399000000</td>\n      <td>12068000000</td>\n      <td>11194000000</td>\n      <td>0.267109</td>\n      <td>1.05646e+10</td>\n      <td>9.97053e+09</td>\n      <td>9.40989e+09</td>\n      <td>8.88078e+09</td>\n      <td>8.38142e+09</td>\n    </tr>\n    <tr>\n      <th>inventory</th>\n      <td>6783000000</td>\n      <td>7578000000</td>\n      <td>7508000000</td>\n      <td>8283000000</td>\n      <td>8046000000</td>\n      <td>0.191992</td>\n      <td>7.59358e+09</td>\n      <td>7.16659e+09</td>\n      <td>6.76362e+09</td>\n      <td>6.38331e+09</td>\n      <td>6.02438e+09</td>\n    </tr>\n    <tr>\n      <th>otherCurrentAssets</th>\n      <td>2249000000</td>\n      <td>2288000000</td>\n      <td>2461000000</td>\n      <td>2601000000</td>\n      <td>3439000000</td>\n      <td>0.0820607</td>\n      <td>3.24563e+09</td>\n      <td>3.06313e+09</td>\n      <td>2.89089e+09</td>\n      <td>2.72834e+09</td>\n      <td>2.57492e+09</td>\n    </tr>\n    <tr>\n      <th>totalCurrentAssets</th>\n      <td>38949000000</td>\n      <td>41141000000</td>\n      <td>49926000000</td>\n      <td>32803000000</td>\n      <td>35067000000</td>\n      <td>0.836761</td>\n      <td>3.30952e+10</td>\n      <td>3.12343e+10</td>\n      <td>2.9478e+10</td>\n      <td>2.78205e+10</td>\n      <td>2.62561e+10</td>\n    </tr>\n    <tr>\n      <th>propertyPlantEquipmentNet</th>\n      <td>13318000000</td>\n      <td>13865000000</td>\n      <td>13385000000</td>\n      <td>13967000000</td>\n      <td>13900000000</td>\n      <td>0.331679</td>\n      <td>1.31184e+10</td>\n      <td>1.23808e+10</td>\n      <td>1.16846e+10</td>\n      <td>1.10276e+10</td>\n      <td>1.04075e+10</td>\n    </tr>\n    <tr>\n      <th>goodwill</th>\n      <td>54449000000</td>\n      <td>55952000000</td>\n      <td>53411000000</td>\n      <td>58653000000</td>\n      <td>49577000000</td>\n      <td>1.183</td>\n      <td>4.67893e+10</td>\n      <td>4.41584e+10</td>\n      <td>4.16754e+10</td>\n      <td>3.9332e+10</td>\n      <td>3.71204e+10</td>\n    </tr>\n    <tr>\n      <th>intangibleAssets</th>\n      <td>52648000000</td>\n      <td>48740000000</td>\n      <td>35211000000</td>\n      <td>35369000000</td>\n      <td>28472000000</td>\n      <td>0.679393</td>\n      <td>2.6871e+10</td>\n      <td>2.53601e+10</td>\n      <td>2.39341e+10</td>\n      <td>2.25883e+10</td>\n      <td>2.13182e+10</td>\n    </tr>\n    <tr>\n      <th>goodwillAndIntangibleAssets</th>\n      <td>107097000000</td>\n      <td>104692000000</td>\n      <td>88622000000</td>\n      <td>94022000000</td>\n      <td>78049000000</td>\n      <td>1.86239</td>\n      <td>7.36603e+10</td>\n      <td>6.95185e+10</td>\n      <td>6.56095e+10</td>\n      <td>6.19203e+10</td>\n      <td>5.84385e+10</td>\n    </tr>\n    <tr>\n      <th>longTermInvestments</th>\n      <td>7116000000</td>\n      <td>7015000000</td>\n      <td>2767000000</td>\n      <td>17133000000</td>\n      <td>16856000000</td>\n      <td>0.402214</td>\n      <td>1.59082e+10</td>\n      <td>1.50137e+10</td>\n      <td>1.41695e+10</td>\n      <td>1.33727e+10</td>\n      <td>1.26208e+10</td>\n    </tr>\n    <tr>\n      <th>taxAssets</th>\n      <td>1812000000</td>\n      <td>1855000000</td>\n      <td>1924000000</td>\n      <td>2099000000</td>\n      <td>2383000000</td>\n      <td>0.0568627</td>\n      <td>2.24901e+09</td>\n      <td>2.12254e+09</td>\n      <td>2.0032e+09</td>\n      <td>1.89056e+09</td>\n      <td>1.78425e+09</td>\n    </tr>\n    <tr>\n      <th>otherNonCurrentAssets</th>\n      <td>3323000000</td>\n      <td>3227000000</td>\n      <td>2799000000</td>\n      <td>4450000000</td>\n      <td>4569000000</td>\n      <td>0.109025</td>\n      <td>4.31209e+09</td>\n      <td>4.06962e+09</td>\n      <td>3.84079e+09</td>\n      <td>3.62482e+09</td>\n      <td>3.421e+09</td>\n    </tr>\n    <tr>\n      <th>totalNonCurrentAssets</th>\n      <td>132666000000</td>\n      <td>130654000000</td>\n      <td>109496000000</td>\n      <td>134685000000</td>\n      <td>119162000000</td>\n      <td>2.84342</td>\n      <td>1.12462e+11</td>\n      <td>1.06138e+11</td>\n      <td>1.0017e+11</td>\n      <td>9.45374e+10</td>\n      <td>8.92216e+10</td>\n    </tr>\n    <tr>\n      <th>otherAssets</th>\n      <td>0</td>\n      <td>2e+06</td>\n      <td>0</td>\n      <td>1e+06</td>\n      <td>0</td>\n      <td>0</td>\n      <td>0</td>\n      <td>0</td>\n      <td>0</td>\n      <td>0</td>\n      <td>0</td>\n    </tr>\n    <tr>\n      <th>totalAssets</th>\n      <td>171615000000</td>\n      <td>171797000000</td>\n      <td>159422000000</td>\n      <td>167489000000</td>\n      <td>154229000000</td>\n      <td>3.68018</td>\n      <td>1.45557e+11</td>\n      <td>1.37372e+11</td>\n      <td>1.29648e+11</td>\n      <td>1.22358e+11</td>\n      <td>1.15478e+11</td>\n    </tr>\n    <tr>\n      <th>accountPayables</th>\n      <td>4536000000</td>\n      <td>4656000000</td>\n      <td>4674000000</td>\n      <td>4220000000</td>\n      <td>4309000000</td>\n      <td>0.10282</td>\n      <td>4.06671e+09</td>\n      <td>3.83804e+09</td>\n      <td>3.62223e+09</td>\n      <td>3.41855e+09</td>\n      <td>3.22633e+09</td>\n    </tr>\n    <tr>\n      <th>shortTermDebt</th>\n      <td>10688000000</td>\n      <td>9940000000</td>\n      <td>8836000000</td>\n      <td>16190000000</td>\n      <td>2703000000</td>\n      <td>0.0644984</td>\n      <td>2.55101e+09</td>\n      <td>2.40757e+09</td>\n      <td>2.27219e+09</td>\n      <td>2.14443e+09</td>\n      <td>2.02385e+09</td>\n    </tr>\n    <tr>\n      <th>taxPayables</th>\n      <td>0</td>\n      <td>0</td>\n      <td>0</td>\n      <td>0</td>\n      <td>0</td>\n      <td>0</td>\n      <td>0</td>\n      <td>0</td>\n      <td>0</td>\n      <td>0</td>\n      <td>0</td>\n    </tr>\n    <tr>\n      <th>deferredRevenue</th>\n      <td>0</td>\n      <td>0</td>\n      <td>0</td>\n      <td>0</td>\n      <td>0</td>\n      <td>0</td>\n      <td>0</td>\n      <td>0</td>\n      <td>0</td>\n      <td>0</td>\n      <td>0</td>\n    </tr>\n    <tr>\n      <th>otherCurrentLiabilities</th>\n      <td>11023000000</td>\n      <td>11129000000</td>\n      <td>12639000000</td>\n      <td>11090000000</td>\n      <td>12639000000</td>\n      <td>0.301589</td>\n      <td>1.19283e+10</td>\n      <td>1.12576e+10</td>\n      <td>1.06246e+10</td>\n      <td>1.00272e+10</td>\n      <td>9.46335e+09</td>\n    </tr>\n    <tr>\n      <th>totalCurrentLiabilities</th>\n      <td>31115000000</td>\n      <td>30427000000</td>\n      <td>31858000000</td>\n      <td>37304000000</td>\n      <td>25920000000</td>\n      <td>0.618498</td>\n      <td>2.44625e+10</td>\n      <td>2.3087e+10</td>\n      <td>2.17888e+10</td>\n      <td>2.05637e+10</td>\n      <td>1.94074e+10</td>\n    </tr>\n    <tr>\n      <th>longTermDebt</th>\n      <td>31398000000</td>\n      <td>32666000000</td>\n      <td>32429000000</td>\n      <td>35955000000</td>\n      <td>35571000000</td>\n      <td>0.848788</td>\n      <td>3.35709e+10</td>\n      <td>3.16832e+10</td>\n      <td>2.99017e+10</td>\n      <td>2.82203e+10</td>\n      <td>2.66335e+10</td>\n    </tr>\n    <tr>\n      <th>deferredRevenueNonCurrent</th>\n      <td>0</td>\n      <td>0</td>\n      <td>0</td>\n      <td>0</td>\n      <td>0</td>\n      <td>0</td>\n      <td>0</td>\n      <td>0</td>\n      <td>0</td>\n      <td>0</td>\n      <td>0</td>\n    </tr>\n    <tr>\n      <th>deferredTaxLiabilitiesNonCurrent</th>\n      <td>30753000000</td>\n      <td>3900000000</td>\n      <td>3700000000</td>\n      <td>5578000000</td>\n      <td>4063000000</td>\n      <td>0.0969505</td>\n      <td>3.83454e+09</td>\n      <td>3.61893e+09</td>\n      <td>3.41544e+09</td>\n      <td>3.22339e+09</td>\n      <td>3.04214e+09</td>\n    </tr>\n    <tr>\n      <th>otherNonCurrentLiabilities</th>\n      <td>6337000000</td>\n      <td>6149000000</td>\n      <td>5851000000</td>\n      <td>6317000000</td>\n      <td>6669000000</td>\n      <td>0.159134</td>\n      <td>6.29401e+09</td>\n      <td>5.9401e+09</td>\n      <td>5.60609e+09</td>\n      <td>5.29086e+09</td>\n      <td>4.99336e+09</td>\n    </tr>\n    <tr>\n      <th>totalNonCurrentLiabilities</th>\n      <td>80660000000</td>\n      <td>69714000000</td>\n      <td>63806000000</td>\n      <td>66738000000</td>\n      <td>64836000000</td>\n      <td>1.5471</td>\n      <td>6.11903e+10</td>\n      <td>5.77496e+10</td>\n      <td>5.45024e+10</td>\n      <td>5.14377e+10</td>\n      <td>4.85454e+10</td>\n    </tr>\n    <tr>\n      <th>otherLiabilities</th>\n      <td>0</td>\n      <td>0</td>\n      <td>0</td>\n      <td>0</td>\n      <td>0</td>\n      <td>0</td>\n      <td>0</td>\n      <td>0</td>\n      <td>0</td>\n      <td>0</td>\n      <td>0</td>\n    </tr>\n    <tr>\n      <th>totalLiabilities</th>\n      <td>111775000000</td>\n      <td>100141000000</td>\n      <td>95664000000</td>\n      <td>104042000000</td>\n      <td>90756000000</td>\n      <td>2.1656</td>\n      <td>8.56528e+10</td>\n      <td>8.08366e+10</td>\n      <td>7.62912e+10</td>\n      <td>7.20014e+10</td>\n      <td>6.79528e+10</td>\n    </tr>\n    <tr>\n      <th>commonStock</th>\n      <td>461000000</td>\n      <td>464000000</td>\n      <td>467000000</td>\n      <td>468000000</td>\n      <td>470000000</td>\n      <td>0.011215</td>\n      <td>4.43572e+08</td>\n      <td>4.1863e+08</td>\n      <td>3.95091e+08</td>\n      <td>3.72875e+08</td>\n      <td>3.51909e+08</td>\n    </tr>\n    <tr>\n      <th>retainedEarnings</th>\n      <td>71774000000</td>\n      <td>85291000000</td>\n      <td>89554000000</td>\n      <td>97670000000</td>\n      <td>96770000000</td>\n      <td>2.30911</td>\n      <td>9.13287e+10</td>\n      <td>8.61933e+10</td>\n      <td>8.13467e+10</td>\n      <td>7.67726e+10</td>\n      <td>7.24557e+10</td>\n    </tr>\n    <tr>\n      <th>accumulatedOtherComprehensiveIncomeLoss</th>\n      <td>-11036000000</td>\n      <td>-9321000000</td>\n      <td>-11275000000</td>\n      <td>-11640000000</td>\n      <td>-11688000000</td>\n      <td>-0.278897</td>\n      <td>-1.10308e+10</td>\n      <td>-1.04105e+10</td>\n      <td>-9.82516e+09</td>\n      <td>-9.27269e+09</td>\n      <td>-8.75129e+09</td>\n    </tr>\n    <tr>\n      <th>othertotalStockholdersEquity</th>\n      <td>0</td>\n      <td>0</td>\n      <td>0</td>\n      <td>0</td>\n      <td>0</td>\n      <td>0</td>\n      <td>0</td>\n      <td>0</td>\n      <td>0</td>\n      <td>0</td>\n      <td>0</td>\n    </tr>\n    <tr>\n      <th>totalStockholdersEquity</th>\n      <td>59544000000</td>\n      <td>71308000000</td>\n      <td>63407000000</td>\n      <td>63143000000</td>\n      <td>63238000000</td>\n      <td>1.50897</td>\n      <td>5.96822e+10</td>\n      <td>5.63263e+10</td>\n      <td>5.31591e+10</td>\n      <td>5.017e+10</td>\n      <td>4.73489e+10</td>\n    </tr>\n    <tr>\n      <th>totalLiabilitiesAndStockholdersEquity</th>\n      <td>171319000000</td>\n      <td>171449000000</td>\n      <td>159071000000</td>\n      <td>167185000000</td>\n      <td>153994000000</td>\n      <td>3.67457</td>\n      <td>1.45335e+11</td>\n      <td>1.37163e+11</td>\n      <td>1.2945e+11</td>\n      <td>1.22171e+11</td>\n      <td>1.15302e+11</td>\n    </tr>\n    <tr>\n      <th>totalInvestments</th>\n      <td>22371000000</td>\n      <td>25665000000</td>\n      <td>20461000000</td>\n      <td>25658000000</td>\n      <td>27293000000</td>\n      <td>0.65126</td>\n      <td>2.57583e+10</td>\n      <td>2.431e+10</td>\n      <td>2.2943e+10</td>\n      <td>2.16529e+10</td>\n      <td>2.04354e+10</td>\n    </tr>\n    <tr>\n      <th>totalDebt</th>\n      <td>42086000000</td>\n      <td>42606000000</td>\n      <td>41265000000</td>\n      <td>52145000000</td>\n      <td>38274000000</td>\n      <td>0.913286</td>\n      <td>3.61219e+10</td>\n      <td>3.40908e+10</td>\n      <td>3.21739e+10</td>\n      <td>3.03647e+10</td>\n      <td>2.86573e+10</td>\n    </tr>\n    <tr>\n      <th>netDebt</th>\n      <td>39491000000</td>\n      <td>41264000000</td>\n      <td>40126000000</td>\n      <td>50840000000</td>\n      <td>36490000000</td>\n      <td>0.870717</td>\n      <td>3.44382e+10</td>\n      <td>3.25017e+10</td>\n      <td>3.06742e+10</td>\n      <td>2.89494e+10</td>\n      <td>2.73216e+10</td>\n    </tr>\n  </tbody>\n</table>\n</div>",
      "text/plain": "                                                 PY-4          PY-3  \\\ncashAndCashEquivalents                     2595000000    1342000000   \nshortTermInvestments                      15255000000   18650000000   \ncashAndShortTermInvestments               17850000000   19992000000   \nnetReceivables                            11266000000   11271000000   \ninventory                                  6783000000    7578000000   \notherCurrentAssets                         2249000000    2288000000   \ntotalCurrentAssets                        38949000000   41141000000   \npropertyPlantEquipmentNet                 13318000000   13865000000   \ngoodwill                                  54449000000   55952000000   \nintangibleAssets                          52648000000   48740000000   \ngoodwillAndIntangibleAssets              107097000000  104692000000   \nlongTermInvestments                        7116000000    7015000000   \ntaxAssets                                  1812000000    1855000000   \notherNonCurrentAssets                      3323000000    3227000000   \ntotalNonCurrentAssets                    132666000000  130654000000   \notherAssets                                         0         2e+06   \ntotalAssets                              171615000000  171797000000   \naccountPayables                            4536000000    4656000000   \nshortTermDebt                             10688000000    9940000000   \ntaxPayables                                         0             0   \ndeferredRevenue                                     0             0   \notherCurrentLiabilities                   11023000000   11129000000   \ntotalCurrentLiabilities                   31115000000   30427000000   \nlongTermDebt                              31398000000   32666000000   \ndeferredRevenueNonCurrent                           0             0   \ndeferredTaxLiabilitiesNonCurrent          30753000000    3900000000   \notherNonCurrentLiabilities                 6337000000    6149000000   \ntotalNonCurrentLiabilities                80660000000   69714000000   \notherLiabilities                                    0             0   \ntotalLiabilities                         111775000000  100141000000   \ncommonStock                                 461000000     464000000   \nretainedEarnings                          71774000000   85291000000   \naccumulatedOtherComprehensiveIncomeLoss  -11036000000   -9321000000   \nothertotalStockholdersEquity                        0             0   \ntotalStockholdersEquity                   59544000000   71308000000   \ntotalLiabilitiesAndStockholdersEquity    171319000000  171449000000   \ntotalInvestments                          22371000000   25665000000   \ntotalDebt                                 42086000000   42606000000   \nnetDebt                                   39491000000   41264000000   \n\n                                                 PY-2          PY-1  \\\ncashAndCashEquivalents                     1139000000    1305000000   \nshortTermInvestments                      17694000000    8525000000   \ncashAndShortTermInvestments               18833000000    9830000000   \nnetReceivables                            11399000000   12068000000   \ninventory                                  7508000000    8283000000   \notherCurrentAssets                         2461000000    2601000000   \ntotalCurrentAssets                        49926000000   32803000000   \npropertyPlantEquipmentNet                 13385000000   13967000000   \ngoodwill                                  53411000000   58653000000   \nintangibleAssets                          35211000000   35369000000   \ngoodwillAndIntangibleAssets               88622000000   94022000000   \nlongTermInvestments                        2767000000   17133000000   \ntaxAssets                                  1924000000    2099000000   \notherNonCurrentAssets                      2799000000    4450000000   \ntotalNonCurrentAssets                    109496000000  134685000000   \notherAssets                                         0         1e+06   \ntotalAssets                              159422000000  167489000000   \naccountPayables                            4674000000    4220000000   \nshortTermDebt                              8836000000   16190000000   \ntaxPayables                                         0             0   \ndeferredRevenue                                     0             0   \notherCurrentLiabilities                   12639000000   11090000000   \ntotalCurrentLiabilities                   31858000000   37304000000   \nlongTermDebt                              32429000000   35955000000   \ndeferredRevenueNonCurrent                           0             0   \ndeferredTaxLiabilitiesNonCurrent           3700000000    5578000000   \notherNonCurrentLiabilities                 5851000000    6317000000   \ntotalNonCurrentLiabilities                63806000000   66738000000   \notherLiabilities                                    0             0   \ntotalLiabilities                          95664000000  104042000000   \ncommonStock                                 467000000     468000000   \nretainedEarnings                          89554000000   97670000000   \naccumulatedOtherComprehensiveIncomeLoss  -11275000000  -11640000000   \nothertotalStockholdersEquity                        0             0   \ntotalStockholdersEquity                   63407000000   63143000000   \ntotalLiabilitiesAndStockholdersEquity    159071000000  167185000000   \ntotalInvestments                          20461000000   25658000000   \ntotalDebt                                 41265000000   52145000000   \nnetDebt                                   40126000000   50840000000   \n\n                                                   CY Pct of Revenue  \\\ncashAndCashEquivalents                     1784000000      0.0425694   \nshortTermInvestments                      10437000000       0.249046   \ncashAndShortTermInvestments               12221000000       0.291615   \nnetReceivables                            11194000000       0.267109   \ninventory                                  8046000000       0.191992   \notherCurrentAssets                         3439000000      0.0820607   \ntotalCurrentAssets                        35067000000       0.836761   \npropertyPlantEquipmentNet                 13900000000       0.331679   \ngoodwill                                  49577000000          1.183   \nintangibleAssets                          28472000000       0.679393   \ngoodwillAndIntangibleAssets               78049000000        1.86239   \nlongTermInvestments                       16856000000       0.402214   \ntaxAssets                                  2383000000      0.0568627   \notherNonCurrentAssets                      4569000000       0.109025   \ntotalNonCurrentAssets                    119162000000        2.84342   \notherAssets                                         0              0   \ntotalAssets                              154229000000        3.68018   \naccountPayables                            4309000000        0.10282   \nshortTermDebt                              2703000000      0.0644984   \ntaxPayables                                         0              0   \ndeferredRevenue                                     0              0   \notherCurrentLiabilities                   12639000000       0.301589   \ntotalCurrentLiabilities                   25920000000       0.618498   \nlongTermDebt                              35571000000       0.848788   \ndeferredRevenueNonCurrent                           0              0   \ndeferredTaxLiabilitiesNonCurrent           4063000000      0.0969505   \notherNonCurrentLiabilities                 6669000000       0.159134   \ntotalNonCurrentLiabilities                64836000000         1.5471   \notherLiabilities                                    0              0   \ntotalLiabilities                          90756000000         2.1656   \ncommonStock                                 470000000       0.011215   \nretainedEarnings                          96770000000        2.30911   \naccumulatedOtherComprehensiveIncomeLoss  -11688000000      -0.278897   \nothertotalStockholdersEquity                        0              0   \ntotalStockholdersEquity                   63238000000        1.50897   \ntotalLiabilitiesAndStockholdersEquity    153994000000        3.67457   \ntotalInvestments                          27293000000        0.65126   \ntotalDebt                                 38274000000       0.913286   \nnetDebt                                   36490000000       0.870717   \n\n                                            FY+1 est     FY+2 est  \\\ncashAndCashEquivalents                   1.68369e+09  1.58901e+09   \nshortTermInvestments                     9.85013e+09  9.29627e+09   \ncashAndShortTermInvestments              1.15338e+10  1.08853e+10   \nnetReceivables                           1.05646e+10  9.97053e+09   \ninventory                                7.59358e+09  7.16659e+09   \notherCurrentAssets                       3.24563e+09  3.06313e+09   \ntotalCurrentAssets                       3.30952e+10  3.12343e+10   \npropertyPlantEquipmentNet                1.31184e+10  1.23808e+10   \ngoodwill                                 4.67893e+10  4.41584e+10   \nintangibleAssets                          2.6871e+10  2.53601e+10   \ngoodwillAndIntangibleAssets              7.36603e+10  6.95185e+10   \nlongTermInvestments                      1.59082e+10  1.50137e+10   \ntaxAssets                                2.24901e+09  2.12254e+09   \notherNonCurrentAssets                    4.31209e+09  4.06962e+09   \ntotalNonCurrentAssets                    1.12462e+11  1.06138e+11   \notherAssets                                        0            0   \ntotalAssets                              1.45557e+11  1.37372e+11   \naccountPayables                          4.06671e+09  3.83804e+09   \nshortTermDebt                            2.55101e+09  2.40757e+09   \ntaxPayables                                        0            0   \ndeferredRevenue                                    0            0   \notherCurrentLiabilities                  1.19283e+10  1.12576e+10   \ntotalCurrentLiabilities                  2.44625e+10   2.3087e+10   \nlongTermDebt                             3.35709e+10  3.16832e+10   \ndeferredRevenueNonCurrent                          0            0   \ndeferredTaxLiabilitiesNonCurrent         3.83454e+09  3.61893e+09   \notherNonCurrentLiabilities               6.29401e+09   5.9401e+09   \ntotalNonCurrentLiabilities               6.11903e+10  5.77496e+10   \notherLiabilities                                   0            0   \ntotalLiabilities                         8.56528e+10  8.08366e+10   \ncommonStock                              4.43572e+08   4.1863e+08   \nretainedEarnings                         9.13287e+10  8.61933e+10   \naccumulatedOtherComprehensiveIncomeLoss -1.10308e+10 -1.04105e+10   \nothertotalStockholdersEquity                       0            0   \ntotalStockholdersEquity                  5.96822e+10  5.63263e+10   \ntotalLiabilitiesAndStockholdersEquity    1.45335e+11  1.37163e+11   \ntotalInvestments                         2.57583e+10    2.431e+10   \ntotalDebt                                3.61219e+10  3.40908e+10   \nnetDebt                                  3.44382e+10  3.25017e+10   \n\n                                            FY+3 est     FY+4 est     FY+5 est  \ncashAndCashEquivalents                   1.49966e+09  1.41534e+09  1.33576e+09  \nshortTermInvestments                     8.77354e+09  8.28021e+09  7.81462e+09  \ncashAndShortTermInvestments              1.02732e+10  9.69555e+09  9.15037e+09  \nnetReceivables                           9.40989e+09  8.88078e+09  8.38142e+09  \ninventory                                6.76362e+09  6.38331e+09  6.02438e+09  \notherCurrentAssets                       2.89089e+09  2.72834e+09  2.57492e+09  \ntotalCurrentAssets                        2.9478e+10  2.78205e+10  2.62561e+10  \npropertyPlantEquipmentNet                1.16846e+10  1.10276e+10  1.04075e+10  \ngoodwill                                 4.16754e+10   3.9332e+10  3.71204e+10  \nintangibleAssets                         2.39341e+10  2.25883e+10  2.13182e+10  \ngoodwillAndIntangibleAssets              6.56095e+10  6.19203e+10  5.84385e+10  \nlongTermInvestments                      1.41695e+10  1.33727e+10  1.26208e+10  \ntaxAssets                                 2.0032e+09  1.89056e+09  1.78425e+09  \notherNonCurrentAssets                    3.84079e+09  3.62482e+09    3.421e+09  \ntotalNonCurrentAssets                     1.0017e+11  9.45374e+10  8.92216e+10  \notherAssets                                        0            0            0  \ntotalAssets                              1.29648e+11  1.22358e+11  1.15478e+11  \naccountPayables                          3.62223e+09  3.41855e+09  3.22633e+09  \nshortTermDebt                            2.27219e+09  2.14443e+09  2.02385e+09  \ntaxPayables                                        0            0            0  \ndeferredRevenue                                    0            0            0  \notherCurrentLiabilities                  1.06246e+10  1.00272e+10  9.46335e+09  \ntotalCurrentLiabilities                  2.17888e+10  2.05637e+10  1.94074e+10  \nlongTermDebt                             2.99017e+10  2.82203e+10  2.66335e+10  \ndeferredRevenueNonCurrent                          0            0            0  \ndeferredTaxLiabilitiesNonCurrent         3.41544e+09  3.22339e+09  3.04214e+09  \notherNonCurrentLiabilities               5.60609e+09  5.29086e+09  4.99336e+09  \ntotalNonCurrentLiabilities               5.45024e+10  5.14377e+10  4.85454e+10  \notherLiabilities                                   0            0            0  \ntotalLiabilities                         7.62912e+10  7.20014e+10  6.79528e+10  \ncommonStock                              3.95091e+08  3.72875e+08  3.51909e+08  \nretainedEarnings                         8.13467e+10  7.67726e+10  7.24557e+10  \naccumulatedOtherComprehensiveIncomeLoss -9.82516e+09 -9.27269e+09 -8.75129e+09  \nothertotalStockholdersEquity                       0            0            0  \ntotalStockholdersEquity                  5.31591e+10    5.017e+10  4.73489e+10  \ntotalLiabilitiesAndStockholdersEquity     1.2945e+11  1.22171e+11  1.15302e+11  \ntotalInvestments                          2.2943e+10  2.16529e+10  2.04354e+10  \ntotalDebt                                3.21739e+10  3.03647e+10  2.86573e+10  \nnetDebt                                  3.06742e+10  2.89494e+10  2.73216e+10  "
     },
     "execution_count": 5,
     "metadata": {},
     "output_type": "execute_result"
    }
   ],
   "source": [
    "def bal_sht_function():\r\n",
    "    complete_inc_stmt_df = inc_stmt_function()    \r\n",
    "\r\n",
    "    current_bal_sht_df = pd.DataFrame.from_dict(bal_sht[0],orient='index')\r\n",
    "    current_bal_sht_df = current_bal_sht_df[6:-2]\r\n",
    "    current_bal_sht_df.columns = ['CY']\r\n",
    "    current_bal_sht_df['Pct of Revenue'] = current_bal_sht_df / complete_inc_stmt_df['CY'].iloc[0]\r\n",
    "    current_bal_sht_df['PY-1'] = pd.DataFrame.from_dict(bal_sht[1],orient='index')\r\n",
    "    current_bal_sht_df['PY-2'] = pd.DataFrame.from_dict(bal_sht[2],orient='index')\r\n",
    "    current_bal_sht_df['PY-3'] = pd.DataFrame.from_dict(bal_sht[3],orient='index')\r\n",
    "    current_bal_sht_df['PY-4'] = pd.DataFrame.from_dict(bal_sht[4],orient='index')\r\n",
    "    complete_bal_sht_df = current_bal_sht_df[['PY-4', 'PY-3', 'PY-2', 'PY-1', 'CY', 'Pct of Revenue']]\r\n",
    "\r\n",
    "    complete_bal_sht_df['FY+1 est'] = complete_inc_stmt_df['FY+1 est']['revenue'] * complete_bal_sht_df['Pct of Revenue']\r\n",
    "    complete_bal_sht_df['FY+2 est'] = complete_inc_stmt_df['FY+2 est']['revenue'] * complete_bal_sht_df['Pct of Revenue']\r\n",
    "    complete_bal_sht_df['FY+3 est'] = complete_inc_stmt_df['FY+3 est']['revenue'] * complete_bal_sht_df['Pct of Revenue']\r\n",
    "    complete_bal_sht_df['FY+4 est'] = complete_inc_stmt_df['FY+4 est']['revenue'] * complete_bal_sht_df['Pct of Revenue']\r\n",
    "    complete_bal_sht_df['FY+5 est'] = complete_inc_stmt_df['FY+5 est']['revenue'] * complete_bal_sht_df['Pct of Revenue']\r\n",
    "\r\n",
    "\r\n",
    "    return complete_bal_sht_df\r\n",
    "    \r\n",
    "bal_sht_function()\r\n"
   ]
  },
  {
   "cell_type": "code",
   "execution_count": 6,
   "metadata": {},
   "outputs": [
    {
     "name": "stderr",
     "output_type": "stream",
     "text": [
      "C:\\Users\\andyl\\anaconda3\\envs\\alpacaenv\\lib\\site-packages\\ipykernel_launcher.py:17: SettingWithCopyWarning: \n",
      "A value is trying to be set on a copy of a slice from a DataFrame.\n",
      "Try using .loc[row_indexer,col_indexer] = value instead\n",
      "\n",
      "See the caveats in the documentation: https://pandas.pydata.org/pandas-docs/stable/user_guide/indexing.html#returning-a-view-versus-a-copy\n",
      "C:\\Users\\andyl\\anaconda3\\envs\\alpacaenv\\lib\\site-packages\\ipykernel_launcher.py:18: SettingWithCopyWarning: \n",
      "A value is trying to be set on a copy of a slice from a DataFrame.\n",
      "Try using .loc[row_indexer,col_indexer] = value instead\n",
      "\n",
      "See the caveats in the documentation: https://pandas.pydata.org/pandas-docs/stable/user_guide/indexing.html#returning-a-view-versus-a-copy\n",
      "C:\\Users\\andyl\\anaconda3\\envs\\alpacaenv\\lib\\site-packages\\ipykernel_launcher.py:19: SettingWithCopyWarning: \n",
      "A value is trying to be set on a copy of a slice from a DataFrame.\n",
      "Try using .loc[row_indexer,col_indexer] = value instead\n",
      "\n",
      "See the caveats in the documentation: https://pandas.pydata.org/pandas-docs/stable/user_guide/indexing.html#returning-a-view-versus-a-copy\n",
      "C:\\Users\\andyl\\anaconda3\\envs\\alpacaenv\\lib\\site-packages\\ipykernel_launcher.py:20: SettingWithCopyWarning: \n",
      "A value is trying to be set on a copy of a slice from a DataFrame.\n",
      "Try using .loc[row_indexer,col_indexer] = value instead\n",
      "\n",
      "See the caveats in the documentation: https://pandas.pydata.org/pandas-docs/stable/user_guide/indexing.html#returning-a-view-versus-a-copy\n",
      "C:\\Users\\andyl\\anaconda3\\envs\\alpacaenv\\lib\\site-packages\\ipykernel_launcher.py:21: SettingWithCopyWarning: \n",
      "A value is trying to be set on a copy of a slice from a DataFrame.\n",
      "Try using .loc[row_indexer,col_indexer] = value instead\n",
      "\n",
      "See the caveats in the documentation: https://pandas.pydata.org/pandas-docs/stable/user_guide/indexing.html#returning-a-view-versus-a-copy\n",
      "C:\\Users\\andyl\\anaconda3\\envs\\alpacaenv\\lib\\site-packages\\ipykernel_launcher.py:14: SettingWithCopyWarning: \n",
      "A value is trying to be set on a copy of a slice from a DataFrame.\n",
      "Try using .loc[row_indexer,col_indexer] = value instead\n",
      "\n",
      "See the caveats in the documentation: https://pandas.pydata.org/pandas-docs/stable/user_guide/indexing.html#returning-a-view-versus-a-copy\n",
      "  \n",
      "C:\\Users\\andyl\\anaconda3\\envs\\alpacaenv\\lib\\site-packages\\ipykernel_launcher.py:15: SettingWithCopyWarning: \n",
      "A value is trying to be set on a copy of a slice from a DataFrame.\n",
      "Try using .loc[row_indexer,col_indexer] = value instead\n",
      "\n",
      "See the caveats in the documentation: https://pandas.pydata.org/pandas-docs/stable/user_guide/indexing.html#returning-a-view-versus-a-copy\n",
      "  from ipykernel import kernelapp as app\n",
      "C:\\Users\\andyl\\anaconda3\\envs\\alpacaenv\\lib\\site-packages\\ipykernel_launcher.py:16: SettingWithCopyWarning: \n",
      "A value is trying to be set on a copy of a slice from a DataFrame.\n",
      "Try using .loc[row_indexer,col_indexer] = value instead\n",
      "\n",
      "See the caveats in the documentation: https://pandas.pydata.org/pandas-docs/stable/user_guide/indexing.html#returning-a-view-versus-a-copy\n",
      "  app.launch_new_instance()\n"
     ]
    }
   ],
   "source": [
    "complete_inc_stmt_df = inc_stmt_function()\r\n",
    "complete_bal_sht_df = bal_sht_function()   "
   ]
  },
  {
   "cell_type": "code",
   "execution_count": 7,
   "metadata": {},
   "outputs": [
    {
     "data": {
      "text/html": "<div>\n<style scoped>\n    .dataframe tbody tr th:only-of-type {\n        vertical-align: middle;\n    }\n\n    .dataframe tbody tr th {\n        vertical-align: top;\n    }\n\n    .dataframe thead th {\n        text-align: right;\n    }\n</style>\n<table border=\"1\" class=\"dataframe\">\n  <thead>\n    <tr style=\"text-align: right;\">\n      <th></th>\n      <th>FY+1 est</th>\n      <th>FY+2 est</th>\n      <th>FY+3 est</th>\n      <th>FY+4 est</th>\n      <th>FY+5 est</th>\n    </tr>\n  </thead>\n  <tbody>\n    <tr>\n      <th>Net Income</th>\n      <td>9,075,297,432</td>\n      <td>8,564,998,281</td>\n      <td>8,083,392,981</td>\n      <td>7,628,868,090</td>\n      <td>7,199,900,893</td>\n    </tr>\n    <tr>\n      <th>Depreciation &amp; Amortization</th>\n      <td>3,242,795,546</td>\n      <td>3,060,454,877</td>\n      <td>2,888,367,126</td>\n      <td>2,725,955,778</td>\n      <td>2,572,676,733</td>\n    </tr>\n    <tr>\n      <th>Change in Receivables</th>\n      <td>629,432,670</td>\n      <td>594,040,005</td>\n      <td>560,637,451</td>\n      <td>529,113,106</td>\n      <td>499,361,357</td>\n    </tr>\n    <tr>\n      <th>Change in Inventory</th>\n      <td>452,422,303</td>\n      <td>426,982,837</td>\n      <td>402,973,819</td>\n      <td>380,314,816</td>\n      <td>358,929,916</td>\n    </tr>\n    <tr>\n      <th>Change in Payables</th>\n      <td>-242,292,779</td>\n      <td>-228,668,785</td>\n      <td>-215,810,861</td>\n      <td>-203,675,931</td>\n      <td>-192,223,342</td>\n    </tr>\n    <tr>\n      <th>Change in NWC</th>\n      <td>839,562,193</td>\n      <td>792,354,057</td>\n      <td>747,800,410</td>\n      <td>705,751,990</td>\n      <td>666,067,931</td>\n    </tr>\n    <tr>\n      <th>OP CF</th>\n      <td>13,157,655,171</td>\n      <td>12,417,807,215</td>\n      <td>11,719,560,516</td>\n      <td>11,060,575,858</td>\n      <td>10,438,645,557</td>\n    </tr>\n    <tr>\n      <th>CAPEX</th>\n      <td>2,461,205,935</td>\n      <td>2,322,813,634</td>\n      <td>2,192,203,058</td>\n      <td>2,068,936,645</td>\n      <td>1,952,601,438</td>\n    </tr>\n    <tr>\n      <th>Unlevered FCF</th>\n      <td>15,618,861,106</td>\n      <td>14,740,620,849</td>\n      <td>13,911,763,574</td>\n      <td>13,129,512,504</td>\n      <td>12,391,246,995</td>\n    </tr>\n  </tbody>\n</table>\n</div>",
      "text/plain": "                                  FY+1 est       FY+2 est       FY+3 est  \\\nNet Income                   9,075,297,432  8,564,998,281  8,083,392,981   \nDepreciation & Amortization  3,242,795,546  3,060,454,877  2,888,367,126   \nChange in Receivables          629,432,670    594,040,005    560,637,451   \nChange in Inventory            452,422,303    426,982,837    402,973,819   \nChange in Payables            -242,292,779   -228,668,785   -215,810,861   \nChange in NWC                  839,562,193    792,354,057    747,800,410   \nOP CF                       13,157,655,171 12,417,807,215 11,719,560,516   \nCAPEX                        2,461,205,935  2,322,813,634  2,192,203,058   \nUnlevered FCF               15,618,861,106 14,740,620,849 13,911,763,574   \n\n                                  FY+4 est       FY+5 est  \nNet Income                   7,628,868,090  7,199,900,893  \nDepreciation & Amortization  2,725,955,778  2,572,676,733  \nChange in Receivables          529,113,106    499,361,357  \nChange in Inventory            380,314,816    358,929,916  \nChange in Payables            -203,675,931   -192,223,342  \nChange in NWC                  705,751,990    666,067,931  \nOP CF                       11,060,575,858 10,438,645,557  \nCAPEX                        2,068,936,645  1,952,601,438  \nUnlevered FCF               13,129,512,504 12,391,246,995  "
     },
     "execution_count": 7,
     "metadata": {},
     "output_type": "execute_result"
    }
   ],
   "source": [
    "def cash_flow_forecast():    \r\n",
    "    projected_cf = {}\r\n",
    "\r\n",
    "    projected_cf['FY+1 est'] = {}\r\n",
    "\r\n",
    "    projected_cf['FY+1 est']['Net Income'] = complete_inc_stmt_df['FY+1 est']['netIncome']\r\n",
    "    projected_cf['FY+1 est']['Depreciation & Amortization'] = complete_inc_stmt_df['FY+1 est']['depreciationAndAmortization']\r\n",
    "    projected_cf['FY+1 est']['Change in Receivables'] = complete_bal_sht_df['CY']['netReceivables'] - complete_bal_sht_df['FY+1 est']['netReceivables']\r\n",
    "    projected_cf['FY+1 est']['Change in Inventory'] = complete_bal_sht_df['CY']['inventory'] - complete_bal_sht_df['FY+1 est']['inventory']\r\n",
    "    projected_cf['FY+1 est']['Change in Payables'] = complete_bal_sht_df['FY+1 est']['accountPayables'] - complete_bal_sht_df['CY']['accountPayables']\r\n",
    "    projected_cf['FY+1 est']['Change in NWC'] = projected_cf['FY+1 est']['Change in Receivables'] + projected_cf['FY+1 est']['Change in Inventory'] + projected_cf['FY+1 est']['Change in Payables']\r\n",
    "    projected_cf['FY+1 est']['OP CF'] = projected_cf['FY+1 est']['Net Income'] + projected_cf['FY+1 est']['Depreciation & Amortization'] + projected_cf['FY+1 est']['Change in NWC']\r\n",
    "    projected_cf['FY+1 est']['CAPEX'] = complete_bal_sht_df['FY+1 est']['propertyPlantEquipmentNet'] - complete_bal_sht_df['CY']['propertyPlantEquipmentNet'] + complete_inc_stmt_df['FY+1 est']['depreciationAndAmortization']\r\n",
    "    projected_cf['FY+1 est']['Unlevered FCF'] = projected_cf['FY+1 est']['CAPEX'] + projected_cf['FY+1 est']['OP CF']\r\n",
    "    ##projected_cf['FY+1 est']['Total Debt'] = -(complete_bal_sht_df['FY+1 est']['totalDebt'])\r\n",
    "    ##projected_cf['FY+1 est']['Levered FCF'] = projected_cf['FY+1 est']['Unlevered FCF'] + projected_cf['FY+1 est']['Total Debt']\r\n",
    "\r\n",
    "    projected_cf['FY+2 est'] = {}\r\n",
    "\r\n",
    "    projected_cf['FY+2 est']['Net Income'] = complete_inc_stmt_df['FY+2 est']['netIncome']\r\n",
    "    projected_cf['FY+2 est']['Depreciation & Amortization'] = complete_inc_stmt_df['FY+2 est']['depreciationAndAmortization']\r\n",
    "    projected_cf['FY+2 est']['Change in Receivables'] = complete_bal_sht_df['FY+1 est']['netReceivables'] - complete_bal_sht_df['FY+2 est']['netReceivables']\r\n",
    "    projected_cf['FY+2 est']['Change in Inventory'] = complete_bal_sht_df['FY+1 est']['inventory'] - complete_bal_sht_df['FY+2 est']['inventory']\r\n",
    "    projected_cf['FY+2 est']['Change in Payables'] = complete_bal_sht_df['FY+2 est']['accountPayables'] - complete_bal_sht_df['FY+1 est']['accountPayables']\r\n",
    "    projected_cf['FY+2 est']['Change in NWC'] = projected_cf['FY+2 est']['Change in Receivables'] + projected_cf['FY+2 est']['Change in Inventory'] + projected_cf['FY+2 est']['Change in Payables']\r\n",
    "    projected_cf['FY+2 est']['OP CF'] = projected_cf['FY+2 est']['Net Income'] + projected_cf['FY+2 est']['Depreciation & Amortization'] + projected_cf['FY+2 est']['Change in NWC']\r\n",
    "    projected_cf['FY+2 est']['CAPEX'] = complete_bal_sht_df['FY+2 est']['propertyPlantEquipmentNet'] - complete_bal_sht_df['FY+1 est']['propertyPlantEquipmentNet'] + complete_inc_stmt_df['FY+2 est']['depreciationAndAmortization']\r\n",
    "    projected_cf['FY+2 est']['Unlevered FCF'] = projected_cf['FY+2 est']['CAPEX'] + projected_cf['FY+2 est']['OP CF']\r\n",
    "    ##projected_cf['FY+2 est']['Total Debt'] = -(complete_bal_sht_df['FY+2 est']['totalDebt'])\r\n",
    "    ##projected_cf['FY+2 est']['Levered FCF'] = projected_cf['FY+2 est']['Unlevered FCF'] + projected_cf['FY+2 est']['Total Debt']\r\n",
    "\r\n",
    "    projected_cf['FY+3 est'] = {}\r\n",
    "\r\n",
    "    projected_cf['FY+3 est']['Net Income'] = complete_inc_stmt_df['FY+3 est']['netIncome']\r\n",
    "    projected_cf['FY+3 est']['Depreciation & Amortization'] = complete_inc_stmt_df['FY+3 est']['depreciationAndAmortization']\r\n",
    "    projected_cf['FY+3 est']['Change in Receivables'] = complete_bal_sht_df['FY+2 est']['netReceivables'] - complete_bal_sht_df['FY+3 est']['netReceivables']\r\n",
    "    projected_cf['FY+3 est']['Change in Inventory'] = complete_bal_sht_df['FY+2 est']['inventory'] - complete_bal_sht_df['FY+3 est']['inventory']\r\n",
    "    projected_cf['FY+3 est']['Change in Payables'] = complete_bal_sht_df['FY+3 est']['accountPayables'] - complete_bal_sht_df['FY+2 est']['accountPayables']\r\n",
    "    projected_cf['FY+3 est']['Change in NWC'] = projected_cf['FY+3 est']['Change in Receivables'] + projected_cf['FY+3 est']['Change in Inventory'] + projected_cf['FY+3 est']['Change in Payables']\r\n",
    "    projected_cf['FY+3 est']['OP CF'] = projected_cf['FY+3 est']['Net Income'] + projected_cf['FY+3 est']['Depreciation & Amortization'] + projected_cf['FY+3 est']['Change in NWC']\r\n",
    "    projected_cf['FY+3 est']['CAPEX'] = complete_bal_sht_df['FY+3 est']['propertyPlantEquipmentNet'] - complete_bal_sht_df['FY+2 est']['propertyPlantEquipmentNet'] + complete_inc_stmt_df['FY+3 est']['depreciationAndAmortization']\r\n",
    "    projected_cf['FY+3 est']['Unlevered FCF'] = projected_cf['FY+3 est']['CAPEX'] + projected_cf['FY+3 est']['OP CF']\r\n",
    "    ##projected_cf['FY+3 est']['Total Debt'] = -(complete_bal_sht_df['FY+3 est']['totalDebt'])\r\n",
    "    ##projected_cf['FY+3 est']['Levered FCF'] = projected_cf['FY+3 est']['Unlevered FCF'] + projected_cf['FY+3 est']['Total Debt']\r\n",
    "\r\n",
    "\r\n",
    "    projected_cf['FY+4 est'] = {}\r\n",
    "\r\n",
    "    projected_cf['FY+4 est']['Net Income'] = complete_inc_stmt_df['FY+4 est']['netIncome']\r\n",
    "    projected_cf['FY+4 est']['Depreciation & Amortization'] = complete_inc_stmt_df['FY+4 est']['depreciationAndAmortization']\r\n",
    "    projected_cf['FY+4 est']['Change in Receivables'] = complete_bal_sht_df['FY+3 est']['netReceivables'] - complete_bal_sht_df['FY+4 est']['netReceivables']\r\n",
    "    projected_cf['FY+4 est']['Change in Inventory'] = complete_bal_sht_df['FY+3 est']['inventory'] - complete_bal_sht_df['FY+4 est']['inventory']\r\n",
    "    projected_cf['FY+4 est']['Change in Payables'] = complete_bal_sht_df['FY+4 est']['accountPayables'] - complete_bal_sht_df['FY+3 est']['accountPayables']\r\n",
    "    projected_cf['FY+4 est']['Change in NWC'] = projected_cf['FY+4 est']['Change in Receivables'] + projected_cf['FY+4 est']['Change in Inventory'] + projected_cf['FY+4 est']['Change in Payables']\r\n",
    "    projected_cf['FY+4 est']['OP CF'] = projected_cf['FY+4 est']['Net Income'] + projected_cf['FY+4 est']['Depreciation & Amortization'] + projected_cf['FY+4 est']['Change in NWC']\r\n",
    "    projected_cf['FY+4 est']['CAPEX'] = complete_bal_sht_df['FY+4 est']['propertyPlantEquipmentNet'] - complete_bal_sht_df['FY+3 est']['propertyPlantEquipmentNet'] + complete_inc_stmt_df['FY+4 est']['depreciationAndAmortization']\r\n",
    "    projected_cf['FY+4 est']['Unlevered FCF'] = projected_cf['FY+4 est']['CAPEX'] + projected_cf['FY+4 est']['OP CF']\r\n",
    "    ##projected_cf['FY+4 est']['Total Debt'] = -(complete_bal_sht_df['FY+4 est']['totalDebt'])\r\n",
    "    ##projected_cf['FY+4 est']['Levered FCF'] = projected_cf['FY+4 est']['Unlevered FCF'] + projected_cf['FY+4 est']['Total Debt']\r\n",
    "\r\n",
    "\r\n",
    "    projected_cf['FY+5 est'] = {}\r\n",
    "\r\n",
    "    projected_cf['FY+5 est']['Net Income'] = complete_inc_stmt_df['FY+5 est']['netIncome']\r\n",
    "    projected_cf['FY+5 est']['Depreciation & Amortization'] = complete_inc_stmt_df['FY+5 est']['depreciationAndAmortization']\r\n",
    "    projected_cf['FY+5 est']['Change in Receivables'] = complete_bal_sht_df['FY+4 est']['netReceivables'] - complete_bal_sht_df['FY+5 est']['netReceivables']\r\n",
    "    projected_cf['FY+5 est']['Change in Inventory'] = complete_bal_sht_df['FY+4 est']['inventory'] - complete_bal_sht_df['FY+5 est']['inventory']\r\n",
    "    projected_cf['FY+5 est']['Change in Payables'] = complete_bal_sht_df['FY+5 est']['accountPayables'] - complete_bal_sht_df['FY+4 est']['accountPayables']\r\n",
    "    projected_cf['FY+5 est']['Change in NWC'] = projected_cf['FY+5 est']['Change in Receivables'] + projected_cf['FY+5 est']['Change in Inventory'] + projected_cf['FY+5 est']['Change in Payables']\r\n",
    "    projected_cf['FY+5 est']['OP CF'] = projected_cf['FY+5 est']['Net Income'] + projected_cf['FY+5 est']['Depreciation & Amortization'] + projected_cf['FY+5 est']['Change in NWC']\r\n",
    "    projected_cf['FY+5 est']['CAPEX'] = complete_bal_sht_df['FY+5 est']['propertyPlantEquipmentNet'] - complete_bal_sht_df['FY+4 est']['propertyPlantEquipmentNet'] + complete_inc_stmt_df['FY+5 est']['depreciationAndAmortization']\r\n",
    "    projected_cf['FY+5 est']['Unlevered FCF'] = projected_cf['FY+5 est']['CAPEX'] + projected_cf['FY+5 est']['OP CF']\r\n",
    "    ##projected_cf['FY+5 est']['Total Debt'] = -(complete_bal_sht_df['FY+5 est']['totalDebt'])\r\n",
    "    ##projected_cf['FY+5 est']['Levered FCF'] = projected_cf['FY+5 est']['Unlevered FCF'] + projected_cf['FY+5 est']['Total Debt']\r\n",
    "\r\n",
    "    cf_forecast = pd.DataFrame.from_dict(projected_cf, orient='columns')\r\n",
    "    pd.options.display.float_format = '{:,.0f}'.format\r\n",
    "    cf_forecast = cf_forecast.reindex(['Net Income', 'Depreciation & Amortization', 'Change in Receivables','Change in Inventory', 'Change in Payables', 'Change in NWC', 'OP CF', 'CAPEX', 'Unlevered FCF'])\r\n",
    "\r\n",
    "    return cf_forecast\r\n",
    "\r\n",
    "cash_flow_forecast()\r\n"
   ]
  },
  {
   "cell_type": "code",
   "execution_count": 8,
   "metadata": {},
   "outputs": [
    {
     "data": {
      "text/plain": "0.0007000000000000001"
     },
     "execution_count": 8,
     "metadata": {},
     "output_type": "execute_result"
    }
   ],
   "source": [
    "ticker_data = api.get_barset(\r\n",
    "    [company, 'SPY'],\r\n",
    "    timeframe,\r\n",
    "    start=start_date,\r\n",
    "    end=end_date,\r\n",
    "    limit=1000\r\n",
    ").df\r\n",
    "\r\n",
    "start = datetime.datetime(2020, 3, 31)\r\n",
    "end = datetime.datetime(2021, 3, 31)\r\n",
    "\r\n",
    "Treasury = web.DataReader(['TB1YR'], 'fred', start, end)\r\n",
    "pd.options.display.float_format = '{:,.2f}'.format\r\n",
    "\r\n",
    "rfr = float(Treasury.iloc[-1])\r\n",
    "rfr = rfr/100\r\n",
    "rfr"
   ]
  },
  {
   "cell_type": "code",
   "execution_count": 9,
   "metadata": {},
   "outputs": [
    {
     "data": {
      "text/plain": "0.11220728628985484"
     },
     "execution_count": 9,
     "metadata": {},
     "output_type": "execute_result"
    }
   ],
   "source": [
    "def wacc():\r\n",
    "    def beta_calc(): \r\n",
    "        ticker_data = api.get_barset(\r\n",
    "            [company, 'SPY'],\r\n",
    "            timeframe,\r\n",
    "            start=start_date,\r\n",
    "            end=end_date,\r\n",
    "            limit=1000\r\n",
    "        ).df\r\n",
    "\r\n",
    "        ticker_data = ticker_data.drop(columns=['open','high','low','volume'],level=1)\r\n",
    "        daily_returns = ticker_data.pct_change().dropna()\r\n",
    "        covariance = daily_returns[company]['close'].cov(daily_returns['SPY']['close'])\r\n",
    "        variance = daily_returns['SPY']['close'].var()\r\n",
    "        beta = covariance / variance \r\n",
    "        \r\n",
    "        return beta\r\n",
    "\r\n",
    "    def cost_of_equity():\r\n",
    "        ticker_data = api.get_barset(\r\n",
    "            [company, 'SPY'],\r\n",
    "            timeframe,\r\n",
    "            start=start_date,\r\n",
    "            end=end_date,\r\n",
    "            limit=1000\r\n",
    "        ).df\r\n",
    "\r\n",
    "        ticker_data = ticker_data.drop(columns=['open','high','low','volume'],level=1)\r\n",
    "        market_returns = ticker_data['SPY']['close'].pct_change().dropna().mean()*252\r\n",
    "\r\n",
    "        beta = beta_calc()\r\n",
    "        risk_prem = market_returns - rfr\r\n",
    "\r\n",
    "        return rfr + (beta*risk_prem)\r\n",
    "\r\n",
    "    def cost_of_debt():\r\n",
    "        debt_interest_rate = complete_inc_stmt_df['CY']['interestExpense'] / complete_bal_sht_df['CY']['totalDebt']\r\n",
    "        \r\n",
    "        return debt_interest_rate\r\n",
    "    \r\n",
    "    kd = cost_of_debt()\r\n",
    "    ke = cost_of_equity()\r\n",
    "    debt_to_capital = complete_bal_sht_df['CY']['totalDebt'] / complete_bal_sht_df['CY']['totalLiabilitiesAndStockholdersEquity']\r\n",
    "    equity_to_capital = complete_bal_sht_df['CY']['totalStockholdersEquity'] / complete_bal_sht_df['CY']['totalLiabilitiesAndStockholdersEquity']\r\n",
    "    tax_rate = 0.21\r\n",
    "\r\n",
    "    return (kd * debt_to_capital * (1-tax_rate)) +(ke * equity_to_capital)\r\n",
    "\r\n",
    "wacc()"
   ]
  },
  {
   "cell_type": "code",
   "execution_count": 10,
   "metadata": {},
   "outputs": [
    {
     "data": {
      "text/plain": "42.41981397479673"
     },
     "execution_count": 10,
     "metadata": {},
     "output_type": "execute_result"
    }
   ],
   "source": [
    "def dcf_px():\r\n",
    "    FCF = cash_flow_forecast().iloc[-1]\r\n",
    "    FCF_list = FCF.values.tolist()\r\n",
    "    wacc_rate = wacc()\r\n",
    "    npv = np.npv(wacc_rate,FCF_list).round(2)\r\n",
    "\r\n",
    "    terminal_growth = 0.04\r\n",
    "    terminal_value = FCF[-1] * (1+terminal_growth)/(wacc_rate-terminal_growth)\r\n",
    "    terminal_value.round(2)\r\n",
    "\r\n",
    "    shares = shares_outstanding [0]['numberOfShares']\r\n",
    "\r\n",
    "    est_equity_value = terminal_value + npv\r\n",
    "\r\n",
    "    ev_per_share = est_equity_value / shares\r\n",
    "    return ev_per_share\r\n",
    "\r\n",
    "dcf_px()"
   ]
  },
  {
   "cell_type": "code",
   "execution_count": 11,
   "metadata": {},
   "outputs": [],
   "source": [
    "##def beta_calc(): \r\n",
    "    ##ticker_data = api.get_barset([company, 'SPY'],timeframe,start=start_date,end=end_date, limit=1000).df\r\n",
    "\r\n",
    "    ##ticker_data = ticker_data.drop(columns=['open','high','low','volume'],level=1)\r\n",
    "    ##daily_returns = ticker_data.pct_change().dropna()\r\n",
    "    ##covariance = daily_returns[company]['close'].cov(daily_returns['SPY']['close'])\r\n",
    "    ##variance = daily_returns['SPY']['close'].var()\r\n",
    "    ##beta = covariance / variance \r\n",
    "    ##return beta\r\n",
    "\r\n",
    "##beta_calc()"
   ]
  },
  {
   "cell_type": "code",
   "execution_count": 12,
   "metadata": {},
   "outputs": [],
   "source": [
    "##def cost_of_equity():\r\n",
    "    ##ticker_data = api.get_barset([company, 'SPY'], timeframe, start=start_date, end=end_date, limit=1000).df\r\n",
    "\r\n",
    "    ##ticker_data = ticker_data.drop(columns=['open','high','low','volume'],level=1)\r\n",
    "    ##market_returns = ticker_data['SPY']['close'].pct_change().dropna().mean()*252\r\n",
    "\r\n",
    "    ##beta = beta_calc()\r\n",
    "    ##risk_prem = market_returns - rfr\r\n",
    "\r\n",
    "    ##return rfr + (beta*risk_prem)\r\n",
    "\r\n",
    "##cost_of_equity()"
   ]
  },
  {
   "cell_type": "code",
   "execution_count": 13,
   "metadata": {},
   "outputs": [],
   "source": [
    "##def cost_of_debt():\r\n",
    "    ##debt_interest_rate = complete_inc_stmt_df['CY']['interestExpense'] / complete_bal_sht_df['CY']['totalDebt']\r\n",
    "    ##return debt_interest_rate\r\n",
    "\r\n",
    "##cost_of_debt()\r\n"
   ]
  },
  {
   "cell_type": "code",
   "execution_count": 14,
   "metadata": {},
   "outputs": [],
   "source": [
    "##FCF = cash_flow_forecast().iloc[-1]\r\n",
    "##FCF_list = FCF.values.tolist()\r\n",
    "##wacc = wacc()\r\n",
    "##npv = np.npv(wacc,FCF_list).round(2)\r\n",
    "##npv "
   ]
  },
  {
   "cell_type": "code",
   "execution_count": 15,
   "metadata": {},
   "outputs": [],
   "source": [
    "##terminal_growth = 0.04\r\n",
    "##terminal_value = FCF[-1] * (1+terminal_growth)/(wacc-terminal_growth)\r\n",
    "##terminal_value.round(2)"
   ]
  },
  {
   "cell_type": "code",
   "execution_count": 16,
   "metadata": {},
   "outputs": [
    {
     "name": "stderr",
     "output_type": "stream",
     "text": [
      "C:\\Users\\andyl\\anaconda3\\envs\\alpacaenv\\lib\\site-packages\\ipykernel_launcher.py:17: SettingWithCopyWarning: \n",
      "A value is trying to be set on a copy of a slice from a DataFrame.\n",
      "Try using .loc[row_indexer,col_indexer] = value instead\n",
      "\n",
      "See the caveats in the documentation: https://pandas.pydata.org/pandas-docs/stable/user_guide/indexing.html#returning-a-view-versus-a-copy\n",
      "C:\\Users\\andyl\\anaconda3\\envs\\alpacaenv\\lib\\site-packages\\ipykernel_launcher.py:18: SettingWithCopyWarning: \n",
      "A value is trying to be set on a copy of a slice from a DataFrame.\n",
      "Try using .loc[row_indexer,col_indexer] = value instead\n",
      "\n",
      "See the caveats in the documentation: https://pandas.pydata.org/pandas-docs/stable/user_guide/indexing.html#returning-a-view-versus-a-copy\n",
      "C:\\Users\\andyl\\anaconda3\\envs\\alpacaenv\\lib\\site-packages\\ipykernel_launcher.py:19: SettingWithCopyWarning: \n",
      "A value is trying to be set on a copy of a slice from a DataFrame.\n",
      "Try using .loc[row_indexer,col_indexer] = value instead\n",
      "\n",
      "See the caveats in the documentation: https://pandas.pydata.org/pandas-docs/stable/user_guide/indexing.html#returning-a-view-versus-a-copy\n",
      "C:\\Users\\andyl\\anaconda3\\envs\\alpacaenv\\lib\\site-packages\\ipykernel_launcher.py:20: SettingWithCopyWarning: \n",
      "A value is trying to be set on a copy of a slice from a DataFrame.\n",
      "Try using .loc[row_indexer,col_indexer] = value instead\n",
      "\n",
      "See the caveats in the documentation: https://pandas.pydata.org/pandas-docs/stable/user_guide/indexing.html#returning-a-view-versus-a-copy\n",
      "C:\\Users\\andyl\\anaconda3\\envs\\alpacaenv\\lib\\site-packages\\ipykernel_launcher.py:21: SettingWithCopyWarning: \n",
      "A value is trying to be set on a copy of a slice from a DataFrame.\n",
      "Try using .loc[row_indexer,col_indexer] = value instead\n",
      "\n",
      "See the caveats in the documentation: https://pandas.pydata.org/pandas-docs/stable/user_guide/indexing.html#returning-a-view-versus-a-copy\n",
      "C:\\Users\\andyl\\anaconda3\\envs\\alpacaenv\\lib\\site-packages\\ipykernel_launcher.py:14: SettingWithCopyWarning: \n",
      "A value is trying to be set on a copy of a slice from a DataFrame.\n",
      "Try using .loc[row_indexer,col_indexer] = value instead\n",
      "\n",
      "See the caveats in the documentation: https://pandas.pydata.org/pandas-docs/stable/user_guide/indexing.html#returning-a-view-versus-a-copy\n",
      "  \n",
      "C:\\Users\\andyl\\anaconda3\\envs\\alpacaenv\\lib\\site-packages\\ipykernel_launcher.py:15: SettingWithCopyWarning: \n",
      "A value is trying to be set on a copy of a slice from a DataFrame.\n",
      "Try using .loc[row_indexer,col_indexer] = value instead\n",
      "\n",
      "See the caveats in the documentation: https://pandas.pydata.org/pandas-docs/stable/user_guide/indexing.html#returning-a-view-versus-a-copy\n",
      "  from ipykernel import kernelapp as app\n",
      "C:\\Users\\andyl\\anaconda3\\envs\\alpacaenv\\lib\\site-packages\\ipykernel_launcher.py:16: SettingWithCopyWarning: \n",
      "A value is trying to be set on a copy of a slice from a DataFrame.\n",
      "Try using .loc[row_indexer,col_indexer] = value instead\n",
      "\n",
      "See the caveats in the documentation: https://pandas.pydata.org/pandas-docs/stable/user_guide/indexing.html#returning-a-view-versus-a-copy\n",
      "  app.launch_new_instance()\n"
     ]
    },
    {
     "data": {
      "text/html": "<div>\n<style scoped>\n    .dataframe tbody tr th:only-of-type {\n        vertical-align: middle;\n    }\n\n    .dataframe tbody tr th {\n        vertical-align: top;\n    }\n\n    .dataframe thead th {\n        text-align: right;\n    }\n</style>\n<table border=\"1\" class=\"dataframe\">\n  <thead>\n    <tr style=\"text-align: right;\">\n      <th></th>\n      <th>Liquidity Ratios</th>\n      <th>Solvency Ratios</th>\n      <th>Profitability Ratios</th>\n      <th>Debt Coverage Ratios</th>\n    </tr>\n  </thead>\n  <tbody>\n    <tr>\n      <th>Current Ratio</th>\n      <td>1.35</td>\n      <td>nan</td>\n      <td>nan</td>\n      <td>nan</td>\n    </tr>\n    <tr>\n      <th>Quick Ratio</th>\n      <td>0.91</td>\n      <td>nan</td>\n      <td>nan</td>\n      <td>nan</td>\n    </tr>\n    <tr>\n      <th>Cash Ratio</th>\n      <td>0.48</td>\n      <td>nan</td>\n      <td>nan</td>\n      <td>nan</td>\n    </tr>\n    <tr>\n      <th>Debt-Equity</th>\n      <td>nan</td>\n      <td>1.44</td>\n      <td>nan</td>\n      <td>nan</td>\n    </tr>\n    <tr>\n      <th>Debt-Capital</th>\n      <td>nan</td>\n      <td>0.59</td>\n      <td>nan</td>\n      <td>nan</td>\n    </tr>\n    <tr>\n      <th>Profit Margin</th>\n      <td>nan</td>\n      <td>nan</td>\n      <td>0.23</td>\n      <td>nan</td>\n    </tr>\n    <tr>\n      <th>Operating Margin</th>\n      <td>nan</td>\n      <td>nan</td>\n      <td>0.21</td>\n      <td>nan</td>\n    </tr>\n    <tr>\n      <th>Gross Margin</th>\n      <td>nan</td>\n      <td>nan</td>\n      <td>0.79</td>\n      <td>nan</td>\n    </tr>\n    <tr>\n      <th>ROA</th>\n      <td>nan</td>\n      <td>nan</td>\n      <td>0.06</td>\n      <td>nan</td>\n    </tr>\n    <tr>\n      <th>ROE</th>\n      <td>nan</td>\n      <td>nan</td>\n      <td>0.15</td>\n      <td>nan</td>\n    </tr>\n    <tr>\n      <th>Asset Coverage</th>\n      <td>nan</td>\n      <td>nan</td>\n      <td>nan</td>\n      <td>4.95</td>\n    </tr>\n    <tr>\n      <th>Interest Coverage</th>\n      <td>nan</td>\n      <td>nan</td>\n      <td>nan</td>\n      <td>5.17</td>\n    </tr>\n    <tr>\n      <th>Debt Service Coverage</th>\n      <td>nan</td>\n      <td>nan</td>\n      <td>nan</td>\n      <td>0.08</td>\n    </tr>\n  </tbody>\n</table>\n</div>",
      "text/plain": "                       Liquidity Ratios  Solvency Ratios  \\\nCurrent Ratio                      1.35              nan   \nQuick Ratio                        0.91              nan   \nCash Ratio                         0.48              nan   \nDebt-Equity                         nan             1.44   \nDebt-Capital                        nan             0.59   \nProfit Margin                       nan              nan   \nOperating Margin                    nan              nan   \nGross Margin                        nan              nan   \nROA                                 nan              nan   \nROE                                 nan              nan   \nAsset Coverage                      nan              nan   \nInterest Coverage                   nan              nan   \nDebt Service Coverage               nan              nan   \n\n                       Profitability Ratios  Debt Coverage Ratios  \nCurrent Ratio                           nan                   nan  \nQuick Ratio                             nan                   nan  \nCash Ratio                              nan                   nan  \nDebt-Equity                             nan                   nan  \nDebt-Capital                            nan                   nan  \nProfit Margin                          0.23                   nan  \nOperating Margin                       0.21                   nan  \nGross Margin                           0.79                   nan  \nROA                                    0.06                   nan  \nROE                                    0.15                   nan  \nAsset Coverage                          nan                  4.95  \nInterest Coverage                       nan                  5.17  \nDebt Service Coverage                   nan                  0.08  "
     },
     "execution_count": 16,
     "metadata": {},
     "output_type": "execute_result"
    }
   ],
   "source": [
    "def fundamental_analysis():\r\n",
    "    complete_inc_stmt_df = inc_stmt_function()\r\n",
    "    complete_bal_sht_df = bal_sht_function() \r\n",
    "    \r\n",
    "    financial_analysis = {}\r\n",
    "\r\n",
    "\r\n",
    "    financial_analysis['Liquidity Ratios'] = {}\r\n",
    "\r\n",
    "\r\n",
    "    financial_analysis['Liquidity Ratios']['Current Ratio'] = complete_bal_sht_df['CY']['totalCurrentAssets'] / complete_bal_sht_df['CY']['totalCurrentLiabilities']\r\n",
    "\r\n",
    "    financial_analysis['Liquidity Ratios']['Quick Ratio'] = (complete_bal_sht_df['CY']['totalCurrentAssets'] - complete_bal_sht_df['CY']['inventory'] - complete_bal_sht_df['CY']['otherCurrentAssets'])/ complete_bal_sht_df['CY']['totalCurrentLiabilities']\r\n",
    "\r\n",
    "    financial_analysis['Liquidity Ratios']['Cash Ratio'] = (complete_bal_sht_df['CY']['totalCurrentAssets'] - complete_bal_sht_df['CY']['inventory'] - complete_bal_sht_df['CY']['netReceivables'] - complete_bal_sht_df['CY']['otherCurrentAssets']) / complete_bal_sht_df['CY']['totalCurrentLiabilities']\r\n",
    "\r\n",
    "\r\n",
    "    financial_analysis['Solvency Ratios'] = {}\r\n",
    "\r\n",
    "\r\n",
    "    financial_analysis['Solvency Ratios']['Debt-Equity'] = complete_bal_sht_df['CY']['totalLiabilities'] / complete_bal_sht_df['CY']['totalStockholdersEquity']\r\n",
    "\r\n",
    "    financial_analysis['Solvency Ratios']['Debt-Capital'] = complete_bal_sht_df['CY']['totalLiabilities'] / complete_bal_sht_df['CY']['totalLiabilitiesAndStockholdersEquity']\r\n",
    "\r\n",
    "\r\n",
    "    financial_analysis['Profitability Ratios'] = {}\r\n",
    "\r\n",
    "\r\n",
    "    financial_analysis['Profitability Ratios']['Profit Margin'] = complete_inc_stmt_df['CY']['netIncome'] / complete_inc_stmt_df['CY']['revenue']\r\n",
    "\r\n",
    "    financial_analysis['Profitability Ratios']['Operating Margin'] = complete_inc_stmt_df['CY']['operatingIncomeRatio']\r\n",
    "\r\n",
    "    financial_analysis['Profitability Ratios']['Gross Margin'] = complete_inc_stmt_df['CY']['grossProfitRatio']\r\n",
    "\r\n",
    "    financial_analysis['Profitability Ratios']['ROA'] = complete_inc_stmt_df['CY']['netIncome'] / complete_bal_sht_df['CY']['totalAssets']\r\n",
    "\r\n",
    "    financial_analysis['Profitability Ratios']['ROE'] = complete_inc_stmt_df['CY']['netIncome'] / complete_bal_sht_df['CY']['totalStockholdersEquity']\r\n",
    "\r\n",
    "\r\n",
    "    financial_analysis['Debt Coverage Ratios'] = {}\r\n",
    "\r\n",
    "\r\n",
    "    financial_analysis['Debt Coverage Ratios']['Interest Coverage'] = complete_inc_stmt_df['CY']['incomeBeforeTax'] / complete_inc_stmt_df['CY']['interestExpense']\r\n",
    "\r\n",
    "    financial_analysis['Debt Coverage Ratios']['Debt Service Coverage'] =complete_inc_stmt_df['CY']['incomeBeforeTax'] / complete_bal_sht_df['CY']['totalLiabilities']\r\n",
    "\r\n",
    "    financial_analysis['Debt Coverage Ratios']['Asset Coverage'] =  (complete_bal_sht_df['CY']['totalAssets'] - complete_bal_sht_df['CY']['totalCurrentLiabilities'])/ complete_bal_sht_df['CY']['totalCurrentLiabilities']\r\n",
    "\r\n",
    "    financial_analysis_df = pd.DataFrame.from_dict(financial_analysis, orient='columns')\r\n",
    "    pd.options.display.float_format = '{:,.2f}'.format\r\n",
    "    financial_analysis_df = financial_analysis_df.reindex(['Current Ratio', 'Quick Ratio', 'Cash Ratio','Debt-Equity', 'Debt-Capital', 'Profit Margin', 'Operating Margin', 'Gross Margin', 'ROA', 'ROE', 'Asset Coverage', 'Interest Coverage', 'Debt Service Coverage'])\r\n",
    "\r\n",
    "    \r\n",
    "\r\n",
    "    return financial_analysis_df\r\n",
    "\r\n",
    "fundamental_analysis()"
   ]
  },
  {
   "cell_type": "code",
   "execution_count": 17,
   "metadata": {},
   "outputs": [
    {
     "name": "stderr",
     "output_type": "stream",
     "text": [
      "C:\\Users\\andyl\\anaconda3\\envs\\alpacaenv\\lib\\site-packages\\ipykernel_launcher.py:17: SettingWithCopyWarning: \n",
      "A value is trying to be set on a copy of a slice from a DataFrame.\n",
      "Try using .loc[row_indexer,col_indexer] = value instead\n",
      "\n",
      "See the caveats in the documentation: https://pandas.pydata.org/pandas-docs/stable/user_guide/indexing.html#returning-a-view-versus-a-copy\n",
      "C:\\Users\\andyl\\anaconda3\\envs\\alpacaenv\\lib\\site-packages\\ipykernel_launcher.py:18: SettingWithCopyWarning: \n",
      "A value is trying to be set on a copy of a slice from a DataFrame.\n",
      "Try using .loc[row_indexer,col_indexer] = value instead\n",
      "\n",
      "See the caveats in the documentation: https://pandas.pydata.org/pandas-docs/stable/user_guide/indexing.html#returning-a-view-versus-a-copy\n",
      "C:\\Users\\andyl\\anaconda3\\envs\\alpacaenv\\lib\\site-packages\\ipykernel_launcher.py:19: SettingWithCopyWarning: \n",
      "A value is trying to be set on a copy of a slice from a DataFrame.\n",
      "Try using .loc[row_indexer,col_indexer] = value instead\n",
      "\n",
      "See the caveats in the documentation: https://pandas.pydata.org/pandas-docs/stable/user_guide/indexing.html#returning-a-view-versus-a-copy\n",
      "C:\\Users\\andyl\\anaconda3\\envs\\alpacaenv\\lib\\site-packages\\ipykernel_launcher.py:20: SettingWithCopyWarning: \n",
      "A value is trying to be set on a copy of a slice from a DataFrame.\n",
      "Try using .loc[row_indexer,col_indexer] = value instead\n",
      "\n",
      "See the caveats in the documentation: https://pandas.pydata.org/pandas-docs/stable/user_guide/indexing.html#returning-a-view-versus-a-copy\n",
      "C:\\Users\\andyl\\anaconda3\\envs\\alpacaenv\\lib\\site-packages\\ipykernel_launcher.py:21: SettingWithCopyWarning: \n",
      "A value is trying to be set on a copy of a slice from a DataFrame.\n",
      "Try using .loc[row_indexer,col_indexer] = value instead\n",
      "\n",
      "See the caveats in the documentation: https://pandas.pydata.org/pandas-docs/stable/user_guide/indexing.html#returning-a-view-versus-a-copy\n",
      "C:\\Users\\andyl\\anaconda3\\envs\\alpacaenv\\lib\\site-packages\\ipykernel_launcher.py:14: SettingWithCopyWarning: \n",
      "A value is trying to be set on a copy of a slice from a DataFrame.\n",
      "Try using .loc[row_indexer,col_indexer] = value instead\n",
      "\n",
      "See the caveats in the documentation: https://pandas.pydata.org/pandas-docs/stable/user_guide/indexing.html#returning-a-view-versus-a-copy\n",
      "  \n",
      "C:\\Users\\andyl\\anaconda3\\envs\\alpacaenv\\lib\\site-packages\\ipykernel_launcher.py:15: SettingWithCopyWarning: \n",
      "A value is trying to be set on a copy of a slice from a DataFrame.\n",
      "Try using .loc[row_indexer,col_indexer] = value instead\n",
      "\n",
      "See the caveats in the documentation: https://pandas.pydata.org/pandas-docs/stable/user_guide/indexing.html#returning-a-view-versus-a-copy\n",
      "  from ipykernel import kernelapp as app\n",
      "C:\\Users\\andyl\\anaconda3\\envs\\alpacaenv\\lib\\site-packages\\ipykernel_launcher.py:16: SettingWithCopyWarning: \n",
      "A value is trying to be set on a copy of a slice from a DataFrame.\n",
      "Try using .loc[row_indexer,col_indexer] = value instead\n",
      "\n",
      "See the caveats in the documentation: https://pandas.pydata.org/pandas-docs/stable/user_guide/indexing.html#returning-a-view-versus-a-copy\n",
      "  app.launch_new_instance()\n"
     ]
    },
    {
     "data": {
      "text/plain": "Current Ratio   1.35\nQuick Ratio     0.91\nCash Ratio      0.48\nName: Liquidity Ratios, dtype: float64"
     },
     "execution_count": 17,
     "metadata": {},
     "output_type": "execute_result"
    }
   ],
   "source": [
    "def liquidity_analysis():\r\n",
    "    complete_inc_stmt_df = inc_stmt_function()\r\n",
    "    complete_bal_sht_df = bal_sht_function() \r\n",
    "    financial_analysis_df = fundamental_analysis()\r\n",
    "\r\n",
    "    liquidity_ratio = financial_analysis_df['Liquidity Ratios'].dropna()\r\n",
    "    \r\n",
    "    return liquidity_ratio\r\n",
    "\r\n",
    "liquidity_analysis()\r\n"
   ]
  },
  {
   "cell_type": "code",
   "execution_count": 18,
   "metadata": {},
   "outputs": [
    {
     "name": "stderr",
     "output_type": "stream",
     "text": [
      "C:\\Users\\andyl\\anaconda3\\envs\\alpacaenv\\lib\\site-packages\\ipykernel_launcher.py:17: SettingWithCopyWarning: \n",
      "A value is trying to be set on a copy of a slice from a DataFrame.\n",
      "Try using .loc[row_indexer,col_indexer] = value instead\n",
      "\n",
      "See the caveats in the documentation: https://pandas.pydata.org/pandas-docs/stable/user_guide/indexing.html#returning-a-view-versus-a-copy\n",
      "C:\\Users\\andyl\\anaconda3\\envs\\alpacaenv\\lib\\site-packages\\ipykernel_launcher.py:18: SettingWithCopyWarning: \n",
      "A value is trying to be set on a copy of a slice from a DataFrame.\n",
      "Try using .loc[row_indexer,col_indexer] = value instead\n",
      "\n",
      "See the caveats in the documentation: https://pandas.pydata.org/pandas-docs/stable/user_guide/indexing.html#returning-a-view-versus-a-copy\n",
      "C:\\Users\\andyl\\anaconda3\\envs\\alpacaenv\\lib\\site-packages\\ipykernel_launcher.py:19: SettingWithCopyWarning: \n",
      "A value is trying to be set on a copy of a slice from a DataFrame.\n",
      "Try using .loc[row_indexer,col_indexer] = value instead\n",
      "\n",
      "See the caveats in the documentation: https://pandas.pydata.org/pandas-docs/stable/user_guide/indexing.html#returning-a-view-versus-a-copy\n",
      "C:\\Users\\andyl\\anaconda3\\envs\\alpacaenv\\lib\\site-packages\\ipykernel_launcher.py:20: SettingWithCopyWarning: \n",
      "A value is trying to be set on a copy of a slice from a DataFrame.\n",
      "Try using .loc[row_indexer,col_indexer] = value instead\n",
      "\n",
      "See the caveats in the documentation: https://pandas.pydata.org/pandas-docs/stable/user_guide/indexing.html#returning-a-view-versus-a-copy\n",
      "C:\\Users\\andyl\\anaconda3\\envs\\alpacaenv\\lib\\site-packages\\ipykernel_launcher.py:21: SettingWithCopyWarning: \n",
      "A value is trying to be set on a copy of a slice from a DataFrame.\n",
      "Try using .loc[row_indexer,col_indexer] = value instead\n",
      "\n",
      "See the caveats in the documentation: https://pandas.pydata.org/pandas-docs/stable/user_guide/indexing.html#returning-a-view-versus-a-copy\n",
      "C:\\Users\\andyl\\anaconda3\\envs\\alpacaenv\\lib\\site-packages\\ipykernel_launcher.py:14: SettingWithCopyWarning: \n",
      "A value is trying to be set on a copy of a slice from a DataFrame.\n",
      "Try using .loc[row_indexer,col_indexer] = value instead\n",
      "\n",
      "See the caveats in the documentation: https://pandas.pydata.org/pandas-docs/stable/user_guide/indexing.html#returning-a-view-versus-a-copy\n",
      "  \n",
      "C:\\Users\\andyl\\anaconda3\\envs\\alpacaenv\\lib\\site-packages\\ipykernel_launcher.py:15: SettingWithCopyWarning: \n",
      "A value is trying to be set on a copy of a slice from a DataFrame.\n",
      "Try using .loc[row_indexer,col_indexer] = value instead\n",
      "\n",
      "See the caveats in the documentation: https://pandas.pydata.org/pandas-docs/stable/user_guide/indexing.html#returning-a-view-versus-a-copy\n",
      "  from ipykernel import kernelapp as app\n",
      "C:\\Users\\andyl\\anaconda3\\envs\\alpacaenv\\lib\\site-packages\\ipykernel_launcher.py:16: SettingWithCopyWarning: \n",
      "A value is trying to be set on a copy of a slice from a DataFrame.\n",
      "Try using .loc[row_indexer,col_indexer] = value instead\n",
      "\n",
      "See the caveats in the documentation: https://pandas.pydata.org/pandas-docs/stable/user_guide/indexing.html#returning-a-view-versus-a-copy\n",
      "  app.launch_new_instance()\n"
     ]
    },
    {
     "data": {
      "text/plain": "Debt-Equity    1.44\nDebt-Capital   0.59\nName: Solvency Ratios, dtype: float64"
     },
     "execution_count": 18,
     "metadata": {},
     "output_type": "execute_result"
    }
   ],
   "source": [
    "def solvency_analysis():\r\n",
    "    complete_inc_stmt_df = inc_stmt_function()\r\n",
    "    complete_bal_sht_df = bal_sht_function() \r\n",
    "    financial_analysis_df = fundamental_analysis()\r\n",
    "    \r\n",
    "    solvency_ratio = financial_analysis_df['Solvency Ratios'].dropna()\r\n",
    "\r\n",
    "    return solvency_ratio\r\n",
    "\r\n",
    "solvency_analysis()\r\n"
   ]
  },
  {
   "cell_type": "code",
   "execution_count": 19,
   "metadata": {},
   "outputs": [
    {
     "name": "stderr",
     "output_type": "stream",
     "text": [
      "C:\\Users\\andyl\\anaconda3\\envs\\alpacaenv\\lib\\site-packages\\ipykernel_launcher.py:17: SettingWithCopyWarning: \n",
      "A value is trying to be set on a copy of a slice from a DataFrame.\n",
      "Try using .loc[row_indexer,col_indexer] = value instead\n",
      "\n",
      "See the caveats in the documentation: https://pandas.pydata.org/pandas-docs/stable/user_guide/indexing.html#returning-a-view-versus-a-copy\n",
      "C:\\Users\\andyl\\anaconda3\\envs\\alpacaenv\\lib\\site-packages\\ipykernel_launcher.py:18: SettingWithCopyWarning: \n",
      "A value is trying to be set on a copy of a slice from a DataFrame.\n",
      "Try using .loc[row_indexer,col_indexer] = value instead\n",
      "\n",
      "See the caveats in the documentation: https://pandas.pydata.org/pandas-docs/stable/user_guide/indexing.html#returning-a-view-versus-a-copy\n",
      "C:\\Users\\andyl\\anaconda3\\envs\\alpacaenv\\lib\\site-packages\\ipykernel_launcher.py:19: SettingWithCopyWarning: \n",
      "A value is trying to be set on a copy of a slice from a DataFrame.\n",
      "Try using .loc[row_indexer,col_indexer] = value instead\n",
      "\n",
      "See the caveats in the documentation: https://pandas.pydata.org/pandas-docs/stable/user_guide/indexing.html#returning-a-view-versus-a-copy\n",
      "C:\\Users\\andyl\\anaconda3\\envs\\alpacaenv\\lib\\site-packages\\ipykernel_launcher.py:20: SettingWithCopyWarning: \n",
      "A value is trying to be set on a copy of a slice from a DataFrame.\n",
      "Try using .loc[row_indexer,col_indexer] = value instead\n",
      "\n",
      "See the caveats in the documentation: https://pandas.pydata.org/pandas-docs/stable/user_guide/indexing.html#returning-a-view-versus-a-copy\n",
      "C:\\Users\\andyl\\anaconda3\\envs\\alpacaenv\\lib\\site-packages\\ipykernel_launcher.py:21: SettingWithCopyWarning: \n",
      "A value is trying to be set on a copy of a slice from a DataFrame.\n",
      "Try using .loc[row_indexer,col_indexer] = value instead\n",
      "\n",
      "See the caveats in the documentation: https://pandas.pydata.org/pandas-docs/stable/user_guide/indexing.html#returning-a-view-versus-a-copy\n",
      "C:\\Users\\andyl\\anaconda3\\envs\\alpacaenv\\lib\\site-packages\\ipykernel_launcher.py:14: SettingWithCopyWarning: \n",
      "A value is trying to be set on a copy of a slice from a DataFrame.\n",
      "Try using .loc[row_indexer,col_indexer] = value instead\n",
      "\n",
      "See the caveats in the documentation: https://pandas.pydata.org/pandas-docs/stable/user_guide/indexing.html#returning-a-view-versus-a-copy\n",
      "  \n",
      "C:\\Users\\andyl\\anaconda3\\envs\\alpacaenv\\lib\\site-packages\\ipykernel_launcher.py:15: SettingWithCopyWarning: \n",
      "A value is trying to be set on a copy of a slice from a DataFrame.\n",
      "Try using .loc[row_indexer,col_indexer] = value instead\n",
      "\n",
      "See the caveats in the documentation: https://pandas.pydata.org/pandas-docs/stable/user_guide/indexing.html#returning-a-view-versus-a-copy\n",
      "  from ipykernel import kernelapp as app\n",
      "C:\\Users\\andyl\\anaconda3\\envs\\alpacaenv\\lib\\site-packages\\ipykernel_launcher.py:16: SettingWithCopyWarning: \n",
      "A value is trying to be set on a copy of a slice from a DataFrame.\n",
      "Try using .loc[row_indexer,col_indexer] = value instead\n",
      "\n",
      "See the caveats in the documentation: https://pandas.pydata.org/pandas-docs/stable/user_guide/indexing.html#returning-a-view-versus-a-copy\n",
      "  app.launch_new_instance()\n"
     ]
    },
    {
     "data": {
      "text/plain": "Profit Margin      0.23\nOperating Margin   0.21\nGross Margin       0.79\nROA                0.06\nROE                0.15\nName: Profitability Ratios, dtype: float64"
     },
     "execution_count": 19,
     "metadata": {},
     "output_type": "execute_result"
    }
   ],
   "source": [
    "def profitability_analysis():\r\n",
    "    complete_inc_stmt_df = inc_stmt_function()\r\n",
    "    complete_bal_sht_df = bal_sht_function() \r\n",
    "    financial_analysis_df = fundamental_analysis()\r\n",
    "\r\n",
    "    profitability_ratio = financial_analysis_df['Profitability Ratios'].dropna()\r\n",
    "\r\n",
    "    return profitability_ratio\r\n",
    "\r\n",
    "profitability_analysis()"
   ]
  },
  {
   "cell_type": "code",
   "execution_count": 20,
   "metadata": {},
   "outputs": [
    {
     "name": "stderr",
     "output_type": "stream",
     "text": [
      "C:\\Users\\andyl\\anaconda3\\envs\\alpacaenv\\lib\\site-packages\\ipykernel_launcher.py:17: SettingWithCopyWarning: \n",
      "A value is trying to be set on a copy of a slice from a DataFrame.\n",
      "Try using .loc[row_indexer,col_indexer] = value instead\n",
      "\n",
      "See the caveats in the documentation: https://pandas.pydata.org/pandas-docs/stable/user_guide/indexing.html#returning-a-view-versus-a-copy\n",
      "C:\\Users\\andyl\\anaconda3\\envs\\alpacaenv\\lib\\site-packages\\ipykernel_launcher.py:18: SettingWithCopyWarning: \n",
      "A value is trying to be set on a copy of a slice from a DataFrame.\n",
      "Try using .loc[row_indexer,col_indexer] = value instead\n",
      "\n",
      "See the caveats in the documentation: https://pandas.pydata.org/pandas-docs/stable/user_guide/indexing.html#returning-a-view-versus-a-copy\n",
      "C:\\Users\\andyl\\anaconda3\\envs\\alpacaenv\\lib\\site-packages\\ipykernel_launcher.py:19: SettingWithCopyWarning: \n",
      "A value is trying to be set on a copy of a slice from a DataFrame.\n",
      "Try using .loc[row_indexer,col_indexer] = value instead\n",
      "\n",
      "See the caveats in the documentation: https://pandas.pydata.org/pandas-docs/stable/user_guide/indexing.html#returning-a-view-versus-a-copy\n",
      "C:\\Users\\andyl\\anaconda3\\envs\\alpacaenv\\lib\\site-packages\\ipykernel_launcher.py:20: SettingWithCopyWarning: \n",
      "A value is trying to be set on a copy of a slice from a DataFrame.\n",
      "Try using .loc[row_indexer,col_indexer] = value instead\n",
      "\n",
      "See the caveats in the documentation: https://pandas.pydata.org/pandas-docs/stable/user_guide/indexing.html#returning-a-view-versus-a-copy\n",
      "C:\\Users\\andyl\\anaconda3\\envs\\alpacaenv\\lib\\site-packages\\ipykernel_launcher.py:21: SettingWithCopyWarning: \n",
      "A value is trying to be set on a copy of a slice from a DataFrame.\n",
      "Try using .loc[row_indexer,col_indexer] = value instead\n",
      "\n",
      "See the caveats in the documentation: https://pandas.pydata.org/pandas-docs/stable/user_guide/indexing.html#returning-a-view-versus-a-copy\n",
      "C:\\Users\\andyl\\anaconda3\\envs\\alpacaenv\\lib\\site-packages\\ipykernel_launcher.py:14: SettingWithCopyWarning: \n",
      "A value is trying to be set on a copy of a slice from a DataFrame.\n",
      "Try using .loc[row_indexer,col_indexer] = value instead\n",
      "\n",
      "See the caveats in the documentation: https://pandas.pydata.org/pandas-docs/stable/user_guide/indexing.html#returning-a-view-versus-a-copy\n",
      "  \n",
      "C:\\Users\\andyl\\anaconda3\\envs\\alpacaenv\\lib\\site-packages\\ipykernel_launcher.py:15: SettingWithCopyWarning: \n",
      "A value is trying to be set on a copy of a slice from a DataFrame.\n",
      "Try using .loc[row_indexer,col_indexer] = value instead\n",
      "\n",
      "See the caveats in the documentation: https://pandas.pydata.org/pandas-docs/stable/user_guide/indexing.html#returning-a-view-versus-a-copy\n",
      "  from ipykernel import kernelapp as app\n",
      "C:\\Users\\andyl\\anaconda3\\envs\\alpacaenv\\lib\\site-packages\\ipykernel_launcher.py:16: SettingWithCopyWarning: \n",
      "A value is trying to be set on a copy of a slice from a DataFrame.\n",
      "Try using .loc[row_indexer,col_indexer] = value instead\n",
      "\n",
      "See the caveats in the documentation: https://pandas.pydata.org/pandas-docs/stable/user_guide/indexing.html#returning-a-view-versus-a-copy\n",
      "  app.launch_new_instance()\n"
     ]
    },
    {
     "data": {
      "text/plain": "Asset Coverage          4.95\nInterest Coverage       5.17\nDebt Service Coverage   0.08\nName: Debt Coverage Ratios, dtype: float64"
     },
     "execution_count": 20,
     "metadata": {},
     "output_type": "execute_result"
    }
   ],
   "source": [
    "def debt_coverage_analysis():\r\n",
    "    complete_inc_stmt_df = inc_stmt_function()\r\n",
    "    complete_bal_sht_df = bal_sht_function() \r\n",
    "    financial_analysis_df = fundamental_analysis()\r\n",
    "\r\n",
    "    debt_coverage_ratio = financial_analysis_df['Debt Coverage Ratios'].dropna()\r\n",
    "\r\n",
    "    return debt_coverage_ratio\r\n",
    "\r\n",
    "debt_coverage_analysis()"
   ]
  },
  {
   "cell_type": "code",
   "execution_count": 21,
   "metadata": {},
   "outputs": [
    {
     "ename": "SyntaxError",
     "evalue": "invalid syntax (<ipython-input-21-9ab2b822e242>, line 1)",
     "output_type": "error",
     "traceback": [
      "\u001b[1;36m  File \u001b[1;32m\"<ipython-input-21-9ab2b822e242>\"\u001b[1;36m, line \u001b[1;32m1\u001b[0m\n\u001b[1;33m    ine =\u001b[0m\n\u001b[1;37m          ^\u001b[0m\n\u001b[1;31mSyntaxError\u001b[0m\u001b[1;31m:\u001b[0m invalid syntax\n"
     ]
    }
   ],
   "source": [
    "ine = "
   ]
  },
  {
   "cell_type": "code",
   "execution_count": null,
   "metadata": {},
   "outputs": [],
   "source": []
  },
  {
   "cell_type": "code",
   "execution_count": null,
   "metadata": {},
   "outputs": [],
   "source": []
  },
  {
   "cell_type": "code",
   "execution_count": null,
   "metadata": {},
   "outputs": [],
   "source": []
  },
  {
   "cell_type": "code",
   "execution_count": null,
   "metadata": {},
   "outputs": [],
   "source": [
    "\r\n"
   ]
  },
  {
   "cell_type": "code",
   "execution_count": null,
   "metadata": {},
   "outputs": [],
   "source": []
  },
  {
   "cell_type": "code",
   "execution_count": null,
   "metadata": {},
   "outputs": [],
   "source": []
  },
  {
   "cell_type": "code",
   "execution_count": null,
   "metadata": {},
   "outputs": [],
   "source": []
  },
  {
   "cell_type": "code",
   "execution_count": null,
   "metadata": {},
   "outputs": [],
   "source": []
  },
  {
   "cell_type": "code",
   "execution_count": null,
   "metadata": {},
   "outputs": [],
   "source": []
  },
  {
   "cell_type": "code",
   "execution_count": null,
   "metadata": {},
   "outputs": [],
   "source": []
  },
  {
   "cell_type": "code",
   "execution_count": null,
   "metadata": {},
   "outputs": [],
   "source": []
  },
  {
   "cell_type": "code",
   "execution_count": null,
   "metadata": {},
   "outputs": [
    {
     "data": {
      "text/html": "<div>\n<style scoped>\n    .dataframe tbody tr th:only-of-type {\n        vertical-align: middle;\n    }\n\n    .dataframe tbody tr th {\n        vertical-align: top;\n    }\n\n    .dataframe thead tr th {\n        text-align: left;\n    }\n\n    .dataframe thead tr:last-of-type th {\n        text-align: right;\n    }\n</style>\n<table border=\"1\" class=\"dataframe\">\n  <thead>\n    <tr>\n      <th></th>\n      <th colspan=\"6\" halign=\"left\">PFE</th>\n    </tr>\n    <tr>\n      <th></th>\n      <th>open</th>\n      <th>high</th>\n      <th>low</th>\n      <th>close</th>\n      <th>volume</th>\n      <th>daily_return</th>\n    </tr>\n    <tr>\n      <th>time</th>\n      <th></th>\n      <th></th>\n      <th></th>\n      <th></th>\n      <th></th>\n      <th></th>\n    </tr>\n  </thead>\n  <tbody>\n    <tr>\n      <th>2021-03-25 00:00:00-04:00</th>\n      <td>35.650000</td>\n      <td>35.790000</td>\n      <td>35.250000</td>\n      <td>35.675000</td>\n      <td>19653224</td>\n      <td>0.001685</td>\n    </tr>\n    <tr>\n      <th>2021-03-26 00:00:00-04:00</th>\n      <td>35.680000</td>\n      <td>36.290000</td>\n      <td>35.640000</td>\n      <td>36.240000</td>\n      <td>19785715</td>\n      <td>0.015837</td>\n    </tr>\n    <tr>\n      <th>2021-03-29 00:00:00-04:00</th>\n      <td>36.000000</td>\n      <td>36.740000</td>\n      <td>35.900000</td>\n      <td>36.600000</td>\n      <td>22918393</td>\n      <td>0.009934</td>\n    </tr>\n    <tr>\n      <th>2021-03-30 00:00:00-04:00</th>\n      <td>36.590000</td>\n      <td>36.630000</td>\n      <td>36.020000</td>\n      <td>36.120000</td>\n      <td>23111103</td>\n      <td>-0.013115</td>\n    </tr>\n    <tr>\n      <th>2021-03-31 00:00:00-04:00</th>\n      <td>36.110000</td>\n      <td>36.430000</td>\n      <td>36.043300</td>\n      <td>36.230000</td>\n      <td>19859271</td>\n      <td>0.003045</td>\n    </tr>\n  </tbody>\n</table>\n</div>",
      "text/plain": "                                PFE                                          \\\n                               open      high       low     close    volume   \ntime                                                                          \n2021-03-25 00:00:00-04:00 35.650000 35.790000 35.250000 35.675000  19653224   \n2021-03-26 00:00:00-04:00 35.680000 36.290000 35.640000 36.240000  19785715   \n2021-03-29 00:00:00-04:00 36.000000 36.740000 35.900000 36.600000  22918393   \n2021-03-30 00:00:00-04:00 36.590000 36.630000 36.020000 36.120000  23111103   \n2021-03-31 00:00:00-04:00 36.110000 36.430000 36.043300 36.230000  19859271   \n\n                                        \n                          daily_return  \ntime                                    \n2021-03-25 00:00:00-04:00     0.001685  \n2021-03-26 00:00:00-04:00     0.015837  \n2021-03-29 00:00:00-04:00     0.009934  \n2021-03-30 00:00:00-04:00    -0.013115  \n2021-03-31 00:00:00-04:00     0.003045  "
     },
     "execution_count": 21,
     "metadata": {},
     "output_type": "execute_result"
    }
   ],
   "source": [
    "ticker_data = api.get_barset(\n",
    "        company,\n",
    "        timeframe,\n",
    "        start=start_date,\n",
    "        end=end_date,\n",
    "        limit=1000\n",
    "    ).df\n",
    "\n",
    "num_sims = 1000\n",
    "\n",
    "MC = MCSimulation(\n",
    "    portfolio_data = ticker_data,\n",
    "    weights= [1],\n",
    "    num_simulation = num_sims,\n",
    "    num_trading_days = 252*5    \n",
    ")\n",
    "\n",
    "pd.options.display.float_format = '{:,.6f}'.format\n",
    "\n",
    "MC.portfolio_data.tail()"
   ]
  },
  {
   "cell_type": "code",
   "execution_count": null,
   "metadata": {},
   "outputs": [
    {
     "name": "stdout",
     "output_type": "stream",
     "text": [
      "Running Monte Carlo simulation number 0.\n",
      "Running Monte Carlo simulation number 10.\n",
      "Running Monte Carlo simulation number 20.\n",
      "Running Monte Carlo simulation number 30.\n",
      "Running Monte Carlo simulation number 40.\n",
      "Running Monte Carlo simulation number 50.\n",
      "Running Monte Carlo simulation number 60.\n",
      "Running Monte Carlo simulation number 70.\n",
      "Running Monte Carlo simulation number 80.\n",
      "Running Monte Carlo simulation number 90.\n",
      "Running Monte Carlo simulation number 100.\n",
      "Running Monte Carlo simulation number 110.\n",
      "Running Monte Carlo simulation number 120.\n",
      "Running Monte Carlo simulation number 130.\n",
      "Running Monte Carlo simulation number 140.\n",
      "Running Monte Carlo simulation number 150.\n",
      "Running Monte Carlo simulation number 160.\n",
      "Running Monte Carlo simulation number 170.\n",
      "Running Monte Carlo simulation number 180.\n",
      "Running Monte Carlo simulation number 190.\n",
      "Running Monte Carlo simulation number 200.\n",
      "Running Monte Carlo simulation number 210.\n",
      "Running Monte Carlo simulation number 220.\n",
      "Running Monte Carlo simulation number 230.\n",
      "Running Monte Carlo simulation number 240.\n",
      "Running Monte Carlo simulation number 250.\n",
      "Running Monte Carlo simulation number 260.\n",
      "Running Monte Carlo simulation number 270.\n",
      "Running Monte Carlo simulation number 280.\n",
      "Running Monte Carlo simulation number 290.\n",
      "Running Monte Carlo simulation number 300.\n",
      "Running Monte Carlo simulation number 310.\n",
      "Running Monte Carlo simulation number 320.\n",
      "Running Monte Carlo simulation number 330.\n",
      "Running Monte Carlo simulation number 340.\n",
      "Running Monte Carlo simulation number 350.\n",
      "Running Monte Carlo simulation number 360.\n",
      "Running Monte Carlo simulation number 370.\n",
      "Running Monte Carlo simulation number 380.\n",
      "Running Monte Carlo simulation number 390.\n",
      "Running Monte Carlo simulation number 400.\n",
      "Running Monte Carlo simulation number 410.\n",
      "Running Monte Carlo simulation number 420.\n",
      "Running Monte Carlo simulation number 430.\n",
      "Running Monte Carlo simulation number 440.\n",
      "Running Monte Carlo simulation number 450.\n",
      "Running Monte Carlo simulation number 460.\n",
      "Running Monte Carlo simulation number 470.\n",
      "Running Monte Carlo simulation number 480.\n",
      "Running Monte Carlo simulation number 490.\n",
      "Running Monte Carlo simulation number 500.\n",
      "Running Monte Carlo simulation number 510.\n",
      "Running Monte Carlo simulation number 520.\n",
      "Running Monte Carlo simulation number 530.\n",
      "Running Monte Carlo simulation number 540.\n",
      "Running Monte Carlo simulation number 550.\n",
      "Running Monte Carlo simulation number 560.\n",
      "Running Monte Carlo simulation number 570.\n",
      "Running Monte Carlo simulation number 580.\n",
      "Running Monte Carlo simulation number 590.\n",
      "Running Monte Carlo simulation number 600.\n",
      "Running Monte Carlo simulation number 610.\n",
      "Running Monte Carlo simulation number 620.\n",
      "Running Monte Carlo simulation number 630.\n",
      "Running Monte Carlo simulation number 640.\n",
      "Running Monte Carlo simulation number 650.\n",
      "Running Monte Carlo simulation number 660.\n",
      "Running Monte Carlo simulation number 670.\n",
      "Running Monte Carlo simulation number 680.\n",
      "Running Monte Carlo simulation number 690.\n",
      "Running Monte Carlo simulation number 700.\n",
      "Running Monte Carlo simulation number 710.\n",
      "Running Monte Carlo simulation number 720.\n",
      "Running Monte Carlo simulation number 730.\n",
      "Running Monte Carlo simulation number 740.\n",
      "Running Monte Carlo simulation number 750.\n",
      "Running Monte Carlo simulation number 760.\n",
      "Running Monte Carlo simulation number 770.\n",
      "Running Monte Carlo simulation number 780.\n",
      "Running Monte Carlo simulation number 790.\n",
      "Running Monte Carlo simulation number 800.\n",
      "Running Monte Carlo simulation number 810.\n",
      "Running Monte Carlo simulation number 820.\n",
      "Running Monte Carlo simulation number 830.\n",
      "Running Monte Carlo simulation number 840.\n",
      "Running Monte Carlo simulation number 850.\n",
      "Running Monte Carlo simulation number 860.\n",
      "Running Monte Carlo simulation number 870.\n",
      "Running Monte Carlo simulation number 880.\n",
      "Running Monte Carlo simulation number 890.\n",
      "Running Monte Carlo simulation number 900.\n",
      "Running Monte Carlo simulation number 910.\n",
      "Running Monte Carlo simulation number 920.\n",
      "Running Monte Carlo simulation number 930.\n",
      "Running Monte Carlo simulation number 940.\n",
      "Running Monte Carlo simulation number 950.\n",
      "Running Monte Carlo simulation number 960.\n",
      "Running Monte Carlo simulation number 970.\n",
      "Running Monte Carlo simulation number 980.\n",
      "Running Monte Carlo simulation number 990.\n"
     ]
    },
    {
     "data": {
      "text/html": "<div>\n<style scoped>\n    .dataframe tbody tr th:only-of-type {\n        vertical-align: middle;\n    }\n\n    .dataframe tbody tr th {\n        vertical-align: top;\n    }\n\n    .dataframe thead th {\n        text-align: right;\n    }\n</style>\n<table border=\"1\" class=\"dataframe\">\n  <thead>\n    <tr style=\"text-align: right;\">\n      <th></th>\n      <th>0</th>\n      <th>1</th>\n      <th>2</th>\n      <th>3</th>\n      <th>4</th>\n      <th>5</th>\n      <th>6</th>\n      <th>7</th>\n      <th>8</th>\n      <th>9</th>\n      <th>...</th>\n      <th>990</th>\n      <th>991</th>\n      <th>992</th>\n      <th>993</th>\n      <th>994</th>\n      <th>995</th>\n      <th>996</th>\n      <th>997</th>\n      <th>998</th>\n      <th>999</th>\n    </tr>\n  </thead>\n  <tbody>\n    <tr>\n      <th>0</th>\n      <td>1.000000</td>\n      <td>1.000000</td>\n      <td>1.000000</td>\n      <td>1.000000</td>\n      <td>1.000000</td>\n      <td>1.000000</td>\n      <td>1.000000</td>\n      <td>1.000000</td>\n      <td>1.000000</td>\n      <td>1.000000</td>\n      <td>...</td>\n      <td>1.000000</td>\n      <td>1.000000</td>\n      <td>1.000000</td>\n      <td>1.000000</td>\n      <td>1.000000</td>\n      <td>1.000000</td>\n      <td>1.000000</td>\n      <td>1.000000</td>\n      <td>1.000000</td>\n      <td>1.000000</td>\n    </tr>\n    <tr>\n      <th>1</th>\n      <td>0.989300</td>\n      <td>0.966091</td>\n      <td>0.973903</td>\n      <td>0.993167</td>\n      <td>0.991571</td>\n      <td>1.023715</td>\n      <td>1.014158</td>\n      <td>1.000823</td>\n      <td>1.015960</td>\n      <td>0.995817</td>\n      <td>...</td>\n      <td>1.006187</td>\n      <td>1.003953</td>\n      <td>0.976000</td>\n      <td>1.013033</td>\n      <td>0.960562</td>\n      <td>1.038613</td>\n      <td>1.009274</td>\n      <td>1.018926</td>\n      <td>0.988828</td>\n      <td>1.030129</td>\n    </tr>\n    <tr>\n      <th>2</th>\n      <td>0.992610</td>\n      <td>0.974150</td>\n      <td>0.967319</td>\n      <td>1.003259</td>\n      <td>0.992926</td>\n      <td>1.019229</td>\n      <td>1.010645</td>\n      <td>0.950726</td>\n      <td>1.042967</td>\n      <td>0.979838</td>\n      <td>...</td>\n      <td>1.010941</td>\n      <td>0.983769</td>\n      <td>0.980610</td>\n      <td>0.984156</td>\n      <td>0.922424</td>\n      <td>1.071379</td>\n      <td>0.980119</td>\n      <td>1.039032</td>\n      <td>0.996596</td>\n      <td>1.050143</td>\n    </tr>\n    <tr>\n      <th>3</th>\n      <td>0.985882</td>\n      <td>0.954108</td>\n      <td>0.964923</td>\n      <td>1.035875</td>\n      <td>1.004260</td>\n      <td>1.020350</td>\n      <td>0.996514</td>\n      <td>0.944239</td>\n      <td>1.030518</td>\n      <td>0.977554</td>\n      <td>...</td>\n      <td>1.029513</td>\n      <td>0.972930</td>\n      <td>0.981480</td>\n      <td>0.970734</td>\n      <td>0.931966</td>\n      <td>1.087344</td>\n      <td>0.974388</td>\n      <td>1.030179</td>\n      <td>0.985094</td>\n      <td>1.058093</td>\n    </tr>\n    <tr>\n      <th>4</th>\n      <td>0.993661</td>\n      <td>0.973383</td>\n      <td>0.955745</td>\n      <td>1.042071</td>\n      <td>0.982973</td>\n      <td>1.011368</td>\n      <td>1.001635</td>\n      <td>0.949762</td>\n      <td>1.002784</td>\n      <td>0.987643</td>\n      <td>...</td>\n      <td>1.024170</td>\n      <td>0.970431</td>\n      <td>0.969845</td>\n      <td>0.986314</td>\n      <td>0.935379</td>\n      <td>1.084811</td>\n      <td>0.959811</td>\n      <td>1.008789</td>\n      <td>0.993864</td>\n      <td>1.058402</td>\n    </tr>\n    <tr>\n      <th>...</th>\n      <td>...</td>\n      <td>...</td>\n      <td>...</td>\n      <td>...</td>\n      <td>...</td>\n      <td>...</td>\n      <td>...</td>\n      <td>...</td>\n      <td>...</td>\n      <td>...</td>\n      <td>...</td>\n      <td>...</td>\n      <td>...</td>\n      <td>...</td>\n      <td>...</td>\n      <td>...</td>\n      <td>...</td>\n      <td>...</td>\n      <td>...</td>\n      <td>...</td>\n      <td>...</td>\n    </tr>\n    <tr>\n      <th>1256</th>\n      <td>1.172552</td>\n      <td>5.010839</td>\n      <td>3.227692</td>\n      <td>0.723736</td>\n      <td>0.978694</td>\n      <td>4.253178</td>\n      <td>2.638347</td>\n      <td>1.988755</td>\n      <td>4.422334</td>\n      <td>2.370852</td>\n      <td>...</td>\n      <td>2.589260</td>\n      <td>1.987738</td>\n      <td>1.333868</td>\n      <td>1.990581</td>\n      <td>2.345570</td>\n      <td>1.268058</td>\n      <td>2.894059</td>\n      <td>1.006615</td>\n      <td>2.236041</td>\n      <td>3.430619</td>\n    </tr>\n    <tr>\n      <th>1257</th>\n      <td>1.173766</td>\n      <td>4.848688</td>\n      <td>3.254906</td>\n      <td>0.706345</td>\n      <td>1.007116</td>\n      <td>4.150650</td>\n      <td>2.600727</td>\n      <td>2.065026</td>\n      <td>4.459642</td>\n      <td>2.325140</td>\n      <td>...</td>\n      <td>2.682996</td>\n      <td>1.973986</td>\n      <td>1.324412</td>\n      <td>2.056066</td>\n      <td>2.380472</td>\n      <td>1.283902</td>\n      <td>2.914815</td>\n      <td>1.026761</td>\n      <td>2.258397</td>\n      <td>3.434822</td>\n    </tr>\n    <tr>\n      <th>1258</th>\n      <td>1.204386</td>\n      <td>4.793775</td>\n      <td>3.250582</td>\n      <td>0.711837</td>\n      <td>0.989327</td>\n      <td>4.222918</td>\n      <td>2.658644</td>\n      <td>2.074729</td>\n      <td>4.539567</td>\n      <td>2.359381</td>\n      <td>...</td>\n      <td>2.716028</td>\n      <td>1.972920</td>\n      <td>1.334593</td>\n      <td>2.064158</td>\n      <td>2.409179</td>\n      <td>1.283897</td>\n      <td>2.921916</td>\n      <td>1.012702</td>\n      <td>2.260398</td>\n      <td>3.438277</td>\n    </tr>\n    <tr>\n      <th>1259</th>\n      <td>1.183928</td>\n      <td>4.887167</td>\n      <td>3.303990</td>\n      <td>0.691966</td>\n      <td>1.007205</td>\n      <td>4.170228</td>\n      <td>2.678484</td>\n      <td>2.102697</td>\n      <td>4.466451</td>\n      <td>2.404050</td>\n      <td>...</td>\n      <td>2.734337</td>\n      <td>1.934140</td>\n      <td>1.356256</td>\n      <td>2.098589</td>\n      <td>2.407199</td>\n      <td>1.280566</td>\n      <td>2.900097</td>\n      <td>1.014633</td>\n      <td>2.258270</td>\n      <td>3.370684</td>\n    </tr>\n    <tr>\n      <th>1260</th>\n      <td>1.159977</td>\n      <td>4.819389</td>\n      <td>3.310465</td>\n      <td>0.700030</td>\n      <td>1.015776</td>\n      <td>4.305236</td>\n      <td>2.697287</td>\n      <td>2.031919</td>\n      <td>4.460703</td>\n      <td>2.386592</td>\n      <td>...</td>\n      <td>2.757318</td>\n      <td>1.934125</td>\n      <td>1.333311</td>\n      <td>2.109379</td>\n      <td>2.445776</td>\n      <td>1.282011</td>\n      <td>2.920180</td>\n      <td>1.001668</td>\n      <td>2.263429</td>\n      <td>3.326008</td>\n    </tr>\n  </tbody>\n</table>\n<p>1261 rows × 1000 columns</p>\n</div>",
      "text/plain": "          0        1        2        3        4        5        6        7    \\\n0    1.000000 1.000000 1.000000 1.000000 1.000000 1.000000 1.000000 1.000000   \n1    0.989300 0.966091 0.973903 0.993167 0.991571 1.023715 1.014158 1.000823   \n2    0.992610 0.974150 0.967319 1.003259 0.992926 1.019229 1.010645 0.950726   \n3    0.985882 0.954108 0.964923 1.035875 1.004260 1.020350 0.996514 0.944239   \n4    0.993661 0.973383 0.955745 1.042071 0.982973 1.011368 1.001635 0.949762   \n...       ...      ...      ...      ...      ...      ...      ...      ...   \n1256 1.172552 5.010839 3.227692 0.723736 0.978694 4.253178 2.638347 1.988755   \n1257 1.173766 4.848688 3.254906 0.706345 1.007116 4.150650 2.600727 2.065026   \n1258 1.204386 4.793775 3.250582 0.711837 0.989327 4.222918 2.658644 2.074729   \n1259 1.183928 4.887167 3.303990 0.691966 1.007205 4.170228 2.678484 2.102697   \n1260 1.159977 4.819389 3.310465 0.700030 1.015776 4.305236 2.697287 2.031919   \n\n          8        9    ...      990      991      992      993      994  \\\n0    1.000000 1.000000  ... 1.000000 1.000000 1.000000 1.000000 1.000000   \n1    1.015960 0.995817  ... 1.006187 1.003953 0.976000 1.013033 0.960562   \n2    1.042967 0.979838  ... 1.010941 0.983769 0.980610 0.984156 0.922424   \n3    1.030518 0.977554  ... 1.029513 0.972930 0.981480 0.970734 0.931966   \n4    1.002784 0.987643  ... 1.024170 0.970431 0.969845 0.986314 0.935379   \n...       ...      ...  ...      ...      ...      ...      ...      ...   \n1256 4.422334 2.370852  ... 2.589260 1.987738 1.333868 1.990581 2.345570   \n1257 4.459642 2.325140  ... 2.682996 1.973986 1.324412 2.056066 2.380472   \n1258 4.539567 2.359381  ... 2.716028 1.972920 1.334593 2.064158 2.409179   \n1259 4.466451 2.404050  ... 2.734337 1.934140 1.356256 2.098589 2.407199   \n1260 4.460703 2.386592  ... 2.757318 1.934125 1.333311 2.109379 2.445776   \n\n          995      996      997      998      999  \n0    1.000000 1.000000 1.000000 1.000000 1.000000  \n1    1.038613 1.009274 1.018926 0.988828 1.030129  \n2    1.071379 0.980119 1.039032 0.996596 1.050143  \n3    1.087344 0.974388 1.030179 0.985094 1.058093  \n4    1.084811 0.959811 1.008789 0.993864 1.058402  \n...       ...      ...      ...      ...      ...  \n1256 1.268058 2.894059 1.006615 2.236041 3.430619  \n1257 1.283902 2.914815 1.026761 2.258397 3.434822  \n1258 1.283897 2.921916 1.012702 2.260398 3.438277  \n1259 1.280566 2.900097 1.014633 2.258270 3.370684  \n1260 1.282011 2.920180 1.001668 2.263429 3.326008  \n\n[1261 rows x 1000 columns]"
     },
     "execution_count": 22,
     "metadata": {},
     "output_type": "execute_result"
    }
   ],
   "source": [
    "pd.options.display.float_format = '{:,.6f}'.format\n",
    "\n",
    "MC.calc_cumulative_return()"
   ]
  },
  {
   "cell_type": "code",
   "execution_count": null,
   "metadata": {},
   "outputs": [
    {
     "data": {
      "text/html": "<div>\n<style scoped>\n    .dataframe tbody tr th:only-of-type {\n        vertical-align: middle;\n    }\n\n    .dataframe tbody tr th {\n        vertical-align: top;\n    }\n\n    .dataframe thead th {\n        text-align: right;\n    }\n</style>\n<table border=\"1\" class=\"dataframe\">\n  <thead>\n    <tr style=\"text-align: right;\">\n      <th></th>\n      <th>mean</th>\n      <th>median</th>\n      <th>min</th>\n      <th>max</th>\n    </tr>\n  </thead>\n  <tbody>\n    <tr>\n      <th>0</th>\n      <td>1.000000</td>\n      <td>1.000000</td>\n      <td>1.000000</td>\n      <td>1.000000</td>\n    </tr>\n    <tr>\n      <th>1</th>\n      <td>1.000985</td>\n      <td>1.001235</td>\n      <td>0.944192</td>\n      <td>1.063317</td>\n    </tr>\n    <tr>\n      <th>2</th>\n      <td>1.000557</td>\n      <td>0.999612</td>\n      <td>0.920871</td>\n      <td>1.086384</td>\n    </tr>\n    <tr>\n      <th>3</th>\n      <td>1.000321</td>\n      <td>0.998861</td>\n      <td>0.909145</td>\n      <td>1.109068</td>\n    </tr>\n    <tr>\n      <th>4</th>\n      <td>1.001174</td>\n      <td>1.000977</td>\n      <td>0.882475</td>\n      <td>1.148644</td>\n    </tr>\n  </tbody>\n</table>\n</div>",
      "text/plain": "      mean   median      min      max\n0 1.000000 1.000000 1.000000 1.000000\n1 1.000985 1.001235 0.944192 1.063317\n2 1.000557 0.999612 0.920871 1.086384\n3 1.000321 0.998861 0.909145 1.109068\n4 1.001174 1.000977 0.882475 1.148644"
     },
     "execution_count": 23,
     "metadata": {},
     "output_type": "execute_result"
    },
    {
     "data": {
      "image/png": "[encoded data removed]",
      "text/plain": "<Figure size 432x288 with 1 Axes>"
     },
     "metadata": {
      "needs_background": "light"
     },
     "output_type": "display_data"
    }
   ],
   "source": [
    "plot = MC.plot_simulation()\n",
    "\n",
    "simulated_returns_data = {\n",
    "    'mean': list(MC.simulated_return.mean(axis=1)),\n",
    "    'median': list(MC.simulated_return.median(axis=1)),\n",
    "    'min': list(MC.simulated_return.min(axis=1)),\n",
    "    'max': list(MC.simulated_return.max(axis=1)),\n",
    "}\n",
    "\n",
    "\n",
    "pd.options.display.float_format = '{:,.6f}'.format\n",
    "df_simulated_returns = pd.DataFrame(simulated_returns_data)\n",
    "df_simulated_returns.head()"
   ]
  },
  {
   "cell_type": "code",
   "execution_count": null,
   "metadata": {},
   "outputs": [
    {
     "data": {
      "image/png": "[encoded data removed]",
      "text/plain": "<Figure size 432x288 with 1 Axes>"
     },
     "metadata": {
      "needs_background": "light"
     },
     "output_type": "display_data"
    }
   ],
   "source": [
    "dist_plot = MC.plot_distribution()"
   ]
  },
  {
   "cell_type": "code",
   "execution_count": null,
   "metadata": {},
   "outputs": [],
   "source": []
  }
 ],
 "metadata": {
  "kernelspec": {
   "display_name": "Python 3.7.9 64-bit ('alpacaenv': conda)",
   "name": "python379jvsc74a57bd0a95626f7f493f725f31f434fd5504d228c743551e511e92c1ee5ce33b2a6e808"
  },
  "language_info": {
   "codemirror_mode": {
    "name": "ipython",
    "version": 3
   },
   "file_extension": ".py",
   "mimetype": "text/x-python",
   "name": "python",
   "nbconvert_exporter": "python",
   "pygments_lexer": "ipython3",
   "version": "3.7.9"
  },
  "orig_nbformat": 2
 },
 "nbformat": 4,
 "nbformat_minor": 2
}
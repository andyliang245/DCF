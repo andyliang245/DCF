{
 "cells": [
  {
   "cell_type": "code",
   "execution_count": 1,
   "metadata": {},
   "outputs": [],
   "source": [
    "import requests\r\n",
    "import numpy as np\r\n",
    "import pandas as pd\r\n",
    "from dotenv import load_dotenv"
   ]
  },
  {
   "cell_type": "code",
   "execution_count": 2,
   "metadata": {},
   "outputs": [
    {
     "data": {
      "text/plain": "str"
     },
     "execution_count": 2,
     "metadata": {},
     "output_type": "execute_result"
    }
   ],
   "source": [
    "load_dotenv('.env')\r\n",
    "fmp_key = os.getenv('FMP_API')\r\n",
    "\r\n",
    "\r\n",
    "type(fmp_key)"
   ]
  },
  {
   "cell_type": "code",
   "execution_count": 3,
   "metadata": {},
   "outputs": [
    {
     "data": {
      "text/plain": "[{'date': '2020-12-31',\n  'symbol': 'GOOG',\n  'reportedCurrency': 'USD',\n  'fillingDate': '2021-02-03',\n  'acceptedDate': '2021-02-02 20:12:25',\n  'period': 'FY',\n  'revenue': 182527000000,\n  'costOfRevenue': 84732000000,\n  'grossProfit': 97795000000,\n  'grossProfitRatio': 0.5357837470620785,\n  'researchAndDevelopmentExpenses': 27573000000,\n  'generalAndAdministrativeExpenses': 11052000000,\n  'sellingAndMarketingExpenses': 17946000000,\n  'otherExpenses': 6858000000,\n  'operatingExpenses': 56571000000,\n  'costAndExpenses': 141303000000,\n  'interestExpense': 0.0,\n  'depreciationAndAmortization': 12905000000,\n  'ebitda': 54129000000,\n  'ebitdaratio': 0.29655338662225317,\n  'operatingIncome': 41224000000,\n  'operatingIncomeRatio': 0.22585151785763202,\n  'totalOtherIncomeExpensesNet': 6858000000,\n  'incomeBeforeTax': 48082000000,\n  'incomeBeforeTaxRatio': 0.2634240413747007,\n  'incomeTaxExpense': 7813000000,\n  'netIncome': 40269000000,\n  'netIncomeRatio': 0.22061941520980458,\n  'eps': 134.31282624284975,\n  'epsdiluted': 116.35614475098531,\n  'weightedAverageShsOut': 299815000,\n  'weightedAverageShsOutDil': 346084000,\n  'link': 'https://www.sec.gov/Archives/edgar/data/1652044/000165204421000010/0001652044-21-000010-index.htm',\n  'finalLink': 'https://www.sec.gov/Archives/edgar/data/1652044/000165204421000010/goog-20201231.htm'},\n {'date': '2019-12-31',\n  'symbol': 'GOOG',\n  'reportedCurrency': 'USD',\n  'fillingDate': '2020-02-04',\n  'acceptedDate': '2020-02-03 21:03:59',\n  'period': 'FY',\n  'revenue': 161857000000,\n  'costOfRevenue': 71896000000,\n  'grossProfit': 89961000000,\n  'grossProfitRatio': 0.5558054331910266,\n  'researchAndDevelopmentExpenses': 26018000000,\n  'generalAndAdministrativeExpenses': 28015000000,\n  'sellingAndMarketingExpenses': 18464000000,\n  'otherExpenses': 5394000000,\n  'operatingExpenses': 54033000000,\n  'costAndExpenses': 127626000000,\n  'interestExpense': 100000000,\n  'depreciationAndAmortization': 11781000000,\n  'ebitda': 46012000000,\n  'ebitdaratio': 0.28427562601555695,\n  'operatingIncome': 34231000000,\n  'operatingIncomeRatio': 0.211489,\n  'totalOtherIncomeExpensesNet': -79000000,\n  'incomeBeforeTax': 39625000000,\n  'incomeBeforeTaxRatio': 0.244815,\n  'incomeTaxExpense': 5282000000,\n  'netIncome': 34343000000,\n  'netIncomeRatio': 0.212181,\n  'eps': 49.16284,\n  'epsdiluted': 49.16284,\n  'weightedAverageShsOut': 692538818,\n  'weightedAverageShsOutDil': 692538818,\n  'link': 'https://www.sec.gov/Archives/edgar/data/1652044/000165204420000008/0001652044-20-000008-index.htm',\n  'finalLink': 'https://www.sec.gov/Archives/edgar/data/1652044/000165204420000008/goog10-k2019.htm'},\n {'date': '2018-12-31',\n  'symbol': 'GOOG',\n  'reportedCurrency': 'USD',\n  'fillingDate': '2019-02-05',\n  'acceptedDate': '2019-02-04 21:06:38',\n  'period': 'FY',\n  'revenue': 136819000000,\n  'costOfRevenue': 59549000000,\n  'grossProfit': 77270000000,\n  'grossProfitRatio': 0.564761,\n  'researchAndDevelopmentExpenses': 21419000000,\n  'generalAndAdministrativeExpenses': 23256000000,\n  'sellingAndMarketingExpenses': 16333000000,\n  'otherExpenses': 8592000000,\n  'operatingExpenses': 45878000000,\n  'costAndExpenses': 109295000000,\n  'interestExpense': 114000000,\n  'depreciationAndAmortization': 9035000000,\n  'ebitda': 36559000000,\n  'ebitdaratio': 0.26720703995790057,\n  'operatingIncome': 27524000000,\n  'operatingIncomeRatio': 0.201171,\n  'totalOtherIncomeExpensesNet': -994000000,\n  'incomeBeforeTax': 34913000000,\n  'incomeBeforeTaxRatio': 0.255177,\n  'incomeTaxExpense': 4177000000,\n  'netIncome': 30736000000,\n  'netIncomeRatio': 0.224647,\n  'eps': 43.70348,\n  'epsdiluted': 43.70348,\n  'weightedAverageShsOut': 703285000,\n  'weightedAverageShsOutDil': 703285000,\n  'link': 'https://www.sec.gov/Archives/edgar/data/1652044/000165204419000004/goog10-kq42018.htm',\n  'finalLink': 'https://www.sec.gov/Archives/edgar/data/1652044/000165204419000004/goog10-kq42018.htm'},\n {'date': '2017-12-31',\n  'symbol': 'GOOG',\n  'reportedCurrency': 'USD',\n  'fillingDate': '2018-02-06',\n  'acceptedDate': '2018-02-05 20:46:29',\n  'period': 'FY',\n  'revenue': 110855000000,\n  'costOfRevenue': 45583000000,\n  'grossProfit': 65272000000,\n  'grossProfitRatio': 0.588805,\n  'researchAndDevelopmentExpenses': 16625000000,\n  'generalAndAdministrativeExpenses': 19733000000,\n  'sellingAndMarketingExpenses': 12893000000,\n  'otherExpenses': 1047000000,\n  'operatingExpenses': 36390000000,\n  'costAndExpenses': 84677000000,\n  'interestExpense': 109000000,\n  'depreciationAndAmortization': 6915000000,\n  'ebitda': 33093000000,\n  'ebitdaratio': 0.2985251003563213,\n  'operatingIncome': 26178000000,\n  'operatingIncomeRatio': 0.236146,\n  'totalOtherIncomeExpensesNet': 250000000,\n  'incomeBeforeTax': 27193000000,\n  'incomeBeforeTaxRatio': 0.245302,\n  'incomeTaxExpense': 4707000000,\n  'netIncome': 12662000000,\n  'netIncomeRatio': 0.114221,\n  'eps': 17.99643,\n  'epsdiluted': 17.99643,\n  'weightedAverageShsOut': 703584000,\n  'weightedAverageShsOutDil': 703584000,\n  'link': 'https://www.sec.gov/Archives/edgar/data/1652044/000165204418000007/goog10-kq42017.htm',\n  'finalLink': 'https://www.sec.gov/Archives/edgar/data/1652044/000165204418000007/goog10-kq42017.htm'},\n {'date': '2016-12-31',\n  'symbol': 'GOOG',\n  'reportedCurrency': 'USD',\n  'fillingDate': '2017-02-03',\n  'acceptedDate': '2017-02-02 18:13:47',\n  'period': 'FY',\n  'revenue': 90272000000,\n  'costOfRevenue': 35138000000,\n  'grossProfit': 55134000000,\n  'grossProfitRatio': 0.610754,\n  'researchAndDevelopmentExpenses': 13948000000,\n  'generalAndAdministrativeExpenses': 17470000000,\n  'sellingAndMarketingExpenses': 10485000000,\n  'otherExpenses': 434000000,\n  'operatingExpenses': 31418000000,\n  'costAndExpenses': 66556000000,\n  'interestExpense': 124000000,\n  'depreciationAndAmortization': 6144000000,\n  'ebitda': 29860000000,\n  'ebitdaratio': 0.3307780928748671,\n  'operatingIncome': 23716000000,\n  'operatingIncomeRatio': 0.262717,\n  'totalOtherIncomeExpensesNet': 344000000,\n  'incomeBeforeTax': 24150000000,\n  'incomeBeforeTaxRatio': 0.267525,\n  'incomeTaxExpense': 4672000000,\n  'netIncome': 19478000000,\n  'netIncomeRatio': 0.21577,\n  'eps': 27.87725,\n  'epsdiluted': 27.87725,\n  'weightedAverageShsOut': 698706000,\n  'weightedAverageShsOutDil': 698706000,\n  'link': 'https://www.sec.gov/Archives/edgar/data/1652044/000165204417000008/goog10-kq42016.htm',\n  'finalLink': 'https://www.sec.gov/Archives/edgar/data/1652044/000165204417000008/goog10-kq42016.htm'}]"
     },
     "execution_count": 3,
     "metadata": {},
     "output_type": "execute_result"
    }
   ],
   "source": [
    "company = 'GOOG'\r\n",
    "\r\n",
    "inc_stmt = requests.get(f'https://financialmodelingprep.com/api/v3/income-statement/{company}?apikey={fmp_key}').json()\r\n",
    "bal_sht = requests.get(f'https://financialmodelingprep.com/api/v3/balance-sheet-statement/.{company}?apikey={fmp_key}').json()"
   ]
  },
  {
   "cell_type": "code",
   "execution_count": 4,
   "metadata": {},
   "outputs": [
    {
     "data": {
      "text/plain": "0.12770532012826136"
     },
     "execution_count": 4,
     "metadata": {},
     "output_type": "execute_result"
    }
   ],
   "source": [
    "rev_growth = (inc_stmt[0]['revenue'] - inc_stmt[1]['revenue']) / inc_stmt[1]['revenue']\r\n",
    "rev_growth"
   ]
  },
  {
   "cell_type": "code",
   "execution_count": null,
   "metadata": {},
   "outputs": [],
   "source": [
    "net_income = IS[0]['netIncome']"
   ]
  }
 ],
 "metadata": {
  "kernelspec": {
   "display_name": "Python 3.7.9 64-bit ('pyvizenv': conda)",
   "metadata": {
    "interpreter": {
     "hash": "32ccecf1b71fdb6a6d4f3138fdc5c334574f377c69f3ff7c093fe567af4e4700"
    }
   },
   "name": "python3"
  },
  "language_info": {
   "codemirror_mode": {
    "name": "ipython",
    "version": 3
   },
   "file_extension": ".py",
   "mimetype": "text/x-python",
   "name": "python",
   "nbconvert_exporter": "python",
   "pygments_lexer": "ipython3",
   "version": "3.7.9"
  },
  "orig_nbformat": 2
 },
 "nbformat": 4,
 "nbformat_minor": 2
}
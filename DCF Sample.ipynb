{
 "cells": [
  {
   "cell_type": "code",
   "execution_count": 1,
   "metadata": {},
   "outputs": [],
   "source": [
    "import requests\r\n",
    "import numpy as np\r\n",
    "import pandas as pd\r\n",
    "import datetime\r\n",
    "from dotenv import load_dotenv\r\n",
    "import os\r\n",
    "import matplotlib.pyplot as plt\r\n",
    "import alpaca_trade_api as tradeapi\r\n",
    "from MCForecastTools import MCSimulation\r\n",
    "import pandas_datareader.data as web\r\n",
    "%matplotlib inline"
   ]
  },
  {
   "cell_type": "code",
   "execution_count": 2,
   "metadata": {},
   "outputs": [],
   "source": [
    "load_dotenv('.env')\r\n",
    "\r\n",
    "fmp_key = os.getenv('FMP_API')\r\n",
    "\r\n",
    "alpaca_api_key = os.getenv(\"ALPACA_API_KEY\")\r\n",
    "alpaca_secret_key = os.getenv(\"ALPACA_SECRET_KEY\")\r\n",
    "\r\n",
    "api = tradeapi.REST(\r\n",
    "    alpaca_api_key,\r\n",
    "    alpaca_secret_key,\r\n",
    "    api_version = \"v2\"\r\n",
    ")\r\n",
    "\r\n",
    "timeframe = \"1D\"\r\n",
    "\r\n",
    "start_date = pd.Timestamp(\"2020-03-31\", tz=\"America/New_York\").isoformat()\r\n",
    "end_date = pd.Timestamp(\"2021-03-31\", tz=\"America/New_York\").isoformat()\r\n",
    "\r\n",
    "type(fmp_key)\r\n",
    "\r\n",
    "company = 'AMD'"
   ]
  },
  {
   "cell_type": "code",
   "execution_count": 3,
   "metadata": {},
   "outputs": [
    {
     "ename": "KeyError",
     "evalue": "0",
     "output_type": "error",
     "traceback": [
      "\u001b[1;31m---------------------------------------------------------------------------\u001b[0m",
      "\u001b[1;31mKeyError\u001b[0m                                  Traceback (most recent call last)",
      "\u001b[1;32m<ipython-input-3-ed89200981e5>\u001b[0m in \u001b[0;36m<module>\u001b[1;34m\u001b[0m\n\u001b[0;32m     30\u001b[0m     \u001b[1;32mreturn\u001b[0m \u001b[0mcomplete_inc_stmt_df\u001b[0m\u001b[1;33m\u001b[0m\u001b[1;33m\u001b[0m\u001b[0m\n\u001b[0;32m     31\u001b[0m \u001b[1;33m\u001b[0m\u001b[0m\n\u001b[1;32m---> 32\u001b[1;33m \u001b[0minc_stmt_function\u001b[0m\u001b[1;33m(\u001b[0m\u001b[1;33m)\u001b[0m\u001b[1;33m\u001b[0m\u001b[1;33m\u001b[0m\u001b[0m\n\u001b[0m",
      "\u001b[1;32m<ipython-input-3-ed89200981e5>\u001b[0m in \u001b[0;36minc_stmt_function\u001b[1;34m()\u001b[0m\n\u001b[0;32m      2\u001b[0m     \u001b[0minc_stmt\u001b[0m \u001b[1;33m=\u001b[0m \u001b[0mrequests\u001b[0m\u001b[1;33m.\u001b[0m\u001b[0mget\u001b[0m\u001b[1;33m(\u001b[0m\u001b[1;34mf'https://financialmodelingprep.com/api/v3/income-statement/{company}?apikey={fmp_key}'\u001b[0m\u001b[1;33m)\u001b[0m\u001b[1;33m.\u001b[0m\u001b[0mjson\u001b[0m\u001b[1;33m(\u001b[0m\u001b[1;33m)\u001b[0m\u001b[1;33m\u001b[0m\u001b[1;33m\u001b[0m\u001b[0m\n\u001b[0;32m      3\u001b[0m \u001b[1;33m\u001b[0m\u001b[0m\n\u001b[1;32m----> 4\u001b[1;33m     \u001b[0mcurrent_inc_stmt_df\u001b[0m \u001b[1;33m=\u001b[0m \u001b[0mpd\u001b[0m\u001b[1;33m.\u001b[0m\u001b[0mDataFrame\u001b[0m\u001b[1;33m.\u001b[0m\u001b[0mfrom_dict\u001b[0m\u001b[1;33m(\u001b[0m\u001b[0minc_stmt\u001b[0m\u001b[1;33m[\u001b[0m\u001b[1;36m0\u001b[0m\u001b[1;33m]\u001b[0m\u001b[1;33m,\u001b[0m \u001b[0morient\u001b[0m\u001b[1;33m=\u001b[0m\u001b[1;34m'index'\u001b[0m\u001b[1;33m)\u001b[0m\u001b[1;33m\u001b[0m\u001b[1;33m\u001b[0m\u001b[0m\n\u001b[0m\u001b[0;32m      5\u001b[0m     \u001b[0mcurrent_inc_stmt_df\u001b[0m \u001b[1;33m=\u001b[0m \u001b[0mcurrent_inc_stmt_df\u001b[0m\u001b[1;33m[\u001b[0m\u001b[1;36m6\u001b[0m\u001b[1;33m:\u001b[0m\u001b[1;36m27\u001b[0m\u001b[1;33m]\u001b[0m\u001b[1;33m\u001b[0m\u001b[1;33m\u001b[0m\u001b[0m\n\u001b[0;32m      6\u001b[0m     \u001b[0mcurrent_inc_stmt_df\u001b[0m\u001b[1;33m.\u001b[0m\u001b[0mcolumns\u001b[0m \u001b[1;33m=\u001b[0m \u001b[1;33m[\u001b[0m\u001b[1;34m'CY'\u001b[0m\u001b[1;33m]\u001b[0m\u001b[1;33m\u001b[0m\u001b[1;33m\u001b[0m\u001b[0m\n",
      "\u001b[1;31mKeyError\u001b[0m: 0"
     ]
    }
   ],
   "source": [
    "def inc_stmt_function():\r\n",
    "    inc_stmt = requests.get(f'https://financialmodelingprep.com/api/v3/income-statement/{company}?apikey={fmp_key}').json()\r\n",
    "\r\n",
    "    current_inc_stmt_df = pd.DataFrame.from_dict(inc_stmt[0], orient='index')\r\n",
    "    current_inc_stmt_df = current_inc_stmt_df[6:27]\r\n",
    "    current_inc_stmt_df.columns = ['CY']\r\n",
    "    current_inc_stmt_df_rev = current_inc_stmt_df.loc['revenue']\r\n",
    "    current_inc_stmt_df['Pct of Revenue'] = current_inc_stmt_df / current_inc_stmt_df_rev\r\n",
    "    current_inc_stmt_df['PY-1'] = pd.DataFrame.from_dict(inc_stmt[1], orient='index')\r\n",
    "    current_inc_stmt_df['PY-2'] = pd.DataFrame.from_dict(inc_stmt[2], orient='index')\r\n",
    "    current_inc_stmt_df['PY-3'] = pd.DataFrame.from_dict(inc_stmt[3], orient='index')\r\n",
    "    current_inc_stmt_df['PY-4'] = pd.DataFrame.from_dict(inc_stmt[4], orient='index')\r\n",
    "   \r\n",
    "    complete_inc_stmt_df = current_inc_stmt_df[['PY-4', 'PY-3', 'PY-2', 'PY-1', 'CY', 'Pct of Revenue']]\r\n",
    "    \r\n",
    "    # pct = current_inc_stmt_df['Pct of Revenue']\r\n",
    "    \r\n",
    "    avg_rev_growth = ((1+(inc_stmt[0]['revenue'] - inc_stmt[1]['revenue']) / inc_stmt[1]['revenue']) * (1+(inc_stmt[1]['revenue'] - inc_stmt[2]['revenue']) / inc_stmt[2]['revenue']) * (1+(inc_stmt[2]['revenue'] - inc_stmt[3]['revenue']) / inc_stmt[3]['revenue']) * (1+(inc_stmt[3]['revenue'] - inc_stmt[4]['revenue']) / inc_stmt[4]['revenue']))**(1/4) -1\r\n",
    "\r\n",
    "    # future_inc_stmt_fy1 = (current_inc_stmt_df['CY']['revenue'] * (1+avg_rev_growth)) * pct\r\n",
    "\r\n",
    "    # complete_inc_stmt_df['FY+1 est'] = future_inc_stmt_fy1\r\n",
    "\r\n",
    "    complete_inc_stmt_df['FY+1 est'] = (complete_inc_stmt_df['CY']['revenue'] * (1+avg_rev_growth)) * complete_inc_stmt_df['Pct of Revenue']\r\n",
    "    complete_inc_stmt_df['FY+2 est'] = (complete_inc_stmt_df['FY+1 est']['revenue'] * (1+avg_rev_growth)) * complete_inc_stmt_df['Pct of Revenue']\r\n",
    "    complete_inc_stmt_df['FY+3 est'] = (complete_inc_stmt_df['FY+2 est']['revenue'] * (1+avg_rev_growth)) * complete_inc_stmt_df['Pct of Revenue']\r\n",
    "    complete_inc_stmt_df['FY+4 est'] = (complete_inc_stmt_df['FY+3 est']['revenue'] * (1+avg_rev_growth)) * complete_inc_stmt_df['Pct of Revenue']\r\n",
    "    complete_inc_stmt_df['FY+5 est'] = (complete_inc_stmt_df['FY+4 est']['revenue'] * (1+avg_rev_growth)) * complete_inc_stmt_df['Pct of Revenue']\r\n",
    "\r\n",
    "    return complete_inc_stmt_df\r\n",
    "\r\n",
    "inc_stmt_function()"
   ]
  },
  {
   "cell_type": "code",
   "execution_count": null,
   "metadata": {},
   "outputs": [
    {
     "name": "stderr",
     "output_type": "stream",
     "text": [
      "C:\\Users\\andyl\\anaconda3\\envs\\alpacaenv\\lib\\site-packages\\ipykernel_launcher.py:24: SettingWithCopyWarning: \n",
      "A value is trying to be set on a copy of a slice from a DataFrame.\n",
      "Try using .loc[row_indexer,col_indexer] = value instead\n",
      "\n",
      "See the caveats in the documentation: https://pandas.pydata.org/pandas-docs/stable/user_guide/indexing.html#returning-a-view-versus-a-copy\n",
      "C:\\Users\\andyl\\anaconda3\\envs\\alpacaenv\\lib\\site-packages\\ipykernel_launcher.py:25: SettingWithCopyWarning: \n",
      "A value is trying to be set on a copy of a slice from a DataFrame.\n",
      "Try using .loc[row_indexer,col_indexer] = value instead\n",
      "\n",
      "See the caveats in the documentation: https://pandas.pydata.org/pandas-docs/stable/user_guide/indexing.html#returning-a-view-versus-a-copy\n",
      "C:\\Users\\andyl\\anaconda3\\envs\\alpacaenv\\lib\\site-packages\\ipykernel_launcher.py:26: SettingWithCopyWarning: \n",
      "A value is trying to be set on a copy of a slice from a DataFrame.\n",
      "Try using .loc[row_indexer,col_indexer] = value instead\n",
      "\n",
      "See the caveats in the documentation: https://pandas.pydata.org/pandas-docs/stable/user_guide/indexing.html#returning-a-view-versus-a-copy\n",
      "C:\\Users\\andyl\\anaconda3\\envs\\alpacaenv\\lib\\site-packages\\ipykernel_launcher.py:27: SettingWithCopyWarning: \n",
      "A value is trying to be set on a copy of a slice from a DataFrame.\n",
      "Try using .loc[row_indexer,col_indexer] = value instead\n",
      "\n",
      "See the caveats in the documentation: https://pandas.pydata.org/pandas-docs/stable/user_guide/indexing.html#returning-a-view-versus-a-copy\n",
      "C:\\Users\\andyl\\anaconda3\\envs\\alpacaenv\\lib\\site-packages\\ipykernel_launcher.py:28: SettingWithCopyWarning: \n",
      "A value is trying to be set on a copy of a slice from a DataFrame.\n",
      "Try using .loc[row_indexer,col_indexer] = value instead\n",
      "\n",
      "See the caveats in the documentation: https://pandas.pydata.org/pandas-docs/stable/user_guide/indexing.html#returning-a-view-versus-a-copy\n",
      "C:\\Users\\andyl\\anaconda3\\envs\\alpacaenv\\lib\\site-packages\\ipykernel_launcher.py:17: SettingWithCopyWarning: \n",
      "A value is trying to be set on a copy of a slice from a DataFrame.\n",
      "Try using .loc[row_indexer,col_indexer] = value instead\n",
      "\n",
      "See the caveats in the documentation: https://pandas.pydata.org/pandas-docs/stable/user_guide/indexing.html#returning-a-view-versus-a-copy\n",
      "C:\\Users\\andyl\\anaconda3\\envs\\alpacaenv\\lib\\site-packages\\ipykernel_launcher.py:18: SettingWithCopyWarning: \n",
      "A value is trying to be set on a copy of a slice from a DataFrame.\n",
      "Try using .loc[row_indexer,col_indexer] = value instead\n",
      "\n",
      "See the caveats in the documentation: https://pandas.pydata.org/pandas-docs/stable/user_guide/indexing.html#returning-a-view-versus-a-copy\n",
      "C:\\Users\\andyl\\anaconda3\\envs\\alpacaenv\\lib\\site-packages\\ipykernel_launcher.py:19: SettingWithCopyWarning: \n",
      "A value is trying to be set on a copy of a slice from a DataFrame.\n",
      "Try using .loc[row_indexer,col_indexer] = value instead\n",
      "\n",
      "See the caveats in the documentation: https://pandas.pydata.org/pandas-docs/stable/user_guide/indexing.html#returning-a-view-versus-a-copy\n",
      "C:\\Users\\andyl\\anaconda3\\envs\\alpacaenv\\lib\\site-packages\\ipykernel_launcher.py:20: SettingWithCopyWarning: \n",
      "A value is trying to be set on a copy of a slice from a DataFrame.\n",
      "Try using .loc[row_indexer,col_indexer] = value instead\n",
      "\n",
      "See the caveats in the documentation: https://pandas.pydata.org/pandas-docs/stable/user_guide/indexing.html#returning-a-view-versus-a-copy\n",
      "C:\\Users\\andyl\\anaconda3\\envs\\alpacaenv\\lib\\site-packages\\ipykernel_launcher.py:21: SettingWithCopyWarning: \n",
      "A value is trying to be set on a copy of a slice from a DataFrame.\n",
      "Try using .loc[row_indexer,col_indexer] = value instead\n",
      "\n",
      "See the caveats in the documentation: https://pandas.pydata.org/pandas-docs/stable/user_guide/indexing.html#returning-a-view-versus-a-copy\n"
     ]
    },
    {
     "data": {
      "text/html": "<div>\n<style scoped>\n    .dataframe tbody tr th:only-of-type {\n        vertical-align: middle;\n    }\n\n    .dataframe tbody tr th {\n        vertical-align: top;\n    }\n\n    .dataframe thead th {\n        text-align: right;\n    }\n</style>\n<table border=\"1\" class=\"dataframe\">\n  <thead>\n    <tr style=\"text-align: right;\">\n      <th></th>\n      <th>PY-4</th>\n      <th>PY-3</th>\n      <th>PY-2</th>\n      <th>PY-1</th>\n      <th>CY</th>\n      <th>Pct of Revenue</th>\n      <th>FY+1 est</th>\n      <th>FY+2 est</th>\n      <th>FY+3 est</th>\n      <th>FY+4 est</th>\n      <th>FY+5 est</th>\n    </tr>\n  </thead>\n  <tbody>\n    <tr>\n      <th>cashAndCashEquivalents</th>\n      <td>1264000000</td>\n      <td>1185000000</td>\n      <td>1078000000</td>\n      <td>1466000000</td>\n      <td>1595000000</td>\n      <td>0.163372</td>\n      <td>1.9611e+09</td>\n      <td>2.41122e+09</td>\n      <td>2.96466e+09</td>\n      <td>3.64513e+09</td>\n      <td>4.48178e+09</td>\n    </tr>\n    <tr>\n      <th>shortTermInvestments</th>\n      <td>0</td>\n      <td>0</td>\n      <td>78000000</td>\n      <td>37000000</td>\n      <td>695000000</td>\n      <td>0.0711871</td>\n      <td>8.54521e+08</td>\n      <td>1.05066e+09</td>\n      <td>1.29181e+09</td>\n      <td>1.58832e+09</td>\n      <td>1.95288e+09</td>\n    </tr>\n    <tr>\n      <th>cashAndShortTermInvestments</th>\n      <td>1264000000</td>\n      <td>1185000000</td>\n      <td>1156000000</td>\n      <td>1503000000</td>\n      <td>2290000000</td>\n      <td>0.234559</td>\n      <td>2.81562e+09</td>\n      <td>3.46188e+09</td>\n      <td>4.25647e+09</td>\n      <td>5.23344e+09</td>\n      <td>6.43466e+09</td>\n    </tr>\n    <tr>\n      <th>netReceivables</th>\n      <td>311000000</td>\n      <td>454000000</td>\n      <td>1235000000</td>\n      <td>1859000000</td>\n      <td>2066000000</td>\n      <td>0.211615</td>\n      <td>2.5402e+09</td>\n      <td>3.12325e+09</td>\n      <td>3.84012e+09</td>\n      <td>4.72153e+09</td>\n      <td>5.80524e+09</td>\n    </tr>\n    <tr>\n      <th>inventory</th>\n      <td>751000000</td>\n      <td>694000000</td>\n      <td>845000000</td>\n      <td>982000000</td>\n      <td>1399000000</td>\n      <td>0.143296</td>\n      <td>1.72011e+09</td>\n      <td>2.11492e+09</td>\n      <td>2.60035e+09</td>\n      <td>3.1972e+09</td>\n      <td>3.93104e+09</td>\n    </tr>\n    <tr>\n      <th>otherCurrentAssets</th>\n      <td>109000000</td>\n      <td>301000000</td>\n      <td>304000000</td>\n      <td>253000000</td>\n      <td>388000000</td>\n      <td>0.0397419</td>\n      <td>4.77056e+08</td>\n      <td>5.86554e+08</td>\n      <td>7.21183e+08</td>\n      <td>8.86714e+08</td>\n      <td>1.09024e+09</td>\n    </tr>\n    <tr>\n      <th>totalCurrentAssets</th>\n      <td>2530000000</td>\n      <td>2634000000</td>\n      <td>3540000000</td>\n      <td>4597000000</td>\n      <td>6143000000</td>\n      <td>0.629212</td>\n      <td>7.55298e+09</td>\n      <td>9.2866e+09</td>\n      <td>1.14181e+10</td>\n      <td>1.40389e+10</td>\n      <td>1.72612e+10</td>\n    </tr>\n    <tr>\n      <th>propertyPlantEquipmentNet</th>\n      <td>164000000</td>\n      <td>261000000</td>\n      <td>348000000</td>\n      <td>500000000</td>\n      <td>641000000</td>\n      <td>0.065656</td>\n      <td>7.88127e+08</td>\n      <td>9.69023e+08</td>\n      <td>1.19144e+09</td>\n      <td>1.46491e+09</td>\n      <td>1.80114e+09</td>\n    </tr>\n    <tr>\n      <th>goodwill</th>\n      <td>289000000</td>\n      <td>289000000</td>\n      <td>289000000</td>\n      <td>289000000</td>\n      <td>289000000</td>\n      <td>0.0296016</td>\n      <td>3.55333e+08</td>\n      <td>4.36892e+08</td>\n      <td>5.3717e+08</td>\n      <td>6.60465e+08</td>\n      <td>8.1206e+08</td>\n    </tr>\n    <tr>\n      <th>intangibleAssets</th>\n      <td>232000000</td>\n      <td>239000000</td>\n      <td>226000000</td>\n      <td>210000000</td>\n      <td>0</td>\n      <td>0</td>\n      <td>0</td>\n      <td>0</td>\n      <td>0</td>\n      <td>0</td>\n      <td>0</td>\n    </tr>\n    <tr>\n      <th>goodwillAndIntangibleAssets</th>\n      <td>521000000</td>\n      <td>528000000</td>\n      <td>515000000</td>\n      <td>499000000</td>\n      <td>289000000</td>\n      <td>0.0296016</td>\n      <td>3.55333e+08</td>\n      <td>4.36892e+08</td>\n      <td>5.3717e+08</td>\n      <td>6.60465e+08</td>\n      <td>8.1206e+08</td>\n    </tr>\n    <tr>\n      <th>longTermInvestments</th>\n      <td>59000000</td>\n      <td>58000000</td>\n      <td>58000000</td>\n      <td>58000000</td>\n      <td>63000000</td>\n      <td>0.00645293</td>\n      <td>7.74602e+07</td>\n      <td>9.52394e+07</td>\n      <td>1.17099e+08</td>\n      <td>1.43977e+08</td>\n      <td>1.77023e+08</td>\n    </tr>\n    <tr>\n      <th>taxAssets</th>\n      <td>0</td>\n      <td>0</td>\n      <td>0</td>\n      <td>11000000</td>\n      <td>0</td>\n      <td>0</td>\n      <td>0</td>\n      <td>0</td>\n      <td>0</td>\n      <td>0</td>\n      <td>0</td>\n    </tr>\n    <tr>\n      <th>otherNonCurrentAssets</th>\n      <td>47000000</td>\n      <td>71000000</td>\n      <td>95000000</td>\n      <td>169000000</td>\n      <td>0</td>\n      <td>0</td>\n      <td>0</td>\n      <td>0</td>\n      <td>0</td>\n      <td>0</td>\n      <td>0</td>\n    </tr>\n    <tr>\n      <th>totalNonCurrentAssets</th>\n      <td>791000000</td>\n      <td>918000000</td>\n      <td>1016000000</td>\n      <td>1431000000</td>\n      <td>930000000</td>\n      <td>0.0952576</td>\n      <td>1.14346e+09</td>\n      <td>1.40591e+09</td>\n      <td>1.72861e+09</td>\n      <td>2.12537e+09</td>\n      <td>2.6132e+09</td>\n    </tr>\n    <tr>\n      <th>otherAssets</th>\n      <td>0</td>\n      <td>0</td>\n      <td>0</td>\n      <td>0</td>\n      <td>1889000000</td>\n      <td>0.193486</td>\n      <td>2.32258e+09</td>\n      <td>2.85567e+09</td>\n      <td>3.51112e+09</td>\n      <td>4.31702e+09</td>\n      <td>5.30789e+09</td>\n    </tr>\n    <tr>\n      <th>totalAssets</th>\n      <td>3321000000</td>\n      <td>3552000000</td>\n      <td>4556000000</td>\n      <td>6028000000</td>\n      <td>8962000000</td>\n      <td>0.917956</td>\n      <td>1.1019e+10</td>\n      <td>1.35482e+10</td>\n      <td>1.66579e+10</td>\n      <td>2.04813e+10</td>\n      <td>2.51823e+10</td>\n    </tr>\n    <tr>\n      <th>accountPayables</th>\n      <td>440000000</td>\n      <td>384000000</td>\n      <td>834000000</td>\n      <td>988000000</td>\n      <td>468000000</td>\n      <td>0.0479361</td>\n      <td>5.75419e+08</td>\n      <td>7.07493e+08</td>\n      <td>8.69881e+08</td>\n      <td>1.06954e+09</td>\n      <td>1.31503e+09</td>\n    </tr>\n    <tr>\n      <th>shortTermDebt</th>\n      <td>0</td>\n      <td>0</td>\n      <td>0</td>\n      <td>0</td>\n      <td>0</td>\n      <td>0</td>\n      <td>0</td>\n      <td>0</td>\n      <td>0</td>\n      <td>0</td>\n      <td>0</td>\n    </tr>\n    <tr>\n      <th>taxPayables</th>\n      <td>0</td>\n      <td>0</td>\n      <td>0</td>\n      <td>0</td>\n      <td>0</td>\n      <td>0</td>\n      <td>0</td>\n      <td>0</td>\n      <td>0</td>\n      <td>0</td>\n      <td>0</td>\n    </tr>\n    <tr>\n      <th>deferredRevenue</th>\n      <td>63000000</td>\n      <td>22000000</td>\n      <td>0</td>\n      <td>0</td>\n      <td>0</td>\n      <td>0</td>\n      <td>0</td>\n      <td>0</td>\n      <td>0</td>\n      <td>0</td>\n      <td>0</td>\n    </tr>\n    <tr>\n      <th>otherCurrentLiabilities</th>\n      <td>69000000</td>\n      <td>690000000</td>\n      <td>534000000</td>\n      <td>698000000</td>\n      <td>1949000000</td>\n      <td>0.199631</td>\n      <td>2.39635e+09</td>\n      <td>2.94637e+09</td>\n      <td>3.62265e+09</td>\n      <td>4.45414e+09</td>\n      <td>5.47648e+09</td>\n    </tr>\n    <tr>\n      <th>totalCurrentLiabilities</th>\n      <td>1346000000</td>\n      <td>1513000000</td>\n      <td>1984000000</td>\n      <td>2359000000</td>\n      <td>2417000000</td>\n      <td>0.247567</td>\n      <td>2.97177e+09</td>\n      <td>3.65387e+09</td>\n      <td>4.49253e+09</td>\n      <td>5.52368e+09</td>\n      <td>6.79152e+09</td>\n    </tr>\n    <tr>\n      <th>longTermDebt</th>\n      <td>1435000000</td>\n      <td>1325000000</td>\n      <td>1114000000</td>\n      <td>486000000</td>\n      <td>330000000</td>\n      <td>0.0338011</td>\n      <td>4.05744e+08</td>\n      <td>4.98873e+08</td>\n      <td>6.13378e+08</td>\n      <td>7.54164e+08</td>\n      <td>9.27265e+08</td>\n    </tr>\n    <tr>\n      <th>deferredRevenueNonCurrent</th>\n      <td>0</td>\n      <td>0</td>\n      <td>0</td>\n      <td>0</td>\n      <td>0</td>\n      <td>0</td>\n      <td>0</td>\n      <td>0</td>\n      <td>0</td>\n      <td>0</td>\n      <td>0</td>\n    </tr>\n    <tr>\n      <th>deferredTaxLiabilitiesNonCurrent</th>\n      <td>0</td>\n      <td>0</td>\n      <td>0</td>\n      <td>0</td>\n      <td>0</td>\n      <td>0</td>\n      <td>0</td>\n      <td>0</td>\n      <td>0</td>\n      <td>0</td>\n      <td>0</td>\n    </tr>\n    <tr>\n      <th>otherNonCurrentLiabilities</th>\n      <td>124000000</td>\n      <td>118000000</td>\n      <td>192000000</td>\n      <td>345000000</td>\n      <td>177000000</td>\n      <td>0.0181297</td>\n      <td>2.17626e+08</td>\n      <td>2.67577e+08</td>\n      <td>3.28993e+08</td>\n      <td>4.04506e+08</td>\n      <td>4.97351e+08</td>\n    </tr>\n    <tr>\n      <th>totalNonCurrentLiabilities</th>\n      <td>1559000000</td>\n      <td>1443000000</td>\n      <td>1306000000</td>\n      <td>842000000</td>\n      <td>507000000</td>\n      <td>0.0519308</td>\n      <td>6.2337e+08</td>\n      <td>7.6645e+08</td>\n      <td>9.42371e+08</td>\n      <td>1.15867e+09</td>\n      <td>1.42462e+09</td>\n    </tr>\n    <tr>\n      <th>otherLiabilities</th>\n      <td>0</td>\n      <td>0</td>\n      <td>0</td>\n      <td>0</td>\n      <td>201000000</td>\n      <td>0.0205879</td>\n      <td>2.47135e+08</td>\n      <td>3.03859e+08</td>\n      <td>3.73603e+08</td>\n      <td>4.59355e+08</td>\n      <td>5.64789e+08</td>\n    </tr>\n    <tr>\n      <th>totalLiabilities</th>\n      <td>2905000000</td>\n      <td>2956000000</td>\n      <td>3290000000</td>\n      <td>3201000000</td>\n      <td>3125000000</td>\n      <td>0.320086</td>\n      <td>3.84227e+09</td>\n      <td>4.72418e+09</td>\n      <td>5.8085e+09</td>\n      <td>7.14171e+09</td>\n      <td>8.78092e+09</td>\n    </tr>\n    <tr>\n      <th>commonStock</th>\n      <td>9e+06</td>\n      <td>9e+06</td>\n      <td>10000000</td>\n      <td>12000000</td>\n      <td>12000000</td>\n      <td>0.00122913</td>\n      <td>1.47543e+07</td>\n      <td>1.81408e+07</td>\n      <td>2.23046e+07</td>\n      <td>2.74242e+07</td>\n      <td>3.37187e+07</td>\n    </tr>\n    <tr>\n      <th>retainedEarnings</th>\n      <td>-7803000000</td>\n      <td>-7775000000</td>\n      <td>-7436000000</td>\n      <td>-7095000000</td>\n      <td>0</td>\n      <td>0</td>\n      <td>0</td>\n      <td>0</td>\n      <td>0</td>\n      <td>0</td>\n      <td>0</td>\n    </tr>\n    <tr>\n      <th>accumulatedOtherComprehensiveIncomeLoss</th>\n      <td>-5e+06</td>\n      <td>6e+06</td>\n      <td>-8e+06</td>\n      <td>-768000000</td>\n      <td>17000000</td>\n      <td>0.00174127</td>\n      <td>2.0902e+07</td>\n      <td>2.56995e+07</td>\n      <td>3.15982e+07</td>\n      <td>3.88509e+07</td>\n      <td>4.77682e+07</td>\n    </tr>\n    <tr>\n      <th>othertotalStockholdersEquity</th>\n      <td>0</td>\n      <td>6e+06</td>\n      <td>-8e+06</td>\n      <td>0</td>\n      <td>5808000000</td>\n      <td>0.594899</td>\n      <td>7.14109e+09</td>\n      <td>8.78016e+09</td>\n      <td>1.07954e+10</td>\n      <td>1.32733e+10</td>\n      <td>1.63199e+10</td>\n    </tr>\n    <tr>\n      <th>totalStockholdersEquity</th>\n      <td>416000000</td>\n      <td>596000000</td>\n      <td>1266000000</td>\n      <td>2827000000</td>\n      <td>5837000000</td>\n      <td>0.59787</td>\n      <td>7.17675e+09</td>\n      <td>8.824e+09</td>\n      <td>1.08494e+10</td>\n      <td>1.33396e+10</td>\n      <td>1.64014e+10</td>\n    </tr>\n    <tr>\n      <th>totalLiabilitiesAndStockholdersEquity</th>\n      <td>3321000000</td>\n      <td>3552000000</td>\n      <td>4556000000</td>\n      <td>6028000000</td>\n      <td>8962000000</td>\n      <td>0.917956</td>\n      <td>1.1019e+10</td>\n      <td>1.35482e+10</td>\n      <td>1.66579e+10</td>\n      <td>2.04813e+10</td>\n      <td>2.51823e+10</td>\n    </tr>\n    <tr>\n      <th>totalInvestments</th>\n      <td>0</td>\n      <td>58000000</td>\n      <td>136000000</td>\n      <td>95000000</td>\n      <td>758000000</td>\n      <td>0.0776401</td>\n      <td>9.31981e+08</td>\n      <td>1.1459e+09</td>\n      <td>1.40891e+09</td>\n      <td>1.73229e+09</td>\n      <td>2.1299e+09</td>\n    </tr>\n    <tr>\n      <th>totalDebt</th>\n      <td>1435000000</td>\n      <td>1395000000</td>\n      <td>1250000000</td>\n      <td>486000000</td>\n      <td>330000000</td>\n      <td>0.0338011</td>\n      <td>4.05744e+08</td>\n      <td>4.98873e+08</td>\n      <td>6.13378e+08</td>\n      <td>7.54164e+08</td>\n      <td>9.27265e+08</td>\n    </tr>\n    <tr>\n      <th>netDebt</th>\n      <td>171000000</td>\n      <td>210000000</td>\n      <td>172000000</td>\n      <td>-980000000</td>\n      <td>-1265000000</td>\n      <td>-0.129571</td>\n      <td>-1.55535e+09</td>\n      <td>-1.91235e+09</td>\n      <td>-2.35128e+09</td>\n      <td>-2.89096e+09</td>\n      <td>-3.55452e+09</td>\n    </tr>\n  </tbody>\n</table>\n</div>",
      "text/plain": "                                                PY-4         PY-3  \\\ncashAndCashEquivalents                    1264000000   1185000000   \nshortTermInvestments                               0            0   \ncashAndShortTermInvestments               1264000000   1185000000   \nnetReceivables                             311000000    454000000   \ninventory                                  751000000    694000000   \notherCurrentAssets                         109000000    301000000   \ntotalCurrentAssets                        2530000000   2634000000   \npropertyPlantEquipmentNet                  164000000    261000000   \ngoodwill                                   289000000    289000000   \nintangibleAssets                           232000000    239000000   \ngoodwillAndIntangibleAssets                521000000    528000000   \nlongTermInvestments                         59000000     58000000   \ntaxAssets                                          0            0   \notherNonCurrentAssets                       47000000     71000000   \ntotalNonCurrentAssets                      791000000    918000000   \notherAssets                                        0            0   \ntotalAssets                               3321000000   3552000000   \naccountPayables                            440000000    384000000   \nshortTermDebt                                      0            0   \ntaxPayables                                        0            0   \ndeferredRevenue                             63000000     22000000   \notherCurrentLiabilities                     69000000    690000000   \ntotalCurrentLiabilities                   1346000000   1513000000   \nlongTermDebt                              1435000000   1325000000   \ndeferredRevenueNonCurrent                          0            0   \ndeferredTaxLiabilitiesNonCurrent                   0            0   \notherNonCurrentLiabilities                 124000000    118000000   \ntotalNonCurrentLiabilities                1559000000   1443000000   \notherLiabilities                                   0            0   \ntotalLiabilities                          2905000000   2956000000   \ncommonStock                                    9e+06        9e+06   \nretainedEarnings                         -7803000000  -7775000000   \naccumulatedOtherComprehensiveIncomeLoss       -5e+06        6e+06   \nothertotalStockholdersEquity                       0        6e+06   \ntotalStockholdersEquity                    416000000    596000000   \ntotalLiabilitiesAndStockholdersEquity     3321000000   3552000000   \ntotalInvestments                                   0     58000000   \ntotalDebt                                 1435000000   1395000000   \nnetDebt                                    171000000    210000000   \n\n                                                PY-2         PY-1  \\\ncashAndCashEquivalents                    1078000000   1466000000   \nshortTermInvestments                        78000000     37000000   \ncashAndShortTermInvestments               1156000000   1503000000   \nnetReceivables                            1235000000   1859000000   \ninventory                                  845000000    982000000   \notherCurrentAssets                         304000000    253000000   \ntotalCurrentAssets                        3540000000   4597000000   \npropertyPlantEquipmentNet                  348000000    500000000   \ngoodwill                                   289000000    289000000   \nintangibleAssets                           226000000    210000000   \ngoodwillAndIntangibleAssets                515000000    499000000   \nlongTermInvestments                         58000000     58000000   \ntaxAssets                                          0     11000000   \notherNonCurrentAssets                       95000000    169000000   \ntotalNonCurrentAssets                     1016000000   1431000000   \notherAssets                                        0            0   \ntotalAssets                               4556000000   6028000000   \naccountPayables                            834000000    988000000   \nshortTermDebt                                      0            0   \ntaxPayables                                        0            0   \ndeferredRevenue                                    0            0   \notherCurrentLiabilities                    534000000    698000000   \ntotalCurrentLiabilities                   1984000000   2359000000   \nlongTermDebt                              1114000000    486000000   \ndeferredRevenueNonCurrent                          0            0   \ndeferredTaxLiabilitiesNonCurrent                   0            0   \notherNonCurrentLiabilities                 192000000    345000000   \ntotalNonCurrentLiabilities                1306000000    842000000   \notherLiabilities                                   0            0   \ntotalLiabilities                          3290000000   3201000000   \ncommonStock                                 10000000     12000000   \nretainedEarnings                         -7436000000  -7095000000   \naccumulatedOtherComprehensiveIncomeLoss       -8e+06   -768000000   \nothertotalStockholdersEquity                  -8e+06            0   \ntotalStockholdersEquity                   1266000000   2827000000   \ntotalLiabilitiesAndStockholdersEquity     4556000000   6028000000   \ntotalInvestments                           136000000     95000000   \ntotalDebt                                 1250000000    486000000   \nnetDebt                                    172000000   -980000000   \n\n                                                  CY Pct of Revenue  \\\ncashAndCashEquivalents                    1595000000       0.163372   \nshortTermInvestments                       695000000      0.0711871   \ncashAndShortTermInvestments               2290000000       0.234559   \nnetReceivables                            2066000000       0.211615   \ninventory                                 1399000000       0.143296   \notherCurrentAssets                         388000000      0.0397419   \ntotalCurrentAssets                        6143000000       0.629212   \npropertyPlantEquipmentNet                  641000000       0.065656   \ngoodwill                                   289000000      0.0296016   \nintangibleAssets                                   0              0   \ngoodwillAndIntangibleAssets                289000000      0.0296016   \nlongTermInvestments                         63000000     0.00645293   \ntaxAssets                                          0              0   \notherNonCurrentAssets                              0              0   \ntotalNonCurrentAssets                      930000000      0.0952576   \notherAssets                               1889000000       0.193486   \ntotalAssets                               8962000000       0.917956   \naccountPayables                            468000000      0.0479361   \nshortTermDebt                                      0              0   \ntaxPayables                                        0              0   \ndeferredRevenue                                    0              0   \notherCurrentLiabilities                   1949000000       0.199631   \ntotalCurrentLiabilities                   2417000000       0.247567   \nlongTermDebt                               330000000      0.0338011   \ndeferredRevenueNonCurrent                          0              0   \ndeferredTaxLiabilitiesNonCurrent                   0              0   \notherNonCurrentLiabilities                 177000000      0.0181297   \ntotalNonCurrentLiabilities                 507000000      0.0519308   \notherLiabilities                           201000000      0.0205879   \ntotalLiabilities                          3125000000       0.320086   \ncommonStock                                 12000000     0.00122913   \nretainedEarnings                                   0              0   \naccumulatedOtherComprehensiveIncomeLoss     17000000     0.00174127   \nothertotalStockholdersEquity              5808000000       0.594899   \ntotalStockholdersEquity                   5837000000        0.59787   \ntotalLiabilitiesAndStockholdersEquity     8962000000       0.917956   \ntotalInvestments                           758000000      0.0776401   \ntotalDebt                                  330000000      0.0338011   \nnetDebt                                  -1265000000      -0.129571   \n\n                                            FY+1 est     FY+2 est  \\\ncashAndCashEquivalents                    1.9611e+09  2.41122e+09   \nshortTermInvestments                     8.54521e+08  1.05066e+09   \ncashAndShortTermInvestments              2.81562e+09  3.46188e+09   \nnetReceivables                            2.5402e+09  3.12325e+09   \ninventory                                1.72011e+09  2.11492e+09   \notherCurrentAssets                       4.77056e+08  5.86554e+08   \ntotalCurrentAssets                       7.55298e+09   9.2866e+09   \npropertyPlantEquipmentNet                7.88127e+08  9.69023e+08   \ngoodwill                                 3.55333e+08  4.36892e+08   \nintangibleAssets                                   0            0   \ngoodwillAndIntangibleAssets              3.55333e+08  4.36892e+08   \nlongTermInvestments                      7.74602e+07  9.52394e+07   \ntaxAssets                                          0            0   \notherNonCurrentAssets                              0            0   \ntotalNonCurrentAssets                    1.14346e+09  1.40591e+09   \notherAssets                              2.32258e+09  2.85567e+09   \ntotalAssets                               1.1019e+10  1.35482e+10   \naccountPayables                          5.75419e+08  7.07493e+08   \nshortTermDebt                                      0            0   \ntaxPayables                                        0            0   \ndeferredRevenue                                    0            0   \notherCurrentLiabilities                  2.39635e+09  2.94637e+09   \ntotalCurrentLiabilities                  2.97177e+09  3.65387e+09   \nlongTermDebt                             4.05744e+08  4.98873e+08   \ndeferredRevenueNonCurrent                          0            0   \ndeferredTaxLiabilitiesNonCurrent                   0            0   \notherNonCurrentLiabilities               2.17626e+08  2.67577e+08   \ntotalNonCurrentLiabilities                6.2337e+08   7.6645e+08   \notherLiabilities                         2.47135e+08  3.03859e+08   \ntotalLiabilities                         3.84227e+09  4.72418e+09   \ncommonStock                              1.47543e+07  1.81408e+07   \nretainedEarnings                                   0            0   \naccumulatedOtherComprehensiveIncomeLoss   2.0902e+07  2.56995e+07   \nothertotalStockholdersEquity             7.14109e+09  8.78016e+09   \ntotalStockholdersEquity                  7.17675e+09    8.824e+09   \ntotalLiabilitiesAndStockholdersEquity     1.1019e+10  1.35482e+10   \ntotalInvestments                         9.31981e+08   1.1459e+09   \ntotalDebt                                4.05744e+08  4.98873e+08   \nnetDebt                                 -1.55535e+09 -1.91235e+09   \n\n                                            FY+3 est     FY+4 est     FY+5 est  \ncashAndCashEquivalents                   2.96466e+09  3.64513e+09  4.48178e+09  \nshortTermInvestments                     1.29181e+09  1.58832e+09  1.95288e+09  \ncashAndShortTermInvestments              4.25647e+09  5.23344e+09  6.43466e+09  \nnetReceivables                           3.84012e+09  4.72153e+09  5.80524e+09  \ninventory                                2.60035e+09   3.1972e+09  3.93104e+09  \notherCurrentAssets                       7.21183e+08  8.86714e+08  1.09024e+09  \ntotalCurrentAssets                       1.14181e+10  1.40389e+10  1.72612e+10  \npropertyPlantEquipmentNet                1.19144e+09  1.46491e+09  1.80114e+09  \ngoodwill                                  5.3717e+08  6.60465e+08   8.1206e+08  \nintangibleAssets                                   0            0            0  \ngoodwillAndIntangibleAssets               5.3717e+08  6.60465e+08   8.1206e+08  \nlongTermInvestments                      1.17099e+08  1.43977e+08  1.77023e+08  \ntaxAssets                                          0            0            0  \notherNonCurrentAssets                              0            0            0  \ntotalNonCurrentAssets                    1.72861e+09  2.12537e+09   2.6132e+09  \notherAssets                              3.51112e+09  4.31702e+09  5.30789e+09  \ntotalAssets                              1.66579e+10  2.04813e+10  2.51823e+10  \naccountPayables                          8.69881e+08  1.06954e+09  1.31503e+09  \nshortTermDebt                                      0            0            0  \ntaxPayables                                        0            0            0  \ndeferredRevenue                                    0            0            0  \notherCurrentLiabilities                  3.62265e+09  4.45414e+09  5.47648e+09  \ntotalCurrentLiabilities                  4.49253e+09  5.52368e+09  6.79152e+09  \nlongTermDebt                             6.13378e+08  7.54164e+08  9.27265e+08  \ndeferredRevenueNonCurrent                          0            0            0  \ndeferredTaxLiabilitiesNonCurrent                   0            0            0  \notherNonCurrentLiabilities               3.28993e+08  4.04506e+08  4.97351e+08  \ntotalNonCurrentLiabilities               9.42371e+08  1.15867e+09  1.42462e+09  \notherLiabilities                         3.73603e+08  4.59355e+08  5.64789e+08  \ntotalLiabilities                          5.8085e+09  7.14171e+09  8.78092e+09  \ncommonStock                              2.23046e+07  2.74242e+07  3.37187e+07  \nretainedEarnings                                   0            0            0  \naccumulatedOtherComprehensiveIncomeLoss  3.15982e+07  3.88509e+07  4.77682e+07  \nothertotalStockholdersEquity             1.07954e+10  1.32733e+10  1.63199e+10  \ntotalStockholdersEquity                  1.08494e+10  1.33396e+10  1.64014e+10  \ntotalLiabilitiesAndStockholdersEquity    1.66579e+10  2.04813e+10  2.51823e+10  \ntotalInvestments                         1.40891e+09  1.73229e+09   2.1299e+09  \ntotalDebt                                6.13378e+08  7.54164e+08  9.27265e+08  \nnetDebt                                 -2.35128e+09 -2.89096e+09 -3.55452e+09  "
     },
     "execution_count": 4,
     "metadata": {},
     "output_type": "execute_result"
    }
   ],
   "source": [
    "def bal_sht_function():\r\n",
    "    complete_inc_stmt_df = inc_stmt_function()    \r\n",
    "    \r\n",
    "    bal_sht = requests.get(f'https://financialmodelingprep.com/api/v3/balance-sheet-statement/{company}?apikey={fmp_key}').json()\r\n",
    "\r\n",
    "    current_bal_sht_df = pd.DataFrame.from_dict(bal_sht[0],orient='index')\r\n",
    "    current_bal_sht_df = current_bal_sht_df[6:-2]\r\n",
    "    current_bal_sht_df.columns = ['CY']\r\n",
    "    current_bal_sht_df['Pct of Revenue'] = current_bal_sht_df / complete_inc_stmt_df['CY'].iloc[0]\r\n",
    "    current_bal_sht_df['PY-1'] = pd.DataFrame.from_dict(bal_sht[1],orient='index')\r\n",
    "    current_bal_sht_df['PY-2'] = pd.DataFrame.from_dict(bal_sht[2],orient='index')\r\n",
    "    current_bal_sht_df['PY-3'] = pd.DataFrame.from_dict(bal_sht[3],orient='index')\r\n",
    "    current_bal_sht_df['PY-4'] = pd.DataFrame.from_dict(bal_sht[4],orient='index')\r\n",
    "    complete_bal_sht_df = current_bal_sht_df[['PY-4', 'PY-3', 'PY-2', 'PY-1', 'CY', 'Pct of Revenue']]\r\n",
    "    complete_bal_sht_df\r\n",
    "\r\n",
    "    complete_bal_sht_df['FY+1 est'] = complete_inc_stmt_df['FY+1 est']['revenue'] * complete_bal_sht_df['Pct of Revenue']\r\n",
    "    complete_bal_sht_df['FY+2 est'] = complete_inc_stmt_df['FY+2 est']['revenue'] * complete_bal_sht_df['Pct of Revenue']\r\n",
    "    complete_bal_sht_df['FY+3 est'] = complete_inc_stmt_df['FY+3 est']['revenue'] * complete_bal_sht_df['Pct of Revenue']\r\n",
    "    complete_bal_sht_df['FY+4 est'] = complete_inc_stmt_df['FY+4 est']['revenue'] * complete_bal_sht_df['Pct of Revenue']\r\n",
    "    complete_bal_sht_df['FY+5 est'] = complete_inc_stmt_df['FY+5 est']['revenue'] * complete_bal_sht_df['Pct of Revenue']\r\n",
    "    \r\n",
    "    return complete_bal_sht_df\r\n",
    "    \r\n",
    "bal_sht_function()\r\n"
   ]
  },
  {
   "cell_type": "code",
   "execution_count": null,
   "metadata": {},
   "outputs": [
    {
     "name": "stderr",
     "output_type": "stream",
     "text": [
      "C:\\Users\\andyl\\anaconda3\\envs\\alpacaenv\\lib\\site-packages\\ipykernel_launcher.py:24: SettingWithCopyWarning: \n",
      "A value is trying to be set on a copy of a slice from a DataFrame.\n",
      "Try using .loc[row_indexer,col_indexer] = value instead\n",
      "\n",
      "See the caveats in the documentation: https://pandas.pydata.org/pandas-docs/stable/user_guide/indexing.html#returning-a-view-versus-a-copy\n",
      "C:\\Users\\andyl\\anaconda3\\envs\\alpacaenv\\lib\\site-packages\\ipykernel_launcher.py:25: SettingWithCopyWarning: \n",
      "A value is trying to be set on a copy of a slice from a DataFrame.\n",
      "Try using .loc[row_indexer,col_indexer] = value instead\n",
      "\n",
      "See the caveats in the documentation: https://pandas.pydata.org/pandas-docs/stable/user_guide/indexing.html#returning-a-view-versus-a-copy\n",
      "C:\\Users\\andyl\\anaconda3\\envs\\alpacaenv\\lib\\site-packages\\ipykernel_launcher.py:26: SettingWithCopyWarning: \n",
      "A value is trying to be set on a copy of a slice from a DataFrame.\n",
      "Try using .loc[row_indexer,col_indexer] = value instead\n",
      "\n",
      "See the caveats in the documentation: https://pandas.pydata.org/pandas-docs/stable/user_guide/indexing.html#returning-a-view-versus-a-copy\n",
      "C:\\Users\\andyl\\anaconda3\\envs\\alpacaenv\\lib\\site-packages\\ipykernel_launcher.py:27: SettingWithCopyWarning: \n",
      "A value is trying to be set on a copy of a slice from a DataFrame.\n",
      "Try using .loc[row_indexer,col_indexer] = value instead\n",
      "\n",
      "See the caveats in the documentation: https://pandas.pydata.org/pandas-docs/stable/user_guide/indexing.html#returning-a-view-versus-a-copy\n",
      "C:\\Users\\andyl\\anaconda3\\envs\\alpacaenv\\lib\\site-packages\\ipykernel_launcher.py:28: SettingWithCopyWarning: \n",
      "A value is trying to be set on a copy of a slice from a DataFrame.\n",
      "Try using .loc[row_indexer,col_indexer] = value instead\n",
      "\n",
      "See the caveats in the documentation: https://pandas.pydata.org/pandas-docs/stable/user_guide/indexing.html#returning-a-view-versus-a-copy\n",
      "C:\\Users\\andyl\\anaconda3\\envs\\alpacaenv\\lib\\site-packages\\ipykernel_launcher.py:17: SettingWithCopyWarning: \n",
      "A value is trying to be set on a copy of a slice from a DataFrame.\n",
      "Try using .loc[row_indexer,col_indexer] = value instead\n",
      "\n",
      "See the caveats in the documentation: https://pandas.pydata.org/pandas-docs/stable/user_guide/indexing.html#returning-a-view-versus-a-copy\n",
      "C:\\Users\\andyl\\anaconda3\\envs\\alpacaenv\\lib\\site-packages\\ipykernel_launcher.py:18: SettingWithCopyWarning: \n",
      "A value is trying to be set on a copy of a slice from a DataFrame.\n",
      "Try using .loc[row_indexer,col_indexer] = value instead\n",
      "\n",
      "See the caveats in the documentation: https://pandas.pydata.org/pandas-docs/stable/user_guide/indexing.html#returning-a-view-versus-a-copy\n",
      "C:\\Users\\andyl\\anaconda3\\envs\\alpacaenv\\lib\\site-packages\\ipykernel_launcher.py:19: SettingWithCopyWarning: \n",
      "A value is trying to be set on a copy of a slice from a DataFrame.\n",
      "Try using .loc[row_indexer,col_indexer] = value instead\n",
      "\n",
      "See the caveats in the documentation: https://pandas.pydata.org/pandas-docs/stable/user_guide/indexing.html#returning-a-view-versus-a-copy\n",
      "C:\\Users\\andyl\\anaconda3\\envs\\alpacaenv\\lib\\site-packages\\ipykernel_launcher.py:20: SettingWithCopyWarning: \n",
      "A value is trying to be set on a copy of a slice from a DataFrame.\n",
      "Try using .loc[row_indexer,col_indexer] = value instead\n",
      "\n",
      "See the caveats in the documentation: https://pandas.pydata.org/pandas-docs/stable/user_guide/indexing.html#returning-a-view-versus-a-copy\n",
      "C:\\Users\\andyl\\anaconda3\\envs\\alpacaenv\\lib\\site-packages\\ipykernel_launcher.py:21: SettingWithCopyWarning: \n",
      "A value is trying to be set on a copy of a slice from a DataFrame.\n",
      "Try using .loc[row_indexer,col_indexer] = value instead\n",
      "\n",
      "See the caveats in the documentation: https://pandas.pydata.org/pandas-docs/stable/user_guide/indexing.html#returning-a-view-versus-a-copy\n"
     ]
    },
    {
     "data": {
      "text/html": "<div>\n<style scoped>\n    .dataframe tbody tr th:only-of-type {\n        vertical-align: middle;\n    }\n\n    .dataframe tbody tr th {\n        vertical-align: top;\n    }\n\n    .dataframe thead th {\n        text-align: right;\n    }\n</style>\n<table border=\"1\" class=\"dataframe\">\n  <thead>\n    <tr style=\"text-align: right;\">\n      <th></th>\n      <th>FY+1 est</th>\n      <th>FY+2 est</th>\n      <th>FY+3 est</th>\n      <th>FY+4 est</th>\n      <th>FY+5 est</th>\n    </tr>\n  </thead>\n  <tbody>\n    <tr>\n      <th>Net Income</th>\n      <td>3,061,521,815</td>\n      <td>3,764,223,223</td>\n      <td>4,628,213,460</td>\n      <td>5,690,512,640</td>\n      <td>6,996,637,988</td>\n    </tr>\n    <tr>\n      <th>Depreciation &amp; Amortization</th>\n      <td>383,612,372</td>\n      <td>471,661,705</td>\n      <td>579,920,723</td>\n      <td>713,028,090</td>\n      <td>876,687,170</td>\n    </tr>\n    <tr>\n      <th>Change in Receivables</th>\n      <td>-474,202,438</td>\n      <td>-583,044,622</td>\n      <td>-716,869,008</td>\n      <td>-881,409,681</td>\n      <td>-1,083,716,854</td>\n    </tr>\n    <tr>\n      <th>Change in Inventory</th>\n      <td>-321,108,040</td>\n      <td>-394,810,952</td>\n      <td>-485,430,659</td>\n      <td>-596,850,021</td>\n      <td>-733,843,117</td>\n    </tr>\n    <tr>\n      <th>Change in Payables</th>\n      <td>107,418,558</td>\n      <td>132,074,000</td>\n      <td>162,388,526</td>\n      <td>199,661,051</td>\n      <td>245,488,619</td>\n    </tr>\n    <tr>\n      <th>Change in NWC</th>\n      <td>-687,891,920</td>\n      <td>-845,781,574</td>\n      <td>-1,039,911,141</td>\n      <td>-1,278,598,652</td>\n      <td>-1,572,071,352</td>\n    </tr>\n    <tr>\n      <th>OP CF</th>\n      <td>2,757,242,267</td>\n      <td>3,390,103,354</td>\n      <td>4,168,223,042</td>\n      <td>5,124,942,078</td>\n      <td>6,301,253,806</td>\n    </tr>\n    <tr>\n      <th>CAPEX</th>\n      <td>530,739,072</td>\n      <td>652,557,931</td>\n      <td>802,337,487</td>\n      <td>986,495,469</td>\n      <td>1,212,922,651</td>\n    </tr>\n    <tr>\n      <th>Unlevered FCF</th>\n      <td>3,287,981,340</td>\n      <td>4,042,661,285</td>\n      <td>4,970,560,529</td>\n      <td>6,111,437,548</td>\n      <td>7,514,176,456</td>\n    </tr>\n    <tr>\n      <th>Total Debt</th>\n      <td>-2,971,766,357</td>\n      <td>-3,653,866,478</td>\n      <td>-4,492,526,881</td>\n      <td>-5,523,682,350</td>\n      <td>-6,791,515,669</td>\n    </tr>\n    <tr>\n      <th>Levered FCF</th>\n      <td>316,214,983</td>\n      <td>388,794,807</td>\n      <td>478,033,648</td>\n      <td>587,755,198</td>\n      <td>722,660,787</td>\n    </tr>\n  </tbody>\n</table>\n</div>",
      "text/plain": "                                  FY+1 est       FY+2 est       FY+3 est  \\\nNet Income                   3,061,521,815  3,764,223,223  4,628,213,460   \nDepreciation & Amortization    383,612,372    471,661,705    579,920,723   \nChange in Receivables         -474,202,438   -583,044,622   -716,869,008   \nChange in Inventory           -321,108,040   -394,810,952   -485,430,659   \nChange in Payables             107,418,558    132,074,000    162,388,526   \nChange in NWC                 -687,891,920   -845,781,574 -1,039,911,141   \nOP CF                        2,757,242,267  3,390,103,354  4,168,223,042   \nCAPEX                          530,739,072    652,557,931    802,337,487   \nUnlevered FCF                3,287,981,340  4,042,661,285  4,970,560,529   \nTotal Debt                  -2,971,766,357 -3,653,866,478 -4,492,526,881   \nLevered FCF                    316,214,983    388,794,807    478,033,648   \n\n                                  FY+4 est       FY+5 est  \nNet Income                   5,690,512,640  6,996,637,988  \nDepreciation & Amortization    713,028,090    876,687,170  \nChange in Receivables         -881,409,681 -1,083,716,854  \nChange in Inventory           -596,850,021   -733,843,117  \nChange in Payables             199,661,051    245,488,619  \nChange in NWC               -1,278,598,652 -1,572,071,352  \nOP CF                        5,124,942,078  6,301,253,806  \nCAPEX                          986,495,469  1,212,922,651  \nUnlevered FCF                6,111,437,548  7,514,176,456  \nTotal Debt                  -5,523,682,350 -6,791,515,669  \nLevered FCF                    587,755,198    722,660,787  "
     },
     "execution_count": 5,
     "metadata": {},
     "output_type": "execute_result"
    }
   ],
   "source": [
    "def cash_flow_forecast():\r\n",
    "    complete_inc_stmt_df = inc_stmt_function()\r\n",
    "    complete_bal_sht_df = bal_sht_function()   \r\n",
    "\r\n",
    "    \r\n",
    "    projected_cf = {}\r\n",
    "\r\n",
    "    projected_cf['FY+1 est'] = {}\r\n",
    "\r\n",
    "    projected_cf['FY+1 est']['Net Income'] = complete_inc_stmt_df['FY+1 est']['netIncome']\r\n",
    "    projected_cf['FY+1 est']['Depreciation & Amortization'] = complete_inc_stmt_df['FY+1 est']['depreciationAndAmortization']\r\n",
    "    projected_cf['FY+1 est']['Change in Receivables'] = complete_bal_sht_df['CY']['netReceivables'] - complete_bal_sht_df['FY+1 est']['netReceivables']\r\n",
    "    projected_cf['FY+1 est']['Change in Inventory'] = complete_bal_sht_df['CY']['inventory'] - complete_bal_sht_df['FY+1 est']['inventory']\r\n",
    "    projected_cf['FY+1 est']['Change in Payables'] = complete_bal_sht_df['FY+1 est']['accountPayables'] - complete_bal_sht_df['CY']['accountPayables']\r\n",
    "    projected_cf['FY+1 est']['Change in NWC'] = projected_cf['FY+1 est']['Change in Receivables'] + projected_cf['FY+1 est']['Change in Inventory'] + projected_cf['FY+1 est']['Change in Payables']\r\n",
    "    projected_cf['FY+1 est']['OP CF'] = projected_cf['FY+1 est']['Net Income'] + projected_cf['FY+1 est']['Depreciation & Amortization'] + projected_cf['FY+1 est']['Change in NWC']\r\n",
    "    projected_cf['FY+1 est']['CAPEX'] = complete_bal_sht_df['FY+1 est']['propertyPlantEquipmentNet'] - complete_bal_sht_df['CY']['propertyPlantEquipmentNet'] + complete_inc_stmt_df['FY+1 est']['depreciationAndAmortization']\r\n",
    "    projected_cf['FY+1 est']['Unlevered FCF'] = projected_cf['FY+1 est']['CAPEX'] + projected_cf['FY+1 est']['OP CF']\r\n",
    "    projected_cf['FY+1 est']['Total Debt'] = -(complete_bal_sht_df['FY+1 est']['totalCurrentLiabilities'])\r\n",
    "    projected_cf['FY+1 est']['Levered FCF'] = projected_cf['FY+1 est']['Unlevered FCF'] + projected_cf['FY+1 est']['Total Debt']\r\n",
    "\r\n",
    "    projected_cf['FY+2 est'] = {}\r\n",
    "\r\n",
    "    projected_cf['FY+2 est']['Net Income'] = complete_inc_stmt_df['FY+2 est']['netIncome']\r\n",
    "    projected_cf['FY+2 est']['Depreciation & Amortization'] = complete_inc_stmt_df['FY+2 est']['depreciationAndAmortization']\r\n",
    "    projected_cf['FY+2 est']['Change in Receivables'] = complete_bal_sht_df['FY+1 est']['netReceivables'] - complete_bal_sht_df['FY+2 est']['netReceivables']\r\n",
    "    projected_cf['FY+2 est']['Change in Inventory'] = complete_bal_sht_df['FY+1 est']['inventory'] - complete_bal_sht_df['FY+2 est']['inventory']\r\n",
    "    projected_cf['FY+2 est']['Change in Payables'] = complete_bal_sht_df['FY+2 est']['accountPayables'] - complete_bal_sht_df['FY+1 est']['accountPayables']\r\n",
    "    projected_cf['FY+2 est']['Change in NWC'] = projected_cf['FY+2 est']['Change in Receivables'] + projected_cf['FY+2 est']['Change in Inventory'] + projected_cf['FY+2 est']['Change in Payables']\r\n",
    "    projected_cf['FY+2 est']['OP CF'] = projected_cf['FY+2 est']['Net Income'] + projected_cf['FY+2 est']['Depreciation & Amortization'] + projected_cf['FY+2 est']['Change in NWC']\r\n",
    "    projected_cf['FY+2 est']['CAPEX'] = complete_bal_sht_df['FY+2 est']['propertyPlantEquipmentNet'] - complete_bal_sht_df['FY+1 est']['propertyPlantEquipmentNet'] + complete_inc_stmt_df['FY+2 est']['depreciationAndAmortization']\r\n",
    "    projected_cf['FY+2 est']['Unlevered FCF'] = projected_cf['FY+2 est']['CAPEX'] + projected_cf['FY+2 est']['OP CF']\r\n",
    "    projected_cf['FY+2 est']['Total Debt'] = -(complete_bal_sht_df['FY+2 est']['totalCurrentLiabilities'])\r\n",
    "    projected_cf['FY+2 est']['Levered FCF'] = projected_cf['FY+2 est']['Unlevered FCF'] + projected_cf['FY+2 est']['Total Debt']\r\n",
    "\r\n",
    "    projected_cf['FY+3 est'] = {}\r\n",
    "\r\n",
    "    projected_cf['FY+3 est']['Net Income'] = complete_inc_stmt_df['FY+3 est']['netIncome']\r\n",
    "    projected_cf['FY+3 est']['Depreciation & Amortization'] = complete_inc_stmt_df['FY+3 est']['depreciationAndAmortization']\r\n",
    "    projected_cf['FY+3 est']['Change in Receivables'] = complete_bal_sht_df['FY+2 est']['netReceivables'] - complete_bal_sht_df['FY+3 est']['netReceivables']\r\n",
    "    projected_cf['FY+3 est']['Change in Inventory'] = complete_bal_sht_df['FY+2 est']['inventory'] - complete_bal_sht_df['FY+3 est']['inventory']\r\n",
    "    projected_cf['FY+3 est']['Change in Payables'] = complete_bal_sht_df['FY+3 est']['accountPayables'] - complete_bal_sht_df['FY+2 est']['accountPayables']\r\n",
    "    projected_cf['FY+3 est']['Change in NWC'] = projected_cf['FY+3 est']['Change in Receivables'] + projected_cf['FY+3 est']['Change in Inventory'] + projected_cf['FY+3 est']['Change in Payables']\r\n",
    "    projected_cf['FY+3 est']['OP CF'] = projected_cf['FY+3 est']['Net Income'] + projected_cf['FY+3 est']['Depreciation & Amortization'] + projected_cf['FY+3 est']['Change in NWC']\r\n",
    "    projected_cf['FY+3 est']['CAPEX'] = complete_bal_sht_df['FY+3 est']['propertyPlantEquipmentNet'] - complete_bal_sht_df['FY+2 est']['propertyPlantEquipmentNet'] + complete_inc_stmt_df['FY+3 est']['depreciationAndAmortization']\r\n",
    "    projected_cf['FY+3 est']['Unlevered FCF'] = projected_cf['FY+3 est']['CAPEX'] + projected_cf['FY+3 est']['OP CF']\r\n",
    "    projected_cf['FY+3 est']['Total Debt'] = -(complete_bal_sht_df['FY+3 est']['totalCurrentLiabilities'])\r\n",
    "    projected_cf['FY+3 est']['Levered FCF'] = projected_cf['FY+3 est']['Unlevered FCF'] + projected_cf['FY+3 est']['Total Debt']\r\n",
    "\r\n",
    "\r\n",
    "    projected_cf['FY+4 est'] = {}\r\n",
    "\r\n",
    "    projected_cf['FY+4 est']['Net Income'] = complete_inc_stmt_df['FY+4 est']['netIncome']\r\n",
    "    projected_cf['FY+4 est']['Depreciation & Amortization'] = complete_inc_stmt_df['FY+4 est']['depreciationAndAmortization']\r\n",
    "    projected_cf['FY+4 est']['Change in Receivables'] = complete_bal_sht_df['FY+3 est']['netReceivables'] - complete_bal_sht_df['FY+4 est']['netReceivables']\r\n",
    "    projected_cf['FY+4 est']['Change in Inventory'] = complete_bal_sht_df['FY+3 est']['inventory'] - complete_bal_sht_df['FY+4 est']['inventory']\r\n",
    "    projected_cf['FY+4 est']['Change in Payables'] = complete_bal_sht_df['FY+4 est']['accountPayables'] - complete_bal_sht_df['FY+3 est']['accountPayables']\r\n",
    "    projected_cf['FY+4 est']['Change in NWC'] = projected_cf['FY+4 est']['Change in Receivables'] + projected_cf['FY+4 est']['Change in Inventory'] + projected_cf['FY+4 est']['Change in Payables']\r\n",
    "    projected_cf['FY+4 est']['OP CF'] = projected_cf['FY+4 est']['Net Income'] + projected_cf['FY+4 est']['Depreciation & Amortization'] + projected_cf['FY+4 est']['Change in NWC']\r\n",
    "    projected_cf['FY+4 est']['CAPEX'] = complete_bal_sht_df['FY+4 est']['propertyPlantEquipmentNet'] - complete_bal_sht_df['FY+3 est']['propertyPlantEquipmentNet'] + complete_inc_stmt_df['FY+4 est']['depreciationAndAmortization']\r\n",
    "    projected_cf['FY+4 est']['Unlevered FCF'] = projected_cf['FY+4 est']['CAPEX'] + projected_cf['FY+4 est']['OP CF']\r\n",
    "    projected_cf['FY+4 est']['Total Debt'] = -(complete_bal_sht_df['FY+4 est']['totalCurrentLiabilities'])\r\n",
    "    projected_cf['FY+4 est']['Levered FCF'] = projected_cf['FY+4 est']['Unlevered FCF'] + projected_cf['FY+4 est']['Total Debt']\r\n",
    "\r\n",
    "\r\n",
    "    projected_cf['FY+5 est'] = {}\r\n",
    "\r\n",
    "    projected_cf['FY+5 est']['Net Income'] = complete_inc_stmt_df['FY+5 est']['netIncome']\r\n",
    "    projected_cf['FY+5 est']['Depreciation & Amortization'] = complete_inc_stmt_df['FY+5 est']['depreciationAndAmortization']\r\n",
    "    projected_cf['FY+5 est']['Change in Receivables'] = complete_bal_sht_df['FY+4 est']['netReceivables'] - complete_bal_sht_df['FY+5 est']['netReceivables']\r\n",
    "    projected_cf['FY+5 est']['Change in Inventory'] = complete_bal_sht_df['FY+4 est']['inventory'] - complete_bal_sht_df['FY+5 est']['inventory']\r\n",
    "    projected_cf['FY+5 est']['Change in Payables'] = complete_bal_sht_df['FY+5 est']['accountPayables'] - complete_bal_sht_df['FY+4 est']['accountPayables']\r\n",
    "    projected_cf['FY+5 est']['Change in NWC'] = projected_cf['FY+5 est']['Change in Receivables'] + projected_cf['FY+5 est']['Change in Inventory'] + projected_cf['FY+5 est']['Change in Payables']\r\n",
    "    projected_cf['FY+5 est']['OP CF'] = projected_cf['FY+5 est']['Net Income'] + projected_cf['FY+5 est']['Depreciation & Amortization'] + projected_cf['FY+5 est']['Change in NWC']\r\n",
    "    projected_cf['FY+5 est']['CAPEX'] = complete_bal_sht_df['FY+5 est']['propertyPlantEquipmentNet'] - complete_bal_sht_df['FY+4 est']['propertyPlantEquipmentNet'] + complete_inc_stmt_df['FY+5 est']['depreciationAndAmortization']\r\n",
    "    projected_cf['FY+5 est']['Unlevered FCF'] = projected_cf['FY+5 est']['CAPEX'] + projected_cf['FY+5 est']['OP CF']\r\n",
    "    projected_cf['FY+5 est']['Total Debt'] = -(complete_bal_sht_df['FY+5 est']['totalCurrentLiabilities'])\r\n",
    "    projected_cf['FY+5 est']['Levered FCF'] = projected_cf['FY+5 est']['Unlevered FCF'] + projected_cf['FY+5 est']['Total Debt']\r\n",
    "\r\n",
    "    cf_forecast = pd.DataFrame.from_dict(projected_cf, orient='columns')\r\n",
    "    pd.options.display.float_format = '{:,.0f}'.format\r\n",
    "    cf_forecast = cf_forecast.reindex(['Net Income', 'Depreciation & Amortization', 'Change in Receivables','Change in Inventory', 'Change in Payables', 'Change in NWC', 'OP CF', 'CAPEX', 'Unlevered FCF', 'Total Debt', 'Levered FCF'])\r\n",
    "\r\n",
    "    return cf_forecast\r\n",
    "\r\n",
    "cash_flow_forecast()\r\n"
   ]
  },
  {
   "cell_type": "code",
   "execution_count": null,
   "metadata": {},
   "outputs": [
    {
     "data": {
      "text/plain": "0.0007000000000000001"
     },
     "execution_count": 20,
     "metadata": {},
     "output_type": "execute_result"
    }
   ],
   "source": [
    "ticker_data = api.get_barset(\r\n",
    "    [company, 'SPY'],\r\n",
    "    timeframe,\r\n",
    "    start=start_date,\r\n",
    "    end=end_date,\r\n",
    "    limit=1000\r\n",
    ").df\r\n",
    "\r\n",
    "start = datetime.datetime(2016, 3, 31)\r\n",
    "end = datetime.datetime(2021, 3, 31)\r\n",
    "\r\n",
    "Treasury = web.DataReader(['TB1YR'], 'fred', start, end)\r\n",
    "pd.options.display.float_format = '{:,.2f}'.format\r\n",
    "\r\n",
    "rfr = float(Treasury.iloc[-1])\r\n",
    "rfr = rfr/100\r\n",
    "rfr"
   ]
  },
  {
   "cell_type": "code",
   "execution_count": null,
   "metadata": {},
   "outputs": [],
   "source": []
  },
  {
   "cell_type": "code",
   "execution_count": null,
   "metadata": {},
   "outputs": [
    {
     "data": {
      "text/plain": "1.2349964404915315"
     },
     "execution_count": 7,
     "metadata": {},
     "output_type": "execute_result"
    }
   ],
   "source": [
    "def beta_calc(): \r\n",
    "    ticker_data = api.get_barset(\r\n",
    "        [company, 'SPY'],\r\n",
    "        timeframe,\r\n",
    "        start=start_date,\r\n",
    "        end=end_date,\r\n",
    "        limit=1000\r\n",
    "    ).df\r\n",
    "\r\n",
    "    ticker_data = ticker_data.drop(columns=['open','high','low','volume'],level=1)\r\n",
    "    daily_returns = ticker_data.pct_change().dropna()\r\n",
    "    covariance = daily_returns[company]['close'].cov(daily_returns['SPY']['close'])\r\n",
    "    variance = daily_returns['SPY']['close'].var()\r\n",
    "    beta = covariance / variance \r\n",
    "    return beta\r\n",
    "\r\n",
    "beta_calc()"
   ]
  },
  {
   "cell_type": "code",
   "execution_count": null,
   "metadata": {},
   "outputs": [
    {
     "data": {
      "text/plain": "0.5587630078692828"
     },
     "execution_count": 23,
     "metadata": {},
     "output_type": "execute_result"
    }
   ],
   "source": [
    "def cost_of_equity():\r\n",
    "    ticker_data = api.get_barset(\r\n",
    "        [company, 'SPY'],\r\n",
    "        timeframe,\r\n",
    "        start=start_date,\r\n",
    "        end=end_date,\r\n",
    "        limit=1000\r\n",
    "    ).df\r\n",
    "\r\n",
    "    ticker_data = ticker_data.drop(columns=['open','high','low','volume'],level=1)\r\n",
    "    market_returns = ticker_data['SPY']['close'].pct_change().dropna().mean()*252\r\n",
    "\r\n",
    "    beta = beta_calc()\r\n",
    "    risk_prem = market_returns - rfr\r\n",
    "\r\n",
    "    return rfr + (beta*risk_prem)\r\n",
    "\r\n",
    "cost_of_equity()"
   ]
  },
  {
   "cell_type": "code",
   "execution_count": null,
   "metadata": {},
   "outputs": [
    {
     "ename": "KeyError",
     "evalue": "0",
     "output_type": "error",
     "traceback": [
      "\u001b[1;31m---------------------------------------------------------------------------\u001b[0m",
      "\u001b[1;31mKeyError\u001b[0m                                  Traceback (most recent call last)",
      "\u001b[1;32m<ipython-input-27-255d1bb734f8>\u001b[0m in \u001b[0;36m<module>\u001b[1;34m\u001b[0m\n\u001b[0;32m      6\u001b[0m     \u001b[1;32mreturn\u001b[0m \u001b[0mdebt_interest_rate\u001b[0m\u001b[1;33m\u001b[0m\u001b[1;33m\u001b[0m\u001b[0m\n\u001b[0;32m      7\u001b[0m \u001b[1;33m\u001b[0m\u001b[0m\n\u001b[1;32m----> 8\u001b[1;33m \u001b[0mcost_of_debt\u001b[0m\u001b[1;33m(\u001b[0m\u001b[1;33m)\u001b[0m\u001b[1;33m\u001b[0m\u001b[1;33m\u001b[0m\u001b[0m\n\u001b[0m",
      "\u001b[1;32m<ipython-input-27-255d1bb734f8>\u001b[0m in \u001b[0;36mcost_of_debt\u001b[1;34m()\u001b[0m\n\u001b[0;32m      1\u001b[0m \u001b[1;32mdef\u001b[0m \u001b[0mcost_of_debt\u001b[0m\u001b[1;33m(\u001b[0m\u001b[1;33m)\u001b[0m\u001b[1;33m:\u001b[0m\u001b[1;33m\u001b[0m\u001b[1;33m\u001b[0m\u001b[0m\n\u001b[1;32m----> 2\u001b[1;33m     \u001b[0mcomplete_inc_stmt_df\u001b[0m \u001b[1;33m=\u001b[0m \u001b[0minc_stmt_function\u001b[0m\u001b[1;33m(\u001b[0m\u001b[1;33m)\u001b[0m\u001b[1;33m\u001b[0m\u001b[1;33m\u001b[0m\u001b[0m\n\u001b[0m\u001b[0;32m      3\u001b[0m     \u001b[0mcomplete_bal_sht_df\u001b[0m \u001b[1;33m=\u001b[0m \u001b[0mbal_sht_function\u001b[0m\u001b[1;33m(\u001b[0m\u001b[1;33m)\u001b[0m\u001b[1;33m\u001b[0m\u001b[1;33m\u001b[0m\u001b[0m\n\u001b[0;32m      4\u001b[0m \u001b[1;33m\u001b[0m\u001b[0m\n\u001b[0;32m      5\u001b[0m     \u001b[0mdebt_interest_rate\u001b[0m \u001b[1;33m=\u001b[0m \u001b[0mcomplete_inc_stmt_df\u001b[0m\u001b[1;33m[\u001b[0m\u001b[1;34m'CY'\u001b[0m\u001b[1;33m]\u001b[0m\u001b[1;33m[\u001b[0m\u001b[1;34m'interestExpense'\u001b[0m\u001b[1;33m]\u001b[0m \u001b[1;33m/\u001b[0m \u001b[1;33m(\u001b[0m\u001b[0mcomplete_bal_sht_df\u001b[0m\u001b[1;33m[\u001b[0m\u001b[1;34m'CY'\u001b[0m\u001b[1;33m]\u001b[0m\u001b[1;33m[\u001b[0m\u001b[1;34m'shortTermDebt'\u001b[0m\u001b[1;33m]\u001b[0m \u001b[1;33m+\u001b[0m \u001b[0mcomplete_bal_sht_df\u001b[0m\u001b[1;33m[\u001b[0m\u001b[1;34m'CY'\u001b[0m\u001b[1;33m]\u001b[0m\u001b[1;33m[\u001b[0m\u001b[1;34m'longTermDebt'\u001b[0m\u001b[1;33m]\u001b[0m\u001b[1;33m)\u001b[0m\u001b[1;33m\u001b[0m\u001b[1;33m\u001b[0m\u001b[0m\n",
      "\u001b[1;32m<ipython-input-3-ed89200981e5>\u001b[0m in \u001b[0;36minc_stmt_function\u001b[1;34m()\u001b[0m\n\u001b[0;32m      2\u001b[0m     \u001b[0minc_stmt\u001b[0m \u001b[1;33m=\u001b[0m \u001b[0mrequests\u001b[0m\u001b[1;33m.\u001b[0m\u001b[0mget\u001b[0m\u001b[1;33m(\u001b[0m\u001b[1;34mf'https://financialmodelingprep.com/api/v3/income-statement/{company}?apikey={fmp_key}'\u001b[0m\u001b[1;33m)\u001b[0m\u001b[1;33m.\u001b[0m\u001b[0mjson\u001b[0m\u001b[1;33m(\u001b[0m\u001b[1;33m)\u001b[0m\u001b[1;33m\u001b[0m\u001b[1;33m\u001b[0m\u001b[0m\n\u001b[0;32m      3\u001b[0m \u001b[1;33m\u001b[0m\u001b[0m\n\u001b[1;32m----> 4\u001b[1;33m     \u001b[0mcurrent_inc_stmt_df\u001b[0m \u001b[1;33m=\u001b[0m \u001b[0mpd\u001b[0m\u001b[1;33m.\u001b[0m\u001b[0mDataFrame\u001b[0m\u001b[1;33m.\u001b[0m\u001b[0mfrom_dict\u001b[0m\u001b[1;33m(\u001b[0m\u001b[0minc_stmt\u001b[0m\u001b[1;33m[\u001b[0m\u001b[1;36m0\u001b[0m\u001b[1;33m]\u001b[0m\u001b[1;33m,\u001b[0m \u001b[0morient\u001b[0m\u001b[1;33m=\u001b[0m\u001b[1;34m'index'\u001b[0m\u001b[1;33m)\u001b[0m\u001b[1;33m\u001b[0m\u001b[1;33m\u001b[0m\u001b[0m\n\u001b[0m\u001b[0;32m      5\u001b[0m     \u001b[0mcurrent_inc_stmt_df\u001b[0m \u001b[1;33m=\u001b[0m \u001b[0mcurrent_inc_stmt_df\u001b[0m\u001b[1;33m[\u001b[0m\u001b[1;36m6\u001b[0m\u001b[1;33m:\u001b[0m\u001b[1;36m27\u001b[0m\u001b[1;33m]\u001b[0m\u001b[1;33m\u001b[0m\u001b[1;33m\u001b[0m\u001b[0m\n\u001b[0;32m      6\u001b[0m     \u001b[0mcurrent_inc_stmt_df\u001b[0m\u001b[1;33m.\u001b[0m\u001b[0mcolumns\u001b[0m \u001b[1;33m=\u001b[0m \u001b[1;33m[\u001b[0m\u001b[1;34m'CY'\u001b[0m\u001b[1;33m]\u001b[0m\u001b[1;33m\u001b[0m\u001b[1;33m\u001b[0m\u001b[0m\n",
      "\u001b[1;31mKeyError\u001b[0m: 0"
     ]
    }
   ],
   "source": [
    "def cost_of_debt():\r\n",
    "    complete_inc_stmt_df = inc_stmt_function()\r\n",
    "    complete_bal_sht_df = bal_sht_function() \r\n",
    "\r\n",
    "    debt_interest_rate = complete_inc_stmt_df['CY']['interestExpense'] / (complete_bal_sht_df['CY']['shortTermDebt'] + complete_bal_sht_df['CY']['longTermDebt'])\r\n",
    "    return debt_interest_rate\r\n",
    "\r\n",
    "cost_of_debt()\r\n"
   ]
  },
  {
   "cell_type": "code",
   "execution_count": null,
   "metadata": {},
   "outputs": [
    {
     "ename": "KeyError",
     "evalue": "'profile'",
     "output_type": "error",
     "traceback": [
      "\u001b[1;31m---------------------------------------------------------------------------\u001b[0m",
      "\u001b[1;31mKeyError\u001b[0m                                  Traceback (most recent call last)",
      "\u001b[1;32m<ipython-input-22-e728a4a533ac>\u001b[0m in \u001b[0;36m<module>\u001b[1;34m\u001b[0m\n\u001b[0;32m     31\u001b[0m   \u001b[1;32mreturn\u001b[0m \u001b[0mcost_of_equity\u001b[0m\u001b[1;33m\u001b[0m\u001b[1;33m\u001b[0m\u001b[0m\n\u001b[0;32m     32\u001b[0m \u001b[1;33m\u001b[0m\u001b[0m\n\u001b[1;32m---> 33\u001b[1;33m \u001b[0mcostofequity\u001b[0m\u001b[1;33m(\u001b[0m\u001b[0mcompany\u001b[0m\u001b[1;33m)\u001b[0m\u001b[1;33m\u001b[0m\u001b[1;33m\u001b[0m\u001b[0m\n\u001b[0m",
      "\u001b[1;32m<ipython-input-22-e728a4a533ac>\u001b[0m in \u001b[0;36mcostofequity\u001b[1;34m(company)\u001b[0m\n\u001b[0;32m     15\u001b[0m   \u001b[0mbeta\u001b[0m \u001b[1;33m=\u001b[0m \u001b[0mrequests\u001b[0m\u001b[1;33m.\u001b[0m\u001b[0mget\u001b[0m\u001b[1;33m(\u001b[0m\u001b[1;34mf'https://financialmodelingprep.com/api/v3/company/profile/{company}?apikey={fmp_key}'\u001b[0m\u001b[1;33m)\u001b[0m\u001b[1;33m\u001b[0m\u001b[1;33m\u001b[0m\u001b[0m\n\u001b[0;32m     16\u001b[0m   \u001b[0mbeta\u001b[0m \u001b[1;33m=\u001b[0m \u001b[0mbeta\u001b[0m\u001b[1;33m.\u001b[0m\u001b[0mjson\u001b[0m\u001b[1;33m(\u001b[0m\u001b[1;33m)\u001b[0m\u001b[1;33m\u001b[0m\u001b[1;33m\u001b[0m\u001b[0m\n\u001b[1;32m---> 17\u001b[1;33m   \u001b[0mbeta\u001b[0m \u001b[1;33m=\u001b[0m \u001b[0mfloat\u001b[0m\u001b[1;33m(\u001b[0m\u001b[0mbeta\u001b[0m\u001b[1;33m[\u001b[0m\u001b[1;34m'profile'\u001b[0m\u001b[1;33m]\u001b[0m\u001b[1;33m[\u001b[0m\u001b[1;34m'beta'\u001b[0m\u001b[1;33m]\u001b[0m\u001b[1;33m)\u001b[0m\u001b[1;33m\u001b[0m\u001b[1;33m\u001b[0m\u001b[0m\n\u001b[0m\u001b[0;32m     18\u001b[0m \u001b[1;33m\u001b[0m\u001b[0m\n\u001b[0;32m     19\u001b[0m \u001b[1;33m\u001b[0m\u001b[0m\n",
      "\u001b[1;31mKeyError\u001b[0m: 'profile'"
     ]
    }
   ],
   "source": []
  },
  {
   "cell_type": "code",
   "execution_count": null,
   "metadata": {},
   "outputs": [
    {
     "name": "stderr",
     "output_type": "stream",
     "text": [
      "C:\\Users\\andyl\\anaconda3\\envs\\alpacaenv\\lib\\site-packages\\ipykernel_launcher.py:24: SettingWithCopyWarning: \n",
      "A value is trying to be set on a copy of a slice from a DataFrame.\n",
      "Try using .loc[row_indexer,col_indexer] = value instead\n",
      "\n",
      "See the caveats in the documentation: https://pandas.pydata.org/pandas-docs/stable/user_guide/indexing.html#returning-a-view-versus-a-copy\n",
      "C:\\Users\\andyl\\anaconda3\\envs\\alpacaenv\\lib\\site-packages\\ipykernel_launcher.py:25: SettingWithCopyWarning: \n",
      "A value is trying to be set on a copy of a slice from a DataFrame.\n",
      "Try using .loc[row_indexer,col_indexer] = value instead\n",
      "\n",
      "See the caveats in the documentation: https://pandas.pydata.org/pandas-docs/stable/user_guide/indexing.html#returning-a-view-versus-a-copy\n",
      "C:\\Users\\andyl\\anaconda3\\envs\\alpacaenv\\lib\\site-packages\\ipykernel_launcher.py:26: SettingWithCopyWarning: \n",
      "A value is trying to be set on a copy of a slice from a DataFrame.\n",
      "Try using .loc[row_indexer,col_indexer] = value instead\n",
      "\n",
      "See the caveats in the documentation: https://pandas.pydata.org/pandas-docs/stable/user_guide/indexing.html#returning-a-view-versus-a-copy\n",
      "C:\\Users\\andyl\\anaconda3\\envs\\alpacaenv\\lib\\site-packages\\ipykernel_launcher.py:27: SettingWithCopyWarning: \n",
      "A value is trying to be set on a copy of a slice from a DataFrame.\n",
      "Try using .loc[row_indexer,col_indexer] = value instead\n",
      "\n",
      "See the caveats in the documentation: https://pandas.pydata.org/pandas-docs/stable/user_guide/indexing.html#returning-a-view-versus-a-copy\n",
      "C:\\Users\\andyl\\anaconda3\\envs\\alpacaenv\\lib\\site-packages\\ipykernel_launcher.py:28: SettingWithCopyWarning: \n",
      "A value is trying to be set on a copy of a slice from a DataFrame.\n",
      "Try using .loc[row_indexer,col_indexer] = value instead\n",
      "\n",
      "See the caveats in the documentation: https://pandas.pydata.org/pandas-docs/stable/user_guide/indexing.html#returning-a-view-versus-a-copy\n",
      "C:\\Users\\andyl\\anaconda3\\envs\\alpacaenv\\lib\\site-packages\\ipykernel_launcher.py:17: SettingWithCopyWarning: \n",
      "A value is trying to be set on a copy of a slice from a DataFrame.\n",
      "Try using .loc[row_indexer,col_indexer] = value instead\n",
      "\n",
      "See the caveats in the documentation: https://pandas.pydata.org/pandas-docs/stable/user_guide/indexing.html#returning-a-view-versus-a-copy\n",
      "C:\\Users\\andyl\\anaconda3\\envs\\alpacaenv\\lib\\site-packages\\ipykernel_launcher.py:18: SettingWithCopyWarning: \n",
      "A value is trying to be set on a copy of a slice from a DataFrame.\n",
      "Try using .loc[row_indexer,col_indexer] = value instead\n",
      "\n",
      "See the caveats in the documentation: https://pandas.pydata.org/pandas-docs/stable/user_guide/indexing.html#returning-a-view-versus-a-copy\n",
      "C:\\Users\\andyl\\anaconda3\\envs\\alpacaenv\\lib\\site-packages\\ipykernel_launcher.py:19: SettingWithCopyWarning: \n",
      "A value is trying to be set on a copy of a slice from a DataFrame.\n",
      "Try using .loc[row_indexer,col_indexer] = value instead\n",
      "\n",
      "See the caveats in the documentation: https://pandas.pydata.org/pandas-docs/stable/user_guide/indexing.html#returning-a-view-versus-a-copy\n",
      "C:\\Users\\andyl\\anaconda3\\envs\\alpacaenv\\lib\\site-packages\\ipykernel_launcher.py:20: SettingWithCopyWarning: \n",
      "A value is trying to be set on a copy of a slice from a DataFrame.\n",
      "Try using .loc[row_indexer,col_indexer] = value instead\n",
      "\n",
      "See the caveats in the documentation: https://pandas.pydata.org/pandas-docs/stable/user_guide/indexing.html#returning-a-view-versus-a-copy\n",
      "C:\\Users\\andyl\\anaconda3\\envs\\alpacaenv\\lib\\site-packages\\ipykernel_launcher.py:21: SettingWithCopyWarning: \n",
      "A value is trying to be set on a copy of a slice from a DataFrame.\n",
      "Try using .loc[row_indexer,col_indexer] = value instead\n",
      "\n",
      "See the caveats in the documentation: https://pandas.pydata.org/pandas-docs/stable/user_guide/indexing.html#returning-a-view-versus-a-copy\n"
     ]
    },
    {
     "data": {
      "text/html": "<div>\n<style scoped>\n    .dataframe tbody tr th:only-of-type {\n        vertical-align: middle;\n    }\n\n    .dataframe tbody tr th {\n        vertical-align: top;\n    }\n\n    .dataframe thead th {\n        text-align: right;\n    }\n</style>\n<table border=\"1\" class=\"dataframe\">\n  <thead>\n    <tr style=\"text-align: right;\">\n      <th></th>\n      <th>Liquidity Ratios</th>\n      <th>Solvency Ratios</th>\n      <th>Profitability Ratios</th>\n      <th>Debt Coverage Ratios</th>\n    </tr>\n  </thead>\n  <tbody>\n    <tr>\n      <th>Current Ratio</th>\n      <td>2.54</td>\n      <td>nan</td>\n      <td>nan</td>\n      <td>nan</td>\n    </tr>\n    <tr>\n      <th>Quick Ratio</th>\n      <td>1.80</td>\n      <td>nan</td>\n      <td>nan</td>\n      <td>nan</td>\n    </tr>\n    <tr>\n      <th>Cash Ratio</th>\n      <td>0.95</td>\n      <td>nan</td>\n      <td>nan</td>\n      <td>nan</td>\n    </tr>\n    <tr>\n      <th>Debt-Equity</th>\n      <td>nan</td>\n      <td>0.54</td>\n      <td>nan</td>\n      <td>nan</td>\n    </tr>\n    <tr>\n      <th>Debt-Capital</th>\n      <td>nan</td>\n      <td>0.35</td>\n      <td>nan</td>\n      <td>nan</td>\n    </tr>\n    <tr>\n      <th>Profit Margin</th>\n      <td>nan</td>\n      <td>nan</td>\n      <td>0.26</td>\n      <td>nan</td>\n    </tr>\n    <tr>\n      <th>Operating Margin</th>\n      <td>nan</td>\n      <td>nan</td>\n      <td>0.14</td>\n      <td>nan</td>\n    </tr>\n    <tr>\n      <th>Gross Margin</th>\n      <td>nan</td>\n      <td>nan</td>\n      <td>0.45</td>\n      <td>nan</td>\n    </tr>\n    <tr>\n      <th>ROA</th>\n      <td>nan</td>\n      <td>nan</td>\n      <td>0.28</td>\n      <td>nan</td>\n    </tr>\n    <tr>\n      <th>ROE</th>\n      <td>nan</td>\n      <td>nan</td>\n      <td>0.43</td>\n      <td>nan</td>\n    </tr>\n    <tr>\n      <th>Asset Coverage</th>\n      <td>nan</td>\n      <td>nan</td>\n      <td>nan</td>\n      <td>2.71</td>\n    </tr>\n    <tr>\n      <th>Interest Coverage</th>\n      <td>nan</td>\n      <td>nan</td>\n      <td>nan</td>\n      <td>27.13</td>\n    </tr>\n    <tr>\n      <th>Debt Service Coverage</th>\n      <td>nan</td>\n      <td>nan</td>\n      <td>nan</td>\n      <td>0.41</td>\n    </tr>\n  </tbody>\n</table>\n</div>",
      "text/plain": "                       Liquidity Ratios  Solvency Ratios  \\\nCurrent Ratio                      2.54              nan   \nQuick Ratio                        1.80              nan   \nCash Ratio                         0.95              nan   \nDebt-Equity                         nan             0.54   \nDebt-Capital                        nan             0.35   \nProfit Margin                       nan              nan   \nOperating Margin                    nan              nan   \nGross Margin                        nan              nan   \nROA                                 nan              nan   \nROE                                 nan              nan   \nAsset Coverage                      nan              nan   \nInterest Coverage                   nan              nan   \nDebt Service Coverage               nan              nan   \n\n                       Profitability Ratios  Debt Coverage Ratios  \nCurrent Ratio                           nan                   nan  \nQuick Ratio                             nan                   nan  \nCash Ratio                              nan                   nan  \nDebt-Equity                             nan                   nan  \nDebt-Capital                            nan                   nan  \nProfit Margin                          0.26                   nan  \nOperating Margin                       0.14                   nan  \nGross Margin                           0.45                   nan  \nROA                                    0.28                   nan  \nROE                                    0.43                   nan  \nAsset Coverage                          nan                  2.71  \nInterest Coverage                       nan                 27.13  \nDebt Service Coverage                   nan                  0.41  "
     },
     "execution_count": 11,
     "metadata": {},
     "output_type": "execute_result"
    }
   ],
   "source": [
    "def fundamental_analysis():\r\n",
    "    complete_inc_stmt_df = inc_stmt_function()\r\n",
    "    complete_bal_sht_df = bal_sht_function() \r\n",
    "    \r\n",
    "    financial_analysis = {}\r\n",
    "\r\n",
    "\r\n",
    "    financial_analysis['Liquidity Ratios'] = {}\r\n",
    "\r\n",
    "\r\n",
    "    financial_analysis['Liquidity Ratios']['Current Ratio'] = complete_bal_sht_df['CY']['totalCurrentAssets'] / complete_bal_sht_df['CY']['totalCurrentLiabilities']\r\n",
    "\r\n",
    "    financial_analysis['Liquidity Ratios']['Quick Ratio'] = (complete_bal_sht_df['CY']['totalCurrentAssets'] - complete_bal_sht_df['CY']['inventory'] - complete_bal_sht_df['CY']['otherCurrentAssets'])/ complete_bal_sht_df['CY']['totalCurrentLiabilities']\r\n",
    "\r\n",
    "    financial_analysis['Liquidity Ratios']['Cash Ratio'] = (complete_bal_sht_df['CY']['totalCurrentAssets'] - complete_bal_sht_df['CY']['inventory'] - complete_bal_sht_df['CY']['netReceivables'] - complete_bal_sht_df['CY']['otherCurrentAssets']) / complete_bal_sht_df['CY']['totalCurrentLiabilities']\r\n",
    "\r\n",
    "\r\n",
    "    financial_analysis['Solvency Ratios'] = {}\r\n",
    "\r\n",
    "\r\n",
    "    financial_analysis['Solvency Ratios']['Debt-Equity'] = complete_bal_sht_df['CY']['totalLiabilities'] / complete_bal_sht_df['CY']['totalStockholdersEquity']\r\n",
    "\r\n",
    "    financial_analysis['Solvency Ratios']['Debt-Capital'] = complete_bal_sht_df['CY']['totalLiabilities'] / complete_bal_sht_df['CY']['totalLiabilitiesAndStockholdersEquity']\r\n",
    "\r\n",
    "\r\n",
    "    financial_analysis['Profitability Ratios'] = {}\r\n",
    "\r\n",
    "\r\n",
    "    financial_analysis['Profitability Ratios']['Profit Margin'] = complete_inc_stmt_df['CY']['netIncome'] / complete_inc_stmt_df['CY']['revenue']\r\n",
    "\r\n",
    "    financial_analysis['Profitability Ratios']['Operating Margin'] = complete_inc_stmt_df['CY']['operatingIncomeRatio']\r\n",
    "\r\n",
    "    financial_analysis['Profitability Ratios']['Gross Margin'] = complete_inc_stmt_df['CY']['grossProfitRatio']\r\n",
    "\r\n",
    "    financial_analysis['Profitability Ratios']['ROA'] = complete_inc_stmt_df['CY']['netIncome'] / complete_bal_sht_df['CY']['totalAssets']\r\n",
    "\r\n",
    "    financial_analysis['Profitability Ratios']['ROE'] = complete_inc_stmt_df['CY']['netIncome'] / complete_bal_sht_df['CY']['totalStockholdersEquity']\r\n",
    "\r\n",
    "\r\n",
    "    financial_analysis['Debt Coverage Ratios'] = {}\r\n",
    "\r\n",
    "\r\n",
    "    financial_analysis['Debt Coverage Ratios']['Interest Coverage'] = complete_inc_stmt_df['CY']['incomeBeforeTax'] / complete_inc_stmt_df['CY']['interestExpense']\r\n",
    "\r\n",
    "    financial_analysis['Debt Coverage Ratios']['Debt Service Coverage'] =complete_inc_stmt_df['CY']['incomeBeforeTax'] / complete_bal_sht_df['CY']['totalLiabilities']\r\n",
    "\r\n",
    "    financial_analysis['Debt Coverage Ratios']['Asset Coverage'] =  (complete_bal_sht_df['CY']['totalAssets'] - complete_bal_sht_df['CY']['totalCurrentLiabilities'])/ complete_bal_sht_df['CY']['totalCurrentLiabilities']\r\n",
    "\r\n",
    "    financial_analysis_df = pd.DataFrame.from_dict(financial_analysis, orient='columns')\r\n",
    "    pd.options.display.float_format = '{:,.2f}'.format\r\n",
    "    financial_analysis_df = financial_analysis_df.reindex(['Current Ratio', 'Quick Ratio', 'Cash Ratio','Debt-Equity', 'Debt-Capital', 'Profit Margin', 'Operating Margin', 'Gross Margin', 'ROA', 'ROE', 'Asset Coverage', 'Interest Coverage', 'Debt Service Coverage'])\r\n",
    "\r\n",
    "    \r\n",
    "\r\n",
    "    return financial_analysis_df\r\n",
    "\r\n",
    "fundamental_analysis()"
   ]
  },
  {
   "cell_type": "code",
   "execution_count": null,
   "metadata": {},
   "outputs": [
    {
     "name": "stderr",
     "output_type": "stream",
     "text": [
      "C:\\Users\\andyl\\anaconda3\\envs\\alpacaenv\\lib\\site-packages\\ipykernel_launcher.py:24: SettingWithCopyWarning: \n",
      "A value is trying to be set on a copy of a slice from a DataFrame.\n",
      "Try using .loc[row_indexer,col_indexer] = value instead\n",
      "\n",
      "See the caveats in the documentation: https://pandas.pydata.org/pandas-docs/stable/user_guide/indexing.html#returning-a-view-versus-a-copy\n",
      "C:\\Users\\andyl\\anaconda3\\envs\\alpacaenv\\lib\\site-packages\\ipykernel_launcher.py:25: SettingWithCopyWarning: \n",
      "A value is trying to be set on a copy of a slice from a DataFrame.\n",
      "Try using .loc[row_indexer,col_indexer] = value instead\n",
      "\n",
      "See the caveats in the documentation: https://pandas.pydata.org/pandas-docs/stable/user_guide/indexing.html#returning-a-view-versus-a-copy\n",
      "C:\\Users\\andyl\\anaconda3\\envs\\alpacaenv\\lib\\site-packages\\ipykernel_launcher.py:26: SettingWithCopyWarning: \n",
      "A value is trying to be set on a copy of a slice from a DataFrame.\n",
      "Try using .loc[row_indexer,col_indexer] = value instead\n",
      "\n",
      "See the caveats in the documentation: https://pandas.pydata.org/pandas-docs/stable/user_guide/indexing.html#returning-a-view-versus-a-copy\n",
      "C:\\Users\\andyl\\anaconda3\\envs\\alpacaenv\\lib\\site-packages\\ipykernel_launcher.py:27: SettingWithCopyWarning: \n",
      "A value is trying to be set on a copy of a slice from a DataFrame.\n",
      "Try using .loc[row_indexer,col_indexer] = value instead\n",
      "\n",
      "See the caveats in the documentation: https://pandas.pydata.org/pandas-docs/stable/user_guide/indexing.html#returning-a-view-versus-a-copy\n",
      "C:\\Users\\andyl\\anaconda3\\envs\\alpacaenv\\lib\\site-packages\\ipykernel_launcher.py:28: SettingWithCopyWarning: \n",
      "A value is trying to be set on a copy of a slice from a DataFrame.\n",
      "Try using .loc[row_indexer,col_indexer] = value instead\n",
      "\n",
      "See the caveats in the documentation: https://pandas.pydata.org/pandas-docs/stable/user_guide/indexing.html#returning-a-view-versus-a-copy\n",
      "C:\\Users\\andyl\\anaconda3\\envs\\alpacaenv\\lib\\site-packages\\ipykernel_launcher.py:17: SettingWithCopyWarning: \n",
      "A value is trying to be set on a copy of a slice from a DataFrame.\n",
      "Try using .loc[row_indexer,col_indexer] = value instead\n",
      "\n",
      "See the caveats in the documentation: https://pandas.pydata.org/pandas-docs/stable/user_guide/indexing.html#returning-a-view-versus-a-copy\n",
      "C:\\Users\\andyl\\anaconda3\\envs\\alpacaenv\\lib\\site-packages\\ipykernel_launcher.py:18: SettingWithCopyWarning: \n",
      "A value is trying to be set on a copy of a slice from a DataFrame.\n",
      "Try using .loc[row_indexer,col_indexer] = value instead\n",
      "\n",
      "See the caveats in the documentation: https://pandas.pydata.org/pandas-docs/stable/user_guide/indexing.html#returning-a-view-versus-a-copy\n",
      "C:\\Users\\andyl\\anaconda3\\envs\\alpacaenv\\lib\\site-packages\\ipykernel_launcher.py:19: SettingWithCopyWarning: \n",
      "A value is trying to be set on a copy of a slice from a DataFrame.\n",
      "Try using .loc[row_indexer,col_indexer] = value instead\n",
      "\n",
      "See the caveats in the documentation: https://pandas.pydata.org/pandas-docs/stable/user_guide/indexing.html#returning-a-view-versus-a-copy\n",
      "C:\\Users\\andyl\\anaconda3\\envs\\alpacaenv\\lib\\site-packages\\ipykernel_launcher.py:20: SettingWithCopyWarning: \n",
      "A value is trying to be set on a copy of a slice from a DataFrame.\n",
      "Try using .loc[row_indexer,col_indexer] = value instead\n",
      "\n",
      "See the caveats in the documentation: https://pandas.pydata.org/pandas-docs/stable/user_guide/indexing.html#returning-a-view-versus-a-copy\n",
      "C:\\Users\\andyl\\anaconda3\\envs\\alpacaenv\\lib\\site-packages\\ipykernel_launcher.py:21: SettingWithCopyWarning: \n",
      "A value is trying to be set on a copy of a slice from a DataFrame.\n",
      "Try using .loc[row_indexer,col_indexer] = value instead\n",
      "\n",
      "See the caveats in the documentation: https://pandas.pydata.org/pandas-docs/stable/user_guide/indexing.html#returning-a-view-versus-a-copy\n"
     ]
    },
    {
     "data": {
      "text/plain": "Current Ratio   2.54\nQuick Ratio     1.80\nCash Ratio      0.95\nName: Liquidity Ratios, dtype: float64"
     },
     "execution_count": 12,
     "metadata": {},
     "output_type": "execute_result"
    }
   ],
   "source": [
    "def liquidity_analysis():\r\n",
    "    complete_inc_stmt_df = inc_stmt_function()\r\n",
    "    complete_bal_sht_df = bal_sht_function() \r\n",
    "    financial_analysis_df = fundamental_analysis()\r\n",
    "\r\n",
    "    liquidity_ratio = financial_analysis_df['Liquidity Ratios'].dropna()\r\n",
    "    \r\n",
    "    return liquidity_ratio\r\n",
    "\r\n",
    "liquidity_analysis()\r\n"
   ]
  },
  {
   "cell_type": "code",
   "execution_count": null,
   "metadata": {},
   "outputs": [
    {
     "name": "stderr",
     "output_type": "stream",
     "text": [
      "C:\\Users\\andyl\\anaconda3\\envs\\alpacaenv\\lib\\site-packages\\ipykernel_launcher.py:24: SettingWithCopyWarning: \n",
      "A value is trying to be set on a copy of a slice from a DataFrame.\n",
      "Try using .loc[row_indexer,col_indexer] = value instead\n",
      "\n",
      "See the caveats in the documentation: https://pandas.pydata.org/pandas-docs/stable/user_guide/indexing.html#returning-a-view-versus-a-copy\n",
      "C:\\Users\\andyl\\anaconda3\\envs\\alpacaenv\\lib\\site-packages\\ipykernel_launcher.py:25: SettingWithCopyWarning: \n",
      "A value is trying to be set on a copy of a slice from a DataFrame.\n",
      "Try using .loc[row_indexer,col_indexer] = value instead\n",
      "\n",
      "See the caveats in the documentation: https://pandas.pydata.org/pandas-docs/stable/user_guide/indexing.html#returning-a-view-versus-a-copy\n",
      "C:\\Users\\andyl\\anaconda3\\envs\\alpacaenv\\lib\\site-packages\\ipykernel_launcher.py:26: SettingWithCopyWarning: \n",
      "A value is trying to be set on a copy of a slice from a DataFrame.\n",
      "Try using .loc[row_indexer,col_indexer] = value instead\n",
      "\n",
      "See the caveats in the documentation: https://pandas.pydata.org/pandas-docs/stable/user_guide/indexing.html#returning-a-view-versus-a-copy\n",
      "C:\\Users\\andyl\\anaconda3\\envs\\alpacaenv\\lib\\site-packages\\ipykernel_launcher.py:27: SettingWithCopyWarning: \n",
      "A value is trying to be set on a copy of a slice from a DataFrame.\n",
      "Try using .loc[row_indexer,col_indexer] = value instead\n",
      "\n",
      "See the caveats in the documentation: https://pandas.pydata.org/pandas-docs/stable/user_guide/indexing.html#returning-a-view-versus-a-copy\n",
      "C:\\Users\\andyl\\anaconda3\\envs\\alpacaenv\\lib\\site-packages\\ipykernel_launcher.py:28: SettingWithCopyWarning: \n",
      "A value is trying to be set on a copy of a slice from a DataFrame.\n",
      "Try using .loc[row_indexer,col_indexer] = value instead\n",
      "\n",
      "See the caveats in the documentation: https://pandas.pydata.org/pandas-docs/stable/user_guide/indexing.html#returning-a-view-versus-a-copy\n",
      "C:\\Users\\andyl\\anaconda3\\envs\\alpacaenv\\lib\\site-packages\\ipykernel_launcher.py:17: SettingWithCopyWarning: \n",
      "A value is trying to be set on a copy of a slice from a DataFrame.\n",
      "Try using .loc[row_indexer,col_indexer] = value instead\n",
      "\n",
      "See the caveats in the documentation: https://pandas.pydata.org/pandas-docs/stable/user_guide/indexing.html#returning-a-view-versus-a-copy\n",
      "C:\\Users\\andyl\\anaconda3\\envs\\alpacaenv\\lib\\site-packages\\ipykernel_launcher.py:18: SettingWithCopyWarning: \n",
      "A value is trying to be set on a copy of a slice from a DataFrame.\n",
      "Try using .loc[row_indexer,col_indexer] = value instead\n",
      "\n",
      "See the caveats in the documentation: https://pandas.pydata.org/pandas-docs/stable/user_guide/indexing.html#returning-a-view-versus-a-copy\n",
      "C:\\Users\\andyl\\anaconda3\\envs\\alpacaenv\\lib\\site-packages\\ipykernel_launcher.py:19: SettingWithCopyWarning: \n",
      "A value is trying to be set on a copy of a slice from a DataFrame.\n",
      "Try using .loc[row_indexer,col_indexer] = value instead\n",
      "\n",
      "See the caveats in the documentation: https://pandas.pydata.org/pandas-docs/stable/user_guide/indexing.html#returning-a-view-versus-a-copy\n",
      "C:\\Users\\andyl\\anaconda3\\envs\\alpacaenv\\lib\\site-packages\\ipykernel_launcher.py:20: SettingWithCopyWarning: \n",
      "A value is trying to be set on a copy of a slice from a DataFrame.\n",
      "Try using .loc[row_indexer,col_indexer] = value instead\n",
      "\n",
      "See the caveats in the documentation: https://pandas.pydata.org/pandas-docs/stable/user_guide/indexing.html#returning-a-view-versus-a-copy\n",
      "C:\\Users\\andyl\\anaconda3\\envs\\alpacaenv\\lib\\site-packages\\ipykernel_launcher.py:21: SettingWithCopyWarning: \n",
      "A value is trying to be set on a copy of a slice from a DataFrame.\n",
      "Try using .loc[row_indexer,col_indexer] = value instead\n",
      "\n",
      "See the caveats in the documentation: https://pandas.pydata.org/pandas-docs/stable/user_guide/indexing.html#returning-a-view-versus-a-copy\n"
     ]
    },
    {
     "ename": "KeyError",
     "evalue": "0",
     "output_type": "error",
     "traceback": [
      "\u001b[1;31m---------------------------------------------------------------------------\u001b[0m",
      "\u001b[1;31mKeyError\u001b[0m                                  Traceback (most recent call last)",
      "\u001b[1;32m<ipython-input-13-cf9dae2a40e7>\u001b[0m in \u001b[0;36m<module>\u001b[1;34m\u001b[0m\n\u001b[0;32m      8\u001b[0m     \u001b[1;32mreturn\u001b[0m \u001b[0msolvency_ratio\u001b[0m\u001b[1;33m\u001b[0m\u001b[1;33m\u001b[0m\u001b[0m\n\u001b[0;32m      9\u001b[0m \u001b[1;33m\u001b[0m\u001b[0m\n\u001b[1;32m---> 10\u001b[1;33m \u001b[0msolvency_analysis\u001b[0m\u001b[1;33m(\u001b[0m\u001b[1;33m)\u001b[0m\u001b[1;33m\u001b[0m\u001b[1;33m\u001b[0m\u001b[0m\n\u001b[0m",
      "\u001b[1;32m<ipython-input-13-cf9dae2a40e7>\u001b[0m in \u001b[0;36msolvency_analysis\u001b[1;34m()\u001b[0m\n\u001b[0;32m      2\u001b[0m     \u001b[0mcomplete_inc_stmt_df\u001b[0m \u001b[1;33m=\u001b[0m \u001b[0minc_stmt_function\u001b[0m\u001b[1;33m(\u001b[0m\u001b[1;33m)\u001b[0m\u001b[1;33m\u001b[0m\u001b[1;33m\u001b[0m\u001b[0m\n\u001b[0;32m      3\u001b[0m     \u001b[0mcomplete_bal_sht_df\u001b[0m \u001b[1;33m=\u001b[0m \u001b[0mbal_sht_function\u001b[0m\u001b[1;33m(\u001b[0m\u001b[1;33m)\u001b[0m\u001b[1;33m\u001b[0m\u001b[1;33m\u001b[0m\u001b[0m\n\u001b[1;32m----> 4\u001b[1;33m     \u001b[0mfinancial_analysis_df\u001b[0m \u001b[1;33m=\u001b[0m \u001b[0mfundamental_analysis\u001b[0m\u001b[1;33m(\u001b[0m\u001b[1;33m)\u001b[0m\u001b[1;33m\u001b[0m\u001b[1;33m\u001b[0m\u001b[0m\n\u001b[0m\u001b[0;32m      5\u001b[0m \u001b[1;33m\u001b[0m\u001b[0m\n\u001b[0;32m      6\u001b[0m     \u001b[0msolvency_ratio\u001b[0m \u001b[1;33m=\u001b[0m \u001b[0mfinancial_analysis_df\u001b[0m\u001b[1;33m[\u001b[0m\u001b[1;34m'Solvency Ratios'\u001b[0m\u001b[1;33m]\u001b[0m\u001b[1;33m.\u001b[0m\u001b[0mdropna\u001b[0m\u001b[1;33m(\u001b[0m\u001b[1;33m)\u001b[0m\u001b[1;33m\u001b[0m\u001b[1;33m\u001b[0m\u001b[0m\n",
      "\u001b[1;32m<ipython-input-11-e783a364f304>\u001b[0m in \u001b[0;36mfundamental_analysis\u001b[1;34m()\u001b[0m\n\u001b[0;32m      1\u001b[0m \u001b[1;32mdef\u001b[0m \u001b[0mfundamental_analysis\u001b[0m\u001b[1;33m(\u001b[0m\u001b[1;33m)\u001b[0m\u001b[1;33m:\u001b[0m\u001b[1;33m\u001b[0m\u001b[1;33m\u001b[0m\u001b[0m\n\u001b[0;32m      2\u001b[0m     \u001b[0mcomplete_inc_stmt_df\u001b[0m \u001b[1;33m=\u001b[0m \u001b[0minc_stmt_function\u001b[0m\u001b[1;33m(\u001b[0m\u001b[1;33m)\u001b[0m\u001b[1;33m\u001b[0m\u001b[1;33m\u001b[0m\u001b[0m\n\u001b[1;32m----> 3\u001b[1;33m     \u001b[0mcomplete_bal_sht_df\u001b[0m \u001b[1;33m=\u001b[0m \u001b[0mbal_sht_function\u001b[0m\u001b[1;33m(\u001b[0m\u001b[1;33m)\u001b[0m\u001b[1;33m\u001b[0m\u001b[1;33m\u001b[0m\u001b[0m\n\u001b[0m\u001b[0;32m      4\u001b[0m \u001b[1;33m\u001b[0m\u001b[0m\n\u001b[0;32m      5\u001b[0m     \u001b[0mfinancial_analysis\u001b[0m \u001b[1;33m=\u001b[0m \u001b[1;33m{\u001b[0m\u001b[1;33m}\u001b[0m\u001b[1;33m\u001b[0m\u001b[1;33m\u001b[0m\u001b[0m\n",
      "\u001b[1;32m<ipython-input-4-bf3510ba5961>\u001b[0m in \u001b[0;36mbal_sht_function\u001b[1;34m()\u001b[0m\n\u001b[0;32m      4\u001b[0m     \u001b[0mbal_sht\u001b[0m \u001b[1;33m=\u001b[0m \u001b[0mrequests\u001b[0m\u001b[1;33m.\u001b[0m\u001b[0mget\u001b[0m\u001b[1;33m(\u001b[0m\u001b[1;34mf'https://financialmodelingprep.com/api/v3/balance-sheet-statement/{company}?apikey={fmp_key}'\u001b[0m\u001b[1;33m)\u001b[0m\u001b[1;33m.\u001b[0m\u001b[0mjson\u001b[0m\u001b[1;33m(\u001b[0m\u001b[1;33m)\u001b[0m\u001b[1;33m\u001b[0m\u001b[1;33m\u001b[0m\u001b[0m\n\u001b[0;32m      5\u001b[0m \u001b[1;33m\u001b[0m\u001b[0m\n\u001b[1;32m----> 6\u001b[1;33m     \u001b[0mcurrent_bal_sht_df\u001b[0m \u001b[1;33m=\u001b[0m \u001b[0mpd\u001b[0m\u001b[1;33m.\u001b[0m\u001b[0mDataFrame\u001b[0m\u001b[1;33m.\u001b[0m\u001b[0mfrom_dict\u001b[0m\u001b[1;33m(\u001b[0m\u001b[0mbal_sht\u001b[0m\u001b[1;33m[\u001b[0m\u001b[1;36m0\u001b[0m\u001b[1;33m]\u001b[0m\u001b[1;33m,\u001b[0m\u001b[0morient\u001b[0m\u001b[1;33m=\u001b[0m\u001b[1;34m'index'\u001b[0m\u001b[1;33m)\u001b[0m\u001b[1;33m\u001b[0m\u001b[1;33m\u001b[0m\u001b[0m\n\u001b[0m\u001b[0;32m      7\u001b[0m     \u001b[0mcurrent_bal_sht_df\u001b[0m \u001b[1;33m=\u001b[0m \u001b[0mcurrent_bal_sht_df\u001b[0m\u001b[1;33m[\u001b[0m\u001b[1;36m6\u001b[0m\u001b[1;33m:\u001b[0m\u001b[1;33m-\u001b[0m\u001b[1;36m2\u001b[0m\u001b[1;33m]\u001b[0m\u001b[1;33m\u001b[0m\u001b[1;33m\u001b[0m\u001b[0m\n\u001b[0;32m      8\u001b[0m     \u001b[0mcurrent_bal_sht_df\u001b[0m\u001b[1;33m.\u001b[0m\u001b[0mcolumns\u001b[0m \u001b[1;33m=\u001b[0m \u001b[1;33m[\u001b[0m\u001b[1;34m'CY'\u001b[0m\u001b[1;33m]\u001b[0m\u001b[1;33m\u001b[0m\u001b[1;33m\u001b[0m\u001b[0m\n",
      "\u001b[1;31mKeyError\u001b[0m: 0"
     ]
    }
   ],
   "source": [
    "def solvency_analysis():\r\n",
    "    complete_inc_stmt_df = inc_stmt_function()\r\n",
    "    complete_bal_sht_df = bal_sht_function() \r\n",
    "    financial_analysis_df = fundamental_analysis()\r\n",
    "    \r\n",
    "    solvency_ratio = financial_analysis_df['Solvency Ratios'].dropna()\r\n",
    "\r\n",
    "    return solvency_ratio\r\n",
    "\r\n",
    "solvency_analysis()\r\n"
   ]
  },
  {
   "cell_type": "code",
   "execution_count": null,
   "metadata": {},
   "outputs": [
    {
     "name": "stderr",
     "output_type": "stream",
     "text": [
      "C:\\Users\\andyl\\anaconda3\\envs\\alpacaenv\\lib\\site-packages\\ipykernel_launcher.py:24: SettingWithCopyWarning: \n",
      "A value is trying to be set on a copy of a slice from a DataFrame.\n",
      "Try using .loc[row_indexer,col_indexer] = value instead\n",
      "\n",
      "See the caveats in the documentation: https://pandas.pydata.org/pandas-docs/stable/user_guide/indexing.html#returning-a-view-versus-a-copy\n",
      "C:\\Users\\andyl\\anaconda3\\envs\\alpacaenv\\lib\\site-packages\\ipykernel_launcher.py:25: SettingWithCopyWarning: \n",
      "A value is trying to be set on a copy of a slice from a DataFrame.\n",
      "Try using .loc[row_indexer,col_indexer] = value instead\n",
      "\n",
      "See the caveats in the documentation: https://pandas.pydata.org/pandas-docs/stable/user_guide/indexing.html#returning-a-view-versus-a-copy\n",
      "C:\\Users\\andyl\\anaconda3\\envs\\alpacaenv\\lib\\site-packages\\ipykernel_launcher.py:26: SettingWithCopyWarning: \n",
      "A value is trying to be set on a copy of a slice from a DataFrame.\n",
      "Try using .loc[row_indexer,col_indexer] = value instead\n",
      "\n",
      "See the caveats in the documentation: https://pandas.pydata.org/pandas-docs/stable/user_guide/indexing.html#returning-a-view-versus-a-copy\n",
      "C:\\Users\\andyl\\anaconda3\\envs\\alpacaenv\\lib\\site-packages\\ipykernel_launcher.py:27: SettingWithCopyWarning: \n",
      "A value is trying to be set on a copy of a slice from a DataFrame.\n",
      "Try using .loc[row_indexer,col_indexer] = value instead\n",
      "\n",
      "See the caveats in the documentation: https://pandas.pydata.org/pandas-docs/stable/user_guide/indexing.html#returning-a-view-versus-a-copy\n",
      "C:\\Users\\andyl\\anaconda3\\envs\\alpacaenv\\lib\\site-packages\\ipykernel_launcher.py:28: SettingWithCopyWarning: \n",
      "A value is trying to be set on a copy of a slice from a DataFrame.\n",
      "Try using .loc[row_indexer,col_indexer] = value instead\n",
      "\n",
      "See the caveats in the documentation: https://pandas.pydata.org/pandas-docs/stable/user_guide/indexing.html#returning-a-view-versus-a-copy\n",
      "C:\\Users\\andyl\\anaconda3\\envs\\alpacaenv\\lib\\site-packages\\ipykernel_launcher.py:17: SettingWithCopyWarning: \n",
      "A value is trying to be set on a copy of a slice from a DataFrame.\n",
      "Try using .loc[row_indexer,col_indexer] = value instead\n",
      "\n",
      "See the caveats in the documentation: https://pandas.pydata.org/pandas-docs/stable/user_guide/indexing.html#returning-a-view-versus-a-copy\n",
      "C:\\Users\\andyl\\anaconda3\\envs\\alpacaenv\\lib\\site-packages\\ipykernel_launcher.py:18: SettingWithCopyWarning: \n",
      "A value is trying to be set on a copy of a slice from a DataFrame.\n",
      "Try using .loc[row_indexer,col_indexer] = value instead\n",
      "\n",
      "See the caveats in the documentation: https://pandas.pydata.org/pandas-docs/stable/user_guide/indexing.html#returning-a-view-versus-a-copy\n",
      "C:\\Users\\andyl\\anaconda3\\envs\\alpacaenv\\lib\\site-packages\\ipykernel_launcher.py:19: SettingWithCopyWarning: \n",
      "A value is trying to be set on a copy of a slice from a DataFrame.\n",
      "Try using .loc[row_indexer,col_indexer] = value instead\n",
      "\n",
      "See the caveats in the documentation: https://pandas.pydata.org/pandas-docs/stable/user_guide/indexing.html#returning-a-view-versus-a-copy\n",
      "C:\\Users\\andyl\\anaconda3\\envs\\alpacaenv\\lib\\site-packages\\ipykernel_launcher.py:20: SettingWithCopyWarning: \n",
      "A value is trying to be set on a copy of a slice from a DataFrame.\n",
      "Try using .loc[row_indexer,col_indexer] = value instead\n",
      "\n",
      "See the caveats in the documentation: https://pandas.pydata.org/pandas-docs/stable/user_guide/indexing.html#returning-a-view-versus-a-copy\n",
      "C:\\Users\\andyl\\anaconda3\\envs\\alpacaenv\\lib\\site-packages\\ipykernel_launcher.py:21: SettingWithCopyWarning: \n",
      "A value is trying to be set on a copy of a slice from a DataFrame.\n",
      "Try using .loc[row_indexer,col_indexer] = value instead\n",
      "\n",
      "See the caveats in the documentation: https://pandas.pydata.org/pandas-docs/stable/user_guide/indexing.html#returning-a-view-versus-a-copy\n"
     ]
    },
    {
     "data": {
      "text/plain": "Profit Margin      0.26\nOperating Margin   0.14\nGross Margin       0.45\nROA                0.28\nROE                0.43\nName: Profitability Ratios, dtype: float64"
     },
     "execution_count": 14,
     "metadata": {},
     "output_type": "execute_result"
    }
   ],
   "source": [
    "def profitability_analysis():\r\n",
    "    complete_inc_stmt_df = inc_stmt_function()\r\n",
    "    complete_bal_sht_df = bal_sht_function() \r\n",
    "    financial_analysis_df = fundamental_analysis()\r\n",
    "\r\n",
    "    profitability_ratio = financial_analysis_df['Profitability Ratios'].dropna()\r\n",
    "\r\n",
    "    return profitability_ratio\r\n",
    "\r\n",
    "profitability_analysis()"
   ]
  },
  {
   "cell_type": "code",
   "execution_count": null,
   "metadata": {},
   "outputs": [
    {
     "name": "stderr",
     "output_type": "stream",
     "text": [
      "C:\\Users\\andyl\\anaconda3\\envs\\alpacaenv\\lib\\site-packages\\ipykernel_launcher.py:24: SettingWithCopyWarning: \n",
      "A value is trying to be set on a copy of a slice from a DataFrame.\n",
      "Try using .loc[row_indexer,col_indexer] = value instead\n",
      "\n",
      "See the caveats in the documentation: https://pandas.pydata.org/pandas-docs/stable/user_guide/indexing.html#returning-a-view-versus-a-copy\n",
      "C:\\Users\\andyl\\anaconda3\\envs\\alpacaenv\\lib\\site-packages\\ipykernel_launcher.py:25: SettingWithCopyWarning: \n",
      "A value is trying to be set on a copy of a slice from a DataFrame.\n",
      "Try using .loc[row_indexer,col_indexer] = value instead\n",
      "\n",
      "See the caveats in the documentation: https://pandas.pydata.org/pandas-docs/stable/user_guide/indexing.html#returning-a-view-versus-a-copy\n",
      "C:\\Users\\andyl\\anaconda3\\envs\\alpacaenv\\lib\\site-packages\\ipykernel_launcher.py:26: SettingWithCopyWarning: \n",
      "A value is trying to be set on a copy of a slice from a DataFrame.\n",
      "Try using .loc[row_indexer,col_indexer] = value instead\n",
      "\n",
      "See the caveats in the documentation: https://pandas.pydata.org/pandas-docs/stable/user_guide/indexing.html#returning-a-view-versus-a-copy\n",
      "C:\\Users\\andyl\\anaconda3\\envs\\alpacaenv\\lib\\site-packages\\ipykernel_launcher.py:27: SettingWithCopyWarning: \n",
      "A value is trying to be set on a copy of a slice from a DataFrame.\n",
      "Try using .loc[row_indexer,col_indexer] = value instead\n",
      "\n",
      "See the caveats in the documentation: https://pandas.pydata.org/pandas-docs/stable/user_guide/indexing.html#returning-a-view-versus-a-copy\n",
      "C:\\Users\\andyl\\anaconda3\\envs\\alpacaenv\\lib\\site-packages\\ipykernel_launcher.py:28: SettingWithCopyWarning: \n",
      "A value is trying to be set on a copy of a slice from a DataFrame.\n",
      "Try using .loc[row_indexer,col_indexer] = value instead\n",
      "\n",
      "See the caveats in the documentation: https://pandas.pydata.org/pandas-docs/stable/user_guide/indexing.html#returning-a-view-versus-a-copy\n",
      "C:\\Users\\andyl\\anaconda3\\envs\\alpacaenv\\lib\\site-packages\\ipykernel_launcher.py:17: SettingWithCopyWarning: \n",
      "A value is trying to be set on a copy of a slice from a DataFrame.\n",
      "Try using .loc[row_indexer,col_indexer] = value instead\n",
      "\n",
      "See the caveats in the documentation: https://pandas.pydata.org/pandas-docs/stable/user_guide/indexing.html#returning-a-view-versus-a-copy\n",
      "C:\\Users\\andyl\\anaconda3\\envs\\alpacaenv\\lib\\site-packages\\ipykernel_launcher.py:18: SettingWithCopyWarning: \n",
      "A value is trying to be set on a copy of a slice from a DataFrame.\n",
      "Try using .loc[row_indexer,col_indexer] = value instead\n",
      "\n",
      "See the caveats in the documentation: https://pandas.pydata.org/pandas-docs/stable/user_guide/indexing.html#returning-a-view-versus-a-copy\n",
      "C:\\Users\\andyl\\anaconda3\\envs\\alpacaenv\\lib\\site-packages\\ipykernel_launcher.py:19: SettingWithCopyWarning: \n",
      "A value is trying to be set on a copy of a slice from a DataFrame.\n",
      "Try using .loc[row_indexer,col_indexer] = value instead\n",
      "\n",
      "See the caveats in the documentation: https://pandas.pydata.org/pandas-docs/stable/user_guide/indexing.html#returning-a-view-versus-a-copy\n",
      "C:\\Users\\andyl\\anaconda3\\envs\\alpacaenv\\lib\\site-packages\\ipykernel_launcher.py:20: SettingWithCopyWarning: \n",
      "A value is trying to be set on a copy of a slice from a DataFrame.\n",
      "Try using .loc[row_indexer,col_indexer] = value instead\n",
      "\n",
      "See the caveats in the documentation: https://pandas.pydata.org/pandas-docs/stable/user_guide/indexing.html#returning-a-view-versus-a-copy\n",
      "C:\\Users\\andyl\\anaconda3\\envs\\alpacaenv\\lib\\site-packages\\ipykernel_launcher.py:21: SettingWithCopyWarning: \n",
      "A value is trying to be set on a copy of a slice from a DataFrame.\n",
      "Try using .loc[row_indexer,col_indexer] = value instead\n",
      "\n",
      "See the caveats in the documentation: https://pandas.pydata.org/pandas-docs/stable/user_guide/indexing.html#returning-a-view-versus-a-copy\n"
     ]
    },
    {
     "data": {
      "text/plain": "Asset Coverage           2.71\nInterest Coverage       27.13\nDebt Service Coverage    0.41\nName: Debt Coverage Ratios, dtype: float64"
     },
     "execution_count": 15,
     "metadata": {},
     "output_type": "execute_result"
    }
   ],
   "source": [
    "def debt_coverage_analysis():\r\n",
    "    complete_inc_stmt_df = inc_stmt_function()\r\n",
    "    complete_bal_sht_df = bal_sht_function() \r\n",
    "    financial_analysis_df = fundamental_analysis()\r\n",
    "\r\n",
    "    debt_coverage_ratio = financial_analysis_df['Debt Coverage Ratios'].dropna()\r\n",
    "\r\n",
    "    return debt_coverage_ratio\r\n",
    "\r\n",
    "debt_coverage_analysis()"
   ]
  },
  {
   "cell_type": "code",
   "execution_count": null,
   "metadata": {},
   "outputs": [],
   "source": []
  },
  {
   "cell_type": "code",
   "execution_count": null,
   "metadata": {},
   "outputs": [],
   "source": []
  },
  {
   "cell_type": "code",
   "execution_count": null,
   "metadata": {},
   "outputs": [
    {
     "ename": "SyntaxError",
     "evalue": "unexpected EOF while parsing (<ipython-input-16-efc99c40044d>, line 1)",
     "output_type": "error",
     "traceback": [
      "\u001b[1;36m  File \u001b[1;32m\"<ipython-input-16-efc99c40044d>\"\u001b[1;36m, line \u001b[1;32m1\u001b[0m\n\u001b[1;33m    def wacc():\u001b[0m\n\u001b[1;37m               ^\u001b[0m\n\u001b[1;31mSyntaxError\u001b[0m\u001b[1;31m:\u001b[0m unexpected EOF while parsing\n"
     ]
    }
   ],
   "source": [
    "def wacc():"
   ]
  },
  {
   "cell_type": "code",
   "execution_count": null,
   "metadata": {},
   "outputs": [],
   "source": [
    "def cost_of_equity:()"
   ]
  },
  {
   "cell_type": "code",
   "execution_count": null,
   "metadata": {},
   "outputs": [
    {
     "data": {
      "text/plain": "0.18323402343299922"
     },
     "execution_count": 34,
     "metadata": {},
     "output_type": "execute_result"
    }
   ],
   "source": [
    "\r\n"
   ]
  },
  {
   "cell_type": "code",
   "execution_count": null,
   "metadata": {},
   "outputs": [],
   "source": []
  },
  {
   "cell_type": "code",
   "execution_count": null,
   "metadata": {},
   "outputs": [],
   "source": []
  },
  {
   "cell_type": "code",
   "execution_count": null,
   "metadata": {},
   "outputs": [],
   "source": []
  },
  {
   "cell_type": "code",
   "execution_count": null,
   "metadata": {},
   "outputs": [],
   "source": []
  },
  {
   "cell_type": "code",
   "execution_count": null,
   "metadata": {},
   "outputs": [],
   "source": []
  },
  {
   "cell_type": "code",
   "execution_count": null,
   "metadata": {},
   "outputs": [],
   "source": []
  },
  {
   "cell_type": "code",
   "execution_count": null,
   "metadata": {},
   "outputs": [],
   "source": []
  },
  {
   "cell_type": "code",
   "execution_count": null,
   "metadata": {},
   "outputs": [
    {
     "ename": "NameError",
     "evalue": "name 'ticker_data' is not defined",
     "output_type": "error",
     "traceback": [
      "\u001b[1;31m---------------------------------------------------------------------------\u001b[0m",
      "\u001b[1;31mNameError\u001b[0m                                 Traceback (most recent call last)",
      "\u001b[1;32m<ipython-input-35-a074dbec770d>\u001b[0m in \u001b[0;36m<module>\u001b[1;34m\u001b[0m\n\u001b[0;32m      2\u001b[0m \u001b[1;33m\u001b[0m\u001b[0m\n\u001b[0;32m      3\u001b[0m MC = MCSimulation(\n\u001b[1;32m----> 4\u001b[1;33m     \u001b[0mportfolio_data\u001b[0m \u001b[1;33m=\u001b[0m \u001b[0mticker_data\u001b[0m\u001b[1;33m,\u001b[0m\u001b[1;33m\u001b[0m\u001b[1;33m\u001b[0m\u001b[0m\n\u001b[0m\u001b[0;32m      5\u001b[0m     \u001b[0mweights\u001b[0m\u001b[1;33m=\u001b[0m \u001b[1;33m[\u001b[0m\u001b[1;36m1\u001b[0m\u001b[1;33m]\u001b[0m\u001b[1;33m,\u001b[0m\u001b[1;33m\u001b[0m\u001b[1;33m\u001b[0m\u001b[0m\n\u001b[0;32m      6\u001b[0m     \u001b[0mnum_simulation\u001b[0m \u001b[1;33m=\u001b[0m \u001b[0mnum_sims\u001b[0m\u001b[1;33m,\u001b[0m\u001b[1;33m\u001b[0m\u001b[1;33m\u001b[0m\u001b[0m\n",
      "\u001b[1;31mNameError\u001b[0m: name 'ticker_data' is not defined"
     ]
    }
   ],
   "source": [
    "num_sims = 1000\n",
    "\n",
    "MC = MCSimulation(\n",
    "    portfolio_data = ticker_data,\n",
    "    weights= [1],\n",
    "    num_simulation = num_sims,\n",
    "    num_trading_days = 252*5    \n",
    ")\n",
    "\n",
    "pd.options.display.float_format = '{:,.6f}'.format\n",
    "\n",
    "MC.portfolio_data.tail()"
   ]
  },
  {
   "cell_type": "code",
   "execution_count": null,
   "metadata": {},
   "outputs": [
    {
     "name": "stdout",
     "output_type": "stream",
     "text": [
      "Running Monte Carlo simulation number 0.\n"
     ]
    },
    {
     "ename": "ValueError",
     "evalue": "Dot product shape mismatch, (1261, 2) vs (1,)",
     "output_type": "error",
     "traceback": [
      "\u001b[1;31m---------------------------------------------------------------------------\u001b[0m",
      "\u001b[1;31mValueError\u001b[0m                                Traceback (most recent call last)",
      "\u001b[1;32m<ipython-input-27-3fcf562b9b85>\u001b[0m in \u001b[0;36m<module>\u001b[1;34m\u001b[0m\n\u001b[0;32m      1\u001b[0m \u001b[0mpd\u001b[0m\u001b[1;33m.\u001b[0m\u001b[0moptions\u001b[0m\u001b[1;33m.\u001b[0m\u001b[0mdisplay\u001b[0m\u001b[1;33m.\u001b[0m\u001b[0mfloat_format\u001b[0m \u001b[1;33m=\u001b[0m \u001b[1;34m'{:,.6f}'\u001b[0m\u001b[1;33m.\u001b[0m\u001b[0mformat\u001b[0m\u001b[1;33m\u001b[0m\u001b[1;33m\u001b[0m\u001b[0m\n\u001b[0;32m      2\u001b[0m \u001b[1;33m\u001b[0m\u001b[0m\n\u001b[1;32m----> 3\u001b[1;33m \u001b[0mMC\u001b[0m\u001b[1;33m.\u001b[0m\u001b[0mcalc_cumulative_return\u001b[0m\u001b[1;33m(\u001b[0m\u001b[1;33m)\u001b[0m\u001b[1;33m\u001b[0m\u001b[1;33m\u001b[0m\u001b[0m\n\u001b[0m",
      "\u001b[1;32mc:\\Users\\andyl\\Documents\\Fintech\\Self Practice\\DCF\\MCForecastTools.py\u001b[0m in \u001b[0;36mcalc_cumulative_return\u001b[1;34m(self)\u001b[0m\n\u001b[0;32m    112\u001b[0m \u001b[1;33m\u001b[0m\u001b[0m\n\u001b[0;32m    113\u001b[0m             \u001b[1;31m# Use the `dot` function with the weights to multiply weights with each column's simulated daily returns\u001b[0m\u001b[1;33m\u001b[0m\u001b[1;33m\u001b[0m\u001b[1;33m\u001b[0m\u001b[0m\n\u001b[1;32m--> 114\u001b[1;33m             \u001b[0msim_df\u001b[0m \u001b[1;33m=\u001b[0m \u001b[0msim_df\u001b[0m\u001b[1;33m.\u001b[0m\u001b[0mdot\u001b[0m\u001b[1;33m(\u001b[0m\u001b[0mself\u001b[0m\u001b[1;33m.\u001b[0m\u001b[0mweights\u001b[0m\u001b[1;33m)\u001b[0m\u001b[1;33m\u001b[0m\u001b[1;33m\u001b[0m\u001b[0m\n\u001b[0m\u001b[0;32m    115\u001b[0m \u001b[1;33m\u001b[0m\u001b[0m\n\u001b[0;32m    116\u001b[0m             \u001b[1;31m# Calculate the normalized, cumulative return series\u001b[0m\u001b[1;33m\u001b[0m\u001b[1;33m\u001b[0m\u001b[1;33m\u001b[0m\u001b[0m\n",
      "\u001b[1;32m~\\anaconda3\\envs\\alpacaenv\\lib\\site-packages\\pandas\\core\\frame.py\u001b[0m in \u001b[0;36mdot\u001b[1;34m(self, other)\u001b[0m\n\u001b[0;32m   1195\u001b[0m             \u001b[1;32mif\u001b[0m \u001b[0mlvals\u001b[0m\u001b[1;33m.\u001b[0m\u001b[0mshape\u001b[0m\u001b[1;33m[\u001b[0m\u001b[1;36m1\u001b[0m\u001b[1;33m]\u001b[0m \u001b[1;33m!=\u001b[0m \u001b[0mrvals\u001b[0m\u001b[1;33m.\u001b[0m\u001b[0mshape\u001b[0m\u001b[1;33m[\u001b[0m\u001b[1;36m0\u001b[0m\u001b[1;33m]\u001b[0m\u001b[1;33m:\u001b[0m\u001b[1;33m\u001b[0m\u001b[1;33m\u001b[0m\u001b[0m\n\u001b[0;32m   1196\u001b[0m                 raise ValueError(\n\u001b[1;32m-> 1197\u001b[1;33m                     \u001b[1;34mf\"Dot product shape mismatch, {lvals.shape} vs {rvals.shape}\"\u001b[0m\u001b[1;33m\u001b[0m\u001b[1;33m\u001b[0m\u001b[0m\n\u001b[0m\u001b[0;32m   1198\u001b[0m                 )\n\u001b[0;32m   1199\u001b[0m \u001b[1;33m\u001b[0m\u001b[0m\n",
      "\u001b[1;31mValueError\u001b[0m: Dot product shape mismatch, (1261, 2) vs (1,)"
     ]
    }
   ],
   "source": [
    "pd.options.display.float_format = '{:,.6f}'.format\n",
    "\n",
    "MC.calc_cumulative_return()"
   ]
  },
  {
   "cell_type": "code",
   "execution_count": null,
   "metadata": {},
   "outputs": [
    {
     "data": {
      "text/html": "<div>\n<style scoped>\n    .dataframe tbody tr th:only-of-type {\n        vertical-align: middle;\n    }\n\n    .dataframe tbody tr th {\n        vertical-align: top;\n    }\n\n    .dataframe thead th {\n        text-align: right;\n    }\n</style>\n<table border=\"1\" class=\"dataframe\">\n  <thead>\n    <tr style=\"text-align: right;\">\n      <th></th>\n      <th>mean</th>\n      <th>median</th>\n      <th>min</th>\n      <th>max</th>\n    </tr>\n  </thead>\n  <tbody>\n    <tr>\n      <th>0</th>\n      <td>1.000000</td>\n      <td>1.000000</td>\n      <td>1.000000</td>\n      <td>1.000000</td>\n    </tr>\n    <tr>\n      <th>1</th>\n      <td>1.004468</td>\n      <td>1.003876</td>\n      <td>0.882906</td>\n      <td>1.137881</td>\n    </tr>\n    <tr>\n      <th>2</th>\n      <td>1.004266</td>\n      <td>1.002594</td>\n      <td>0.859274</td>\n      <td>1.200592</td>\n    </tr>\n    <tr>\n      <th>3</th>\n      <td>1.005621</td>\n      <td>1.003987</td>\n      <td>0.839989</td>\n      <td>1.265753</td>\n    </tr>\n    <tr>\n      <th>4</th>\n      <td>1.006728</td>\n      <td>1.002419</td>\n      <td>0.825796</td>\n      <td>1.277628</td>\n    </tr>\n  </tbody>\n</table>\n</div>",
      "text/plain": "      mean   median      min      max\n0 1.000000 1.000000 1.000000 1.000000\n1 1.004468 1.003876 0.882906 1.137881\n2 1.004266 1.002594 0.859274 1.200592\n3 1.005621 1.003987 0.839989 1.265753\n4 1.006728 1.002419 0.825796 1.277628"
     },
     "execution_count": 23,
     "metadata": {},
     "output_type": "execute_result"
    },
    {
     "data": {
      "image/png": "[encoded data removed]",
      "text/plain": "<Figure size 432x288 with 1 Axes>"
     },
     "metadata": {
      "needs_background": "light"
     },
     "output_type": "display_data"
    }
   ],
   "source": [
    "plot = MC.plot_simulation()\n",
    "\n",
    "simulated_returns_data = {\n",
    "    'mean': list(MC.simulated_return.mean(axis=1)),\n",
    "    'median': list(MC.simulated_return.median(axis=1)),\n",
    "    'min': list(MC.simulated_return.min(axis=1)),\n",
    "    'max': list(MC.simulated_return.max(axis=1)),\n",
    "}\n",
    "\n",
    "\n",
    "pd.options.display.float_format = '{:,.6f}'.format\n",
    "df_simulated_returns = pd.DataFrame(simulated_returns_data)\n",
    "df_simulated_returns.head()"
   ]
  },
  {
   "cell_type": "code",
   "execution_count": null,
   "metadata": {},
   "outputs": [
    {
     "data": {
      "image/png": "[encoded data removed]",
      "text/plain": "<Figure size 432x288 with 1 Axes>"
     },
     "metadata": {
      "needs_background": "light"
     },
     "output_type": "display_data"
    }
   ],
   "source": [
    "dist_plot = MC.plot_distribution()"
   ]
  },
  {
   "cell_type": "code",
   "execution_count": null,
   "metadata": {},
   "outputs": [],
   "source": []
  }
 ],
 "metadata": {
  "kernelspec": {
   "display_name": "Python 3.7.9 64-bit ('alpacaenv': conda)",
   "name": "python379jvsc74a57bd0a95626f7f493f725f31f434fd5504d228c743551e511e92c1ee5ce33b2a6e808"
  },
  "language_info": {
   "codemirror_mode": {
    "name": "ipython",
    "version": 3
   },
   "file_extension": ".py",
   "mimetype": "text/x-python",
   "name": "python",
   "nbconvert_exporter": "python",
   "pygments_lexer": "ipython3",
   "version": "3.7.9"
  },
  "orig_nbformat": 2
 },
 "nbformat": 4,
 "nbformat_minor": 2
}